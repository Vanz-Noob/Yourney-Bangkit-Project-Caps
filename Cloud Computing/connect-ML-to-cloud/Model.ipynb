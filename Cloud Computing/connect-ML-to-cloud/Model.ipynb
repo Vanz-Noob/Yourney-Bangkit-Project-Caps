{
 "cells": [
  {
   "cell_type": "code",
   "execution_count": 60,
   "id": "03f36b95",
   "metadata": {},
   "outputs": [],
   "source": [
    "import tweepy\n",
    "import csv\n",
    "import string\n",
    "import pandas as pd\n",
    "import numpy as np\n",
    "import matplotlib.pyplot as plt\n",
    "import re\n",
    "import seaborn as sns\n",
    "from sklearn import model_selection\n",
    "from sklearn.naive_bayes import MultinomialNB\n",
    "from sklearn.model_selection import train_test_split\n",
    "from sklearn.feature_extraction.text import CountVectorizer\n",
    "from sklearn.feature_extraction.text import TfidfTransformer\n",
    "from sklearn.metrics import accuracy_score\n",
    "from sklearn.preprocessing import LabelEncoder\n",
    "from sklearn.metrics import classification_report, accuracy_score, confusion_matrix\n",
    "from sklearn.utils.multiclass import unique_labels\n",
    "import seaborn as sns\n",
    "import matplotlib.pyplot as plt"
   ]
  },
  {
   "cell_type": "code",
   "execution_count": 2,
   "id": "8581086d",
   "metadata": {},
   "outputs": [],
   "source": [
    "config = configparser.ConfigParser()\n",
    "config.read('config.ini')\n",
    "\n",
    "api_key = \"9dO4xdinSEjyxtBfjzueGFKeW\"\n",
    "api_key_secret = \"OrnvT252rsngPhq5lxdBwPh91sNBtsWzFNhW3S6pN8mHftRhu3\"\n",
    "access_token = \"811343210777710592-uBEUOZWtTFAFf120csjmZSAKDUPySmZ\"\n",
    "access_token_secret = \"dnUsgu5ALWnKz3EJzeaGMg2oatVBI74MEqtN4g8rQjhaO\"\n",
    "\n",
    "# api_key = config['twitter']['api_key']\n",
    "# api_key_secret = config['twitter']['api_key_secret']\n",
    "# access_token = config['twitter']['access_token']\n",
    "# access_token_secret = config['twitter']['access_token_secret']\n",
    "\n",
    "auth = tweepy.OAuthHandler(api_key, api_key_secret)\n",
    "auth.set_access_token(access_token, access_token_secret)\n",
    "api = tweepy.API(auth)"
   ]
  },
  {
   "cell_type": "code",
   "execution_count": 3,
   "id": "aa3374c1",
   "metadata": {},
   "outputs": [],
   "source": [
    "def category_tweet_retriever(query):\n",
    "    tweets = []\n",
    "    \n",
    "    for tweet in tweepy.Cursor(api.search_tweets, \n",
    "                               q=query, \n",
    "                               lang='id', \n",
    "                               tweet_mode=\"extended\").items(1000):\n",
    "        tweets.append([tweet.created_at, tweet.author.screen_name, tweet.full_text])\n",
    "        \n",
    "    return tweets"
   ]
  },
  {
   "cell_type": "code",
   "execution_count": 4,
   "id": "45f90112",
   "metadata": {},
   "outputs": [],
   "source": [
    "df_id = pd.read_csv(\"stopwords_id.txt\", header=None)\n",
    "stopwords_id = df_id[0].to_list()\n",
    "\n",
    "df_en = pd.read_csv(\"stopwords_en.txt\", header=None)\n",
    "stopwords_en = df_en[0].to_list()\n",
    "\n",
    "def clean_tweet(tweet):    \n",
    "    import stopwordsiso as stopwords\n",
    "\n",
    "    process = tweet.lower()\n",
    "    process = process.split()\n",
    "    process = [word for word in process if not process in stopwords_en]\n",
    "    process = [word for word in process if not process in stopwords_id]\n",
    "    process = \" \".join(word for word in process)\n",
    "    process = re.sub(\"'\", \"\", process) # to avoid removing contractions in english\n",
    "    process = re.sub(\"^rt \", \"\", process)\n",
    "    process = re.sub(\"@[A-Za-z0-9_]+\",\"\", process)\n",
    "    process = re.sub(\"#\",\"\", process)\n",
    "    process = re.sub(r'http\\S+', '', process)\n",
    "    process = re.sub('[()!?]', ' ', process)\n",
    "    process = re.sub('\\[.*?\\]',' ', process)\n",
    "    process = re.sub(\"[^a-z0-9]\",\" \", process)\n",
    "    return process"
   ]
  },
  {
   "cell_type": "code",
   "execution_count": 8,
   "id": "32b697e1",
   "metadata": {},
   "outputs": [],
   "source": [
    "def clean_spaces(tweet):\n",
    "    process = tweet\n",
    "    process = process.split()\n",
    "    process = \" \".join(word for word in process)\n",
    "    return process"
   ]
  },
  {
   "cell_type": "code",
   "execution_count": 41,
   "id": "8d81344a",
   "metadata": {},
   "outputs": [],
   "source": [
    "def splitter(tweet):\n",
    "    return tweet.split()"
   ]
  },
  {
   "cell_type": "code",
   "execution_count": 66,
   "id": "5a3681c3",
   "metadata": {},
   "outputs": [],
   "source": [
    "def user_tweet_retriever(username):\n",
    "    tweets = []\n",
    "    \n",
    "    for tweet in api.user_timeline(id=username,\n",
    "                                   count=1000,\n",
    "                                   tweet_mode=\"extended\"):\n",
    "        tweets.append([tweet.created_at, tweet.full_text])\n",
    "        \n",
    "    return tweets"
   ]
  },
  {
   "cell_type": "markdown",
   "id": "591d168f",
   "metadata": {},
   "source": [
    "# Data Retrieval"
   ]
  },
  {
   "cell_type": "markdown",
   "id": "706a1bde",
   "metadata": {},
   "source": [
    "## Gunung"
   ]
  },
  {
   "cell_type": "code",
   "execution_count": 9,
   "id": "026aa68c",
   "metadata": {},
   "outputs": [],
   "source": [
    "header = [\"created_at\", \"author\", \"tweet\"]\n",
    "df_gunung = pd.DataFrame(category_tweet_retriever(\"gunung\"), columns=header)"
   ]
  },
  {
   "cell_type": "code",
   "execution_count": 10,
   "id": "4f59da74",
   "metadata": {},
   "outputs": [
    {
     "name": "stdout",
     "output_type": "stream",
     "text": [
      "(1000, 3)\n"
     ]
    },
    {
     "data": {
      "text/html": [
       "<div>\n",
       "<style scoped>\n",
       "    .dataframe tbody tr th:only-of-type {\n",
       "        vertical-align: middle;\n",
       "    }\n",
       "\n",
       "    .dataframe tbody tr th {\n",
       "        vertical-align: top;\n",
       "    }\n",
       "\n",
       "    .dataframe thead th {\n",
       "        text-align: right;\n",
       "    }\n",
       "</style>\n",
       "<table border=\"1\" class=\"dataframe\">\n",
       "  <thead>\n",
       "    <tr style=\"text-align: right;\">\n",
       "      <th></th>\n",
       "      <th>created_at</th>\n",
       "      <th>author</th>\n",
       "      <th>tweet</th>\n",
       "    </tr>\n",
       "  </thead>\n",
       "  <tbody>\n",
       "    <tr>\n",
       "      <th>0</th>\n",
       "      <td>2022-11-04 08:00:27+00:00</td>\n",
       "      <td>Rutha91465781</td>\n",
       "      <td>Sahabat Ganjar bagikan ratusan paket di Gunung...</td>\n",
       "    </tr>\n",
       "    <tr>\n",
       "      <th>1</th>\n",
       "      <td>2022-11-04 08:00:09+00:00</td>\n",
       "      <td>mailabendia</td>\n",
       "      <td>Sahabat Ganjar bagikan ratusan paket sembako d...</td>\n",
       "    </tr>\n",
       "    <tr>\n",
       "      <th>2</th>\n",
       "      <td>2022-11-04 07:59:41+00:00</td>\n",
       "      <td>ikirikii</td>\n",
       "      <td>Lagi-lagi si kaki berjalan sendiri, mengulang ...</td>\n",
       "    </tr>\n",
       "    <tr>\n",
       "      <th>3</th>\n",
       "      <td>2022-11-04 07:59:16+00:00</td>\n",
       "      <td>Andpratama17</td>\n",
       "      <td>RT @pagarhijaumnhn: [Terbaru]\\n\"Terlepas dari ...</td>\n",
       "    </tr>\n",
       "    <tr>\n",
       "      <th>4</th>\n",
       "      <td>2022-11-04 07:59:06+00:00</td>\n",
       "      <td>Ladawn77621798</td>\n",
       "      <td>Sahabat Ganjar bagikan ratusan paket di Gunung...</td>\n",
       "    </tr>\n",
       "  </tbody>\n",
       "</table>\n",
       "</div>"
      ],
      "text/plain": [
       "                 created_at          author  \\\n",
       "0 2022-11-04 08:00:27+00:00   Rutha91465781   \n",
       "1 2022-11-04 08:00:09+00:00     mailabendia   \n",
       "2 2022-11-04 07:59:41+00:00        ikirikii   \n",
       "3 2022-11-04 07:59:16+00:00    Andpratama17   \n",
       "4 2022-11-04 07:59:06+00:00  Ladawn77621798   \n",
       "\n",
       "                                               tweet  \n",
       "0  Sahabat Ganjar bagikan ratusan paket di Gunung...  \n",
       "1  Sahabat Ganjar bagikan ratusan paket sembako d...  \n",
       "2  Lagi-lagi si kaki berjalan sendiri, mengulang ...  \n",
       "3  RT @pagarhijaumnhn: [Terbaru]\\n\"Terlepas dari ...  \n",
       "4  Sahabat Ganjar bagikan ratusan paket di Gunung...  "
      ]
     },
     "execution_count": 10,
     "metadata": {},
     "output_type": "execute_result"
    }
   ],
   "source": [
    "print(df_gunung.shape)\n",
    "df_gunung.head()"
   ]
  },
  {
   "cell_type": "code",
   "execution_count": 13,
   "id": "6fb7c738",
   "metadata": {
    "scrolled": true
   },
   "outputs": [
    {
     "data": {
      "text/html": [
       "<div>\n",
       "<style scoped>\n",
       "    .dataframe tbody tr th:only-of-type {\n",
       "        vertical-align: middle;\n",
       "    }\n",
       "\n",
       "    .dataframe tbody tr th {\n",
       "        vertical-align: top;\n",
       "    }\n",
       "\n",
       "    .dataframe thead th {\n",
       "        text-align: right;\n",
       "    }\n",
       "</style>\n",
       "<table border=\"1\" class=\"dataframe\">\n",
       "  <thead>\n",
       "    <tr style=\"text-align: right;\">\n",
       "      <th></th>\n",
       "      <th>created_at</th>\n",
       "      <th>author</th>\n",
       "      <th>tweet</th>\n",
       "    </tr>\n",
       "  </thead>\n",
       "  <tbody>\n",
       "    <tr>\n",
       "      <th>0</th>\n",
       "      <td>2022-11-04 08:00:27+00:00</td>\n",
       "      <td>Rutha91465781</td>\n",
       "      <td>sahabat ganjar bagikan ratusan paket di gunung...</td>\n",
       "    </tr>\n",
       "    <tr>\n",
       "      <th>1</th>\n",
       "      <td>2022-11-04 08:00:09+00:00</td>\n",
       "      <td>mailabendia</td>\n",
       "      <td>sahabat ganjar bagikan ratusan paket sembako d...</td>\n",
       "    </tr>\n",
       "    <tr>\n",
       "      <th>2</th>\n",
       "      <td>2022-11-04 07:59:41+00:00</td>\n",
       "      <td>ikirikii</td>\n",
       "      <td>lagi lagi si kaki berjalan sendiri mengulang d...</td>\n",
       "    </tr>\n",
       "    <tr>\n",
       "      <th>3</th>\n",
       "      <td>2022-11-04 07:59:16+00:00</td>\n",
       "      <td>Andpratama17</td>\n",
       "      <td>terlepas dari banyaknya cibiran yang datang si...</td>\n",
       "    </tr>\n",
       "    <tr>\n",
       "      <th>4</th>\n",
       "      <td>2022-11-04 07:59:06+00:00</td>\n",
       "      <td>Ladawn77621798</td>\n",
       "      <td>sahabat ganjar bagikan ratusan paket di gunung...</td>\n",
       "    </tr>\n",
       "  </tbody>\n",
       "</table>\n",
       "</div>"
      ],
      "text/plain": [
       "                 created_at          author  \\\n",
       "0 2022-11-04 08:00:27+00:00   Rutha91465781   \n",
       "1 2022-11-04 08:00:09+00:00     mailabendia   \n",
       "2 2022-11-04 07:59:41+00:00        ikirikii   \n",
       "3 2022-11-04 07:59:16+00:00    Andpratama17   \n",
       "4 2022-11-04 07:59:06+00:00  Ladawn77621798   \n",
       "\n",
       "                                               tweet  \n",
       "0  sahabat ganjar bagikan ratusan paket di gunung...  \n",
       "1  sahabat ganjar bagikan ratusan paket sembako d...  \n",
       "2  lagi lagi si kaki berjalan sendiri mengulang d...  \n",
       "3  terlepas dari banyaknya cibiran yang datang si...  \n",
       "4  sahabat ganjar bagikan ratusan paket di gunung...  "
      ]
     },
     "execution_count": 13,
     "metadata": {},
     "output_type": "execute_result"
    }
   ],
   "source": [
    "df_gunung['tweet'] = df_gunung['tweet'].apply(lambda x: clean_tweet(x))\n",
    "df_gunung['tweet'] = df_gunung['tweet'].apply(lambda x: clean_spaces(x))\n",
    "df_gunung.head()"
   ]
  },
  {
   "cell_type": "markdown",
   "id": "43e5a9ba",
   "metadata": {},
   "source": [
    "## Pantai"
   ]
  },
  {
   "cell_type": "code",
   "execution_count": 15,
   "id": "666c5ef5",
   "metadata": {},
   "outputs": [],
   "source": [
    "header = [\"created_at\", \"author\", \"tweet\"]\n",
    "df_pantai = pd.DataFrame(category_tweet_retriever(\"pantai\"), columns=header)"
   ]
  },
  {
   "cell_type": "code",
   "execution_count": 17,
   "id": "2f24791f",
   "metadata": {},
   "outputs": [
    {
     "name": "stdout",
     "output_type": "stream",
     "text": [
      "(1000, 3)\n"
     ]
    },
    {
     "data": {
      "text/html": [
       "<div>\n",
       "<style scoped>\n",
       "    .dataframe tbody tr th:only-of-type {\n",
       "        vertical-align: middle;\n",
       "    }\n",
       "\n",
       "    .dataframe tbody tr th {\n",
       "        vertical-align: top;\n",
       "    }\n",
       "\n",
       "    .dataframe thead th {\n",
       "        text-align: right;\n",
       "    }\n",
       "</style>\n",
       "<table border=\"1\" class=\"dataframe\">\n",
       "  <thead>\n",
       "    <tr style=\"text-align: right;\">\n",
       "      <th></th>\n",
       "      <th>created_at</th>\n",
       "      <th>author</th>\n",
       "      <th>tweet</th>\n",
       "    </tr>\n",
       "  </thead>\n",
       "  <tbody>\n",
       "    <tr>\n",
       "      <th>0</th>\n",
       "      <td>2022-11-04 08:24:01+00:00</td>\n",
       "      <td>vaniakeisya_</td>\n",
       "      <td>‼ PROMO DISKON ‼\\n\\nPorto - Sandal Wanita Sand...</td>\n",
       "    </tr>\n",
       "    <tr>\n",
       "      <th>1</th>\n",
       "      <td>2022-11-04 08:23:44+00:00</td>\n",
       "      <td>Kemenparekraf</td>\n",
       "      <td>Menikmati jazz di tengah kota ✅\\nMenikmati jaz...</td>\n",
       "    </tr>\n",
       "    <tr>\n",
       "      <th>2</th>\n",
       "      <td>2022-11-04 08:23:37+00:00</td>\n",
       "      <td>azrisaadon</td>\n",
       "      <td>RT @maisanism_: @CallSigMaverick @mynewshub @a...</td>\n",
       "    </tr>\n",
       "    <tr>\n",
       "      <th>3</th>\n",
       "      <td>2022-11-04 08:23:36+00:00</td>\n",
       "      <td>zhuonigning</td>\n",
       "      <td>@JanoIee kakaaak! mau ikut aku ke pantai gak?</td>\n",
       "    </tr>\n",
       "    <tr>\n",
       "      <th>4</th>\n",
       "      <td>2022-11-04 08:22:53+00:00</td>\n",
       "      <td>AnnyoungBlinkeu</td>\n",
       "      <td>RT @A_DeyJKT48: sunsetann pinggir pantai palin...</td>\n",
       "    </tr>\n",
       "  </tbody>\n",
       "</table>\n",
       "</div>"
      ],
      "text/plain": [
       "                 created_at           author  \\\n",
       "0 2022-11-04 08:24:01+00:00     vaniakeisya_   \n",
       "1 2022-11-04 08:23:44+00:00    Kemenparekraf   \n",
       "2 2022-11-04 08:23:37+00:00       azrisaadon   \n",
       "3 2022-11-04 08:23:36+00:00      zhuonigning   \n",
       "4 2022-11-04 08:22:53+00:00  AnnyoungBlinkeu   \n",
       "\n",
       "                                               tweet  \n",
       "0  ‼ PROMO DISKON ‼\\n\\nPorto - Sandal Wanita Sand...  \n",
       "1  Menikmati jazz di tengah kota ✅\\nMenikmati jaz...  \n",
       "2  RT @maisanism_: @CallSigMaverick @mynewshub @a...  \n",
       "3      @JanoIee kakaaak! mau ikut aku ke pantai gak?  \n",
       "4  RT @A_DeyJKT48: sunsetann pinggir pantai palin...  "
      ]
     },
     "execution_count": 17,
     "metadata": {},
     "output_type": "execute_result"
    }
   ],
   "source": [
    "print(df_pantai.shape)\n",
    "df_pantai.head()"
   ]
  },
  {
   "cell_type": "code",
   "execution_count": 18,
   "id": "b0303d92",
   "metadata": {
    "scrolled": true
   },
   "outputs": [
    {
     "data": {
      "text/html": [
       "<div>\n",
       "<style scoped>\n",
       "    .dataframe tbody tr th:only-of-type {\n",
       "        vertical-align: middle;\n",
       "    }\n",
       "\n",
       "    .dataframe tbody tr th {\n",
       "        vertical-align: top;\n",
       "    }\n",
       "\n",
       "    .dataframe thead th {\n",
       "        text-align: right;\n",
       "    }\n",
       "</style>\n",
       "<table border=\"1\" class=\"dataframe\">\n",
       "  <thead>\n",
       "    <tr style=\"text-align: right;\">\n",
       "      <th></th>\n",
       "      <th>created_at</th>\n",
       "      <th>author</th>\n",
       "      <th>tweet</th>\n",
       "    </tr>\n",
       "  </thead>\n",
       "  <tbody>\n",
       "    <tr>\n",
       "      <th>0</th>\n",
       "      <td>2022-11-04 08:24:01+00:00</td>\n",
       "      <td>vaniakeisya_</td>\n",
       "      <td>promo diskon porto sandal wanita sandal jepit ...</td>\n",
       "    </tr>\n",
       "    <tr>\n",
       "      <th>1</th>\n",
       "      <td>2022-11-04 08:23:44+00:00</td>\n",
       "      <td>Kemenparekraf</td>\n",
       "      <td>menikmati jazz di tengah kota menikmati jazz d...</td>\n",
       "    </tr>\n",
       "    <tr>\n",
       "      <th>2</th>\n",
       "      <td>2022-11-04 08:23:37+00:00</td>\n",
       "      <td>azrisaadon</td>\n",
       "      <td>panta</td>\n",
       "    </tr>\n",
       "    <tr>\n",
       "      <th>3</th>\n",
       "      <td>2022-11-04 08:23:36+00:00</td>\n",
       "      <td>zhuonigning</td>\n",
       "      <td>kakaaak mau ikut aku ke pantai gak</td>\n",
       "    </tr>\n",
       "    <tr>\n",
       "      <th>4</th>\n",
       "      <td>2022-11-04 08:22:53+00:00</td>\n",
       "      <td>AnnyoungBlinkeu</td>\n",
       "      <td>sunsetann pinggir pantai paling enk sambil mak...</td>\n",
       "    </tr>\n",
       "  </tbody>\n",
       "</table>\n",
       "</div>"
      ],
      "text/plain": [
       "                 created_at           author  \\\n",
       "0 2022-11-04 08:24:01+00:00     vaniakeisya_   \n",
       "1 2022-11-04 08:23:44+00:00    Kemenparekraf   \n",
       "2 2022-11-04 08:23:37+00:00       azrisaadon   \n",
       "3 2022-11-04 08:23:36+00:00      zhuonigning   \n",
       "4 2022-11-04 08:22:53+00:00  AnnyoungBlinkeu   \n",
       "\n",
       "                                               tweet  \n",
       "0  promo diskon porto sandal wanita sandal jepit ...  \n",
       "1  menikmati jazz di tengah kota menikmati jazz d...  \n",
       "2                                              panta  \n",
       "3                 kakaaak mau ikut aku ke pantai gak  \n",
       "4  sunsetann pinggir pantai paling enk sambil mak...  "
      ]
     },
     "execution_count": 18,
     "metadata": {},
     "output_type": "execute_result"
    }
   ],
   "source": [
    "df_pantai['tweet'] = df_pantai['tweet'].apply(lambda x: clean_tweet(x))\n",
    "df_pantai['tweet'] = df_pantai['tweet'].apply(lambda x: clean_spaces(x))\n",
    "df_pantai.head()"
   ]
  },
  {
   "cell_type": "code",
   "execution_count": 20,
   "id": "2cdd99e4",
   "metadata": {},
   "outputs": [
    {
     "name": "stdout",
     "output_type": "stream",
     "text": [
      "panta\n"
     ]
    }
   ],
   "source": [
    "print(df_pantai[\"tweet\"][2])"
   ]
  },
  {
   "cell_type": "markdown",
   "id": "41ae26f4",
   "metadata": {},
   "source": [
    "## Kuliner"
   ]
  },
  {
   "cell_type": "code",
   "execution_count": 21,
   "id": "3f88fada",
   "metadata": {},
   "outputs": [],
   "source": [
    "header = [\"created_at\", \"author\", \"tweet\"]\n",
    "df_kuliner = pd.DataFrame(category_tweet_retriever(\"kuliner\"), columns=header)"
   ]
  },
  {
   "cell_type": "code",
   "execution_count": 22,
   "id": "aaf6bfb5",
   "metadata": {},
   "outputs": [
    {
     "name": "stdout",
     "output_type": "stream",
     "text": [
      "(1000, 3)\n"
     ]
    },
    {
     "data": {
      "text/html": [
       "<div>\n",
       "<style scoped>\n",
       "    .dataframe tbody tr th:only-of-type {\n",
       "        vertical-align: middle;\n",
       "    }\n",
       "\n",
       "    .dataframe tbody tr th {\n",
       "        vertical-align: top;\n",
       "    }\n",
       "\n",
       "    .dataframe thead th {\n",
       "        text-align: right;\n",
       "    }\n",
       "</style>\n",
       "<table border=\"1\" class=\"dataframe\">\n",
       "  <thead>\n",
       "    <tr style=\"text-align: right;\">\n",
       "      <th></th>\n",
       "      <th>created_at</th>\n",
       "      <th>author</th>\n",
       "      <th>tweet</th>\n",
       "    </tr>\n",
       "  </thead>\n",
       "  <tbody>\n",
       "    <tr>\n",
       "      <th>0</th>\n",
       "      <td>2022-11-04 08:23:04+00:00</td>\n",
       "      <td>pretzeIove</td>\n",
       "      <td>@Jacksstanly @BenahiLuka @PAKRT147 @infotwitwo...</td>\n",
       "    </tr>\n",
       "    <tr>\n",
       "      <th>1</th>\n",
       "      <td>2022-11-04 08:21:42+00:00</td>\n",
       "      <td>gunsamudro_22</td>\n",
       "      <td>RT @itstikakid: Lontong mie Pak Sidjan, lumaya...</td>\n",
       "    </tr>\n",
       "    <tr>\n",
       "      <th>2</th>\n",
       "      <td>2022-11-04 08:20:54+00:00</td>\n",
       "      <td>bengkelpromosi</td>\n",
       "      <td>Bengkel Box Motor Delivery https://t.co/9TEUpb...</td>\n",
       "    </tr>\n",
       "    <tr>\n",
       "      <th>3</th>\n",
       "      <td>2022-11-04 08:20:32+00:00</td>\n",
       "      <td>VIVAlife_</td>\n",
       "      <td>RT @VIVAcoid: 4 Resep Asinan Sayur, Kuliner Nu...</td>\n",
       "    </tr>\n",
       "    <tr>\n",
       "      <th>4</th>\n",
       "      <td>2022-11-04 08:20:03+00:00</td>\n",
       "      <td>VIVAcoid</td>\n",
       "      <td>4 Resep Asinan Sayur, Kuliner Nusantara Khas B...</td>\n",
       "    </tr>\n",
       "  </tbody>\n",
       "</table>\n",
       "</div>"
      ],
      "text/plain": [
       "                 created_at          author  \\\n",
       "0 2022-11-04 08:23:04+00:00      pretzeIove   \n",
       "1 2022-11-04 08:21:42+00:00   gunsamudro_22   \n",
       "2 2022-11-04 08:20:54+00:00  bengkelpromosi   \n",
       "3 2022-11-04 08:20:32+00:00       VIVAlife_   \n",
       "4 2022-11-04 08:20:03+00:00        VIVAcoid   \n",
       "\n",
       "                                               tweet  \n",
       "0  @Jacksstanly @BenahiLuka @PAKRT147 @infotwitwo...  \n",
       "1  RT @itstikakid: Lontong mie Pak Sidjan, lumaya...  \n",
       "2  Bengkel Box Motor Delivery https://t.co/9TEUpb...  \n",
       "3  RT @VIVAcoid: 4 Resep Asinan Sayur, Kuliner Nu...  \n",
       "4  4 Resep Asinan Sayur, Kuliner Nusantara Khas B...  "
      ]
     },
     "execution_count": 22,
     "metadata": {},
     "output_type": "execute_result"
    }
   ],
   "source": [
    "print(df_kuliner.shape)\n",
    "df_kuliner.head()"
   ]
  },
  {
   "cell_type": "code",
   "execution_count": 23,
   "id": "21be5961",
   "metadata": {
    "scrolled": true
   },
   "outputs": [
    {
     "data": {
      "text/html": [
       "<div>\n",
       "<style scoped>\n",
       "    .dataframe tbody tr th:only-of-type {\n",
       "        vertical-align: middle;\n",
       "    }\n",
       "\n",
       "    .dataframe tbody tr th {\n",
       "        vertical-align: top;\n",
       "    }\n",
       "\n",
       "    .dataframe thead th {\n",
       "        text-align: right;\n",
       "    }\n",
       "</style>\n",
       "<table border=\"1\" class=\"dataframe\">\n",
       "  <thead>\n",
       "    <tr style=\"text-align: right;\">\n",
       "      <th></th>\n",
       "      <th>created_at</th>\n",
       "      <th>author</th>\n",
       "      <th>tweet</th>\n",
       "    </tr>\n",
       "  </thead>\n",
       "  <tbody>\n",
       "    <tr>\n",
       "      <th>0</th>\n",
       "      <td>2022-11-04 08:23:04+00:00</td>\n",
       "      <td>pretzeIove</td>\n",
       "      <td>wkwkwk bener padahal ya sebagai wna yang daten...</td>\n",
       "    </tr>\n",
       "    <tr>\n",
       "      <th>1</th>\n",
       "      <td>2022-11-04 08:21:42+00:00</td>\n",
       "      <td>gunsamudro_22</td>\n",
       "      <td>lontong mie pak sidjan lumayan enak buat yg su...</td>\n",
       "    </tr>\n",
       "    <tr>\n",
       "      <th>2</th>\n",
       "      <td>2022-11-04 08:20:54+00:00</td>\n",
       "      <td>bengkelpromosi</td>\n",
       "      <td>bengkel box motor delivery tangerang tangsel k...</td>\n",
       "    </tr>\n",
       "    <tr>\n",
       "      <th>3</th>\n",
       "      <td>2022-11-04 08:20:32+00:00</td>\n",
       "      <td>VIVAlife_</td>\n",
       "      <td>4 resep asinan sayur kuliner nusantara khas be...</td>\n",
       "    </tr>\n",
       "    <tr>\n",
       "      <th>4</th>\n",
       "      <td>2022-11-04 08:20:03+00:00</td>\n",
       "      <td>VIVAcoid</td>\n",
       "      <td>4 resep asinan sayur kuliner nusantara khas be...</td>\n",
       "    </tr>\n",
       "  </tbody>\n",
       "</table>\n",
       "</div>"
      ],
      "text/plain": [
       "                 created_at          author  \\\n",
       "0 2022-11-04 08:23:04+00:00      pretzeIove   \n",
       "1 2022-11-04 08:21:42+00:00   gunsamudro_22   \n",
       "2 2022-11-04 08:20:54+00:00  bengkelpromosi   \n",
       "3 2022-11-04 08:20:32+00:00       VIVAlife_   \n",
       "4 2022-11-04 08:20:03+00:00        VIVAcoid   \n",
       "\n",
       "                                               tweet  \n",
       "0  wkwkwk bener padahal ya sebagai wna yang daten...  \n",
       "1  lontong mie pak sidjan lumayan enak buat yg su...  \n",
       "2  bengkel box motor delivery tangerang tangsel k...  \n",
       "3  4 resep asinan sayur kuliner nusantara khas be...  \n",
       "4  4 resep asinan sayur kuliner nusantara khas be...  "
      ]
     },
     "execution_count": 23,
     "metadata": {},
     "output_type": "execute_result"
    }
   ],
   "source": [
    "df_kuliner['tweet'] = df_kuliner['tweet'].apply(lambda x: clean_tweet(x))\n",
    "df_kuliner['tweet'] = df_kuliner['tweet'].apply(lambda x: clean_spaces(x))\n",
    "df_kuliner.head()"
   ]
  },
  {
   "cell_type": "markdown",
   "id": "0441026b",
   "metadata": {},
   "source": [
    "# Dataset"
   ]
  },
  {
   "cell_type": "code",
   "execution_count": null,
   "id": "ccb105a2",
   "metadata": {},
   "outputs": [],
   "source": [
    "# drop duplikat dulu, baru digabungin ke dataset\n",
    "# pr aliif"
   ]
  },
  {
   "cell_type": "code",
   "execution_count": 25,
   "id": "c3d10e58",
   "metadata": {},
   "outputs": [],
   "source": [
    "df_gunung[\"category\"] = \"gunung\"\n",
    "df_pantai[\"category\"] = \"pantai\"\n",
    "df_kuliner[\"category\"] = \"kuliner\""
   ]
  },
  {
   "cell_type": "code",
   "execution_count": 26,
   "id": "ffe354a1",
   "metadata": {},
   "outputs": [
    {
     "data": {
      "text/html": [
       "<div>\n",
       "<style scoped>\n",
       "    .dataframe tbody tr th:only-of-type {\n",
       "        vertical-align: middle;\n",
       "    }\n",
       "\n",
       "    .dataframe tbody tr th {\n",
       "        vertical-align: top;\n",
       "    }\n",
       "\n",
       "    .dataframe thead th {\n",
       "        text-align: right;\n",
       "    }\n",
       "</style>\n",
       "<table border=\"1\" class=\"dataframe\">\n",
       "  <thead>\n",
       "    <tr style=\"text-align: right;\">\n",
       "      <th></th>\n",
       "      <th>created_at</th>\n",
       "      <th>author</th>\n",
       "      <th>tweet</th>\n",
       "      <th>category</th>\n",
       "    </tr>\n",
       "  </thead>\n",
       "  <tbody>\n",
       "    <tr>\n",
       "      <th>0</th>\n",
       "      <td>2022-11-04 08:00:27+00:00</td>\n",
       "      <td>Rutha91465781</td>\n",
       "      <td>sahabat ganjar bagikan ratusan paket di gunung...</td>\n",
       "      <td>gunung</td>\n",
       "    </tr>\n",
       "    <tr>\n",
       "      <th>1</th>\n",
       "      <td>2022-11-04 08:00:09+00:00</td>\n",
       "      <td>mailabendia</td>\n",
       "      <td>sahabat ganjar bagikan ratusan paket sembako d...</td>\n",
       "      <td>gunung</td>\n",
       "    </tr>\n",
       "    <tr>\n",
       "      <th>2</th>\n",
       "      <td>2022-11-04 07:59:41+00:00</td>\n",
       "      <td>ikirikii</td>\n",
       "      <td>lagi lagi si kaki berjalan sendiri mengulang d...</td>\n",
       "      <td>gunung</td>\n",
       "    </tr>\n",
       "    <tr>\n",
       "      <th>3</th>\n",
       "      <td>2022-11-04 07:59:16+00:00</td>\n",
       "      <td>Andpratama17</td>\n",
       "      <td>terlepas dari banyaknya cibiran yang datang si...</td>\n",
       "      <td>gunung</td>\n",
       "    </tr>\n",
       "    <tr>\n",
       "      <th>4</th>\n",
       "      <td>2022-11-04 07:59:06+00:00</td>\n",
       "      <td>Ladawn77621798</td>\n",
       "      <td>sahabat ganjar bagikan ratusan paket di gunung...</td>\n",
       "      <td>gunung</td>\n",
       "    </tr>\n",
       "  </tbody>\n",
       "</table>\n",
       "</div>"
      ],
      "text/plain": [
       "                 created_at          author  \\\n",
       "0 2022-11-04 08:00:27+00:00   Rutha91465781   \n",
       "1 2022-11-04 08:00:09+00:00     mailabendia   \n",
       "2 2022-11-04 07:59:41+00:00        ikirikii   \n",
       "3 2022-11-04 07:59:16+00:00    Andpratama17   \n",
       "4 2022-11-04 07:59:06+00:00  Ladawn77621798   \n",
       "\n",
       "                                               tweet category  \n",
       "0  sahabat ganjar bagikan ratusan paket di gunung...   gunung  \n",
       "1  sahabat ganjar bagikan ratusan paket sembako d...   gunung  \n",
       "2  lagi lagi si kaki berjalan sendiri mengulang d...   gunung  \n",
       "3  terlepas dari banyaknya cibiran yang datang si...   gunung  \n",
       "4  sahabat ganjar bagikan ratusan paket di gunung...   gunung  "
      ]
     },
     "execution_count": 26,
     "metadata": {},
     "output_type": "execute_result"
    }
   ],
   "source": [
    "df_gunung.head()"
   ]
  },
  {
   "cell_type": "code",
   "execution_count": 33,
   "id": "5a7f1574",
   "metadata": {},
   "outputs": [],
   "source": [
    "# sementara pakai ini dulu\n",
    "# ke depannya gak pake csv\n",
    "# ke depannya baca data dari database\n",
    "unique = pd.read_csv(\"_dataset/dataset_unique 2022-11-01.csv\")"
   ]
  },
  {
   "cell_type": "code",
   "execution_count": null,
   "id": "bb4eae1a",
   "metadata": {},
   "outputs": [],
   "source": [
    "# baca data dari database\n",
    "# masuk jadi bentuk dataframe\n",
    "# kode database dari cc di sini"
   ]
  },
  {
   "cell_type": "code",
   "execution_count": 37,
   "id": "f7cf0c31",
   "metadata": {},
   "outputs": [
    {
     "name": "stdout",
     "output_type": "stream",
     "text": [
      "unique dataset length before: 27052\n",
      "unique dataset length after new data addition: 30052\n"
     ]
    }
   ],
   "source": [
    "df_all = pd.concat([unique, df_gunung, df_pantai, df_kuliner], ignore_index=True)\n",
    "print(\"unique dataset length before:\", len(unique))\n",
    "print(\"unique dataset length after new data addition:\", len(df_all))"
   ]
  },
  {
   "cell_type": "code",
   "execution_count": 39,
   "id": "72b9f338",
   "metadata": {},
   "outputs": [
    {
     "data": {
      "text/html": [
       "<div>\n",
       "<style scoped>\n",
       "    .dataframe tbody tr th:only-of-type {\n",
       "        vertical-align: middle;\n",
       "    }\n",
       "\n",
       "    .dataframe tbody tr th {\n",
       "        vertical-align: top;\n",
       "    }\n",
       "\n",
       "    .dataframe thead th {\n",
       "        text-align: right;\n",
       "    }\n",
       "</style>\n",
       "<table border=\"1\" class=\"dataframe\">\n",
       "  <thead>\n",
       "    <tr style=\"text-align: right;\">\n",
       "      <th></th>\n",
       "      <th>created_at</th>\n",
       "      <th>author</th>\n",
       "      <th>tweet</th>\n",
       "      <th>category</th>\n",
       "    </tr>\n",
       "  </thead>\n",
       "  <tbody>\n",
       "    <tr>\n",
       "      <th>0</th>\n",
       "      <td>2022-10-15 16:30:08+00:00</td>\n",
       "      <td>RFebriono</td>\n",
       "      <td>knp org naik gunung simple mereka jenuh berleb...</td>\n",
       "      <td>gunung</td>\n",
       "    </tr>\n",
       "    <tr>\n",
       "      <th>1</th>\n",
       "      <td>2022-10-15 16:29:34+00:00</td>\n",
       "      <td>ivanasilo1</td>\n",
       "      <td>gua krn tinggal di bogor tiap pagi selalu liha...</td>\n",
       "      <td>gunung</td>\n",
       "    </tr>\n",
       "    <tr>\n",
       "      <th>2</th>\n",
       "      <td>2022-10-15 16:26:43+00:00</td>\n",
       "      <td>andrikunn</td>\n",
       "      <td>anjir enak banget ya sebulan sekali bisa naik ...</td>\n",
       "      <td>gunung</td>\n",
       "    </tr>\n",
       "    <tr>\n",
       "      <th>3</th>\n",
       "      <td>2022-10-15 16:25:41+00:00</td>\n",
       "      <td>iniahmed_</td>\n",
       "      <td>abi ge sok bingung om tarik teuing di gunung m...</td>\n",
       "      <td>gunung</td>\n",
       "    </tr>\n",
       "    <tr>\n",
       "      <th>4</th>\n",
       "      <td>2022-10-15 16:25:02+00:00</td>\n",
       "      <td>cabindimasanya</td>\n",
       "      <td>banda neira punya segudang cerita termasuk pen...</td>\n",
       "      <td>gunung</td>\n",
       "    </tr>\n",
       "  </tbody>\n",
       "</table>\n",
       "</div>"
      ],
      "text/plain": [
       "                  created_at          author  \\\n",
       "0  2022-10-15 16:30:08+00:00       RFebriono   \n",
       "1  2022-10-15 16:29:34+00:00      ivanasilo1   \n",
       "2  2022-10-15 16:26:43+00:00       andrikunn   \n",
       "3  2022-10-15 16:25:41+00:00       iniahmed_   \n",
       "4  2022-10-15 16:25:02+00:00  cabindimasanya   \n",
       "\n",
       "                                               tweet category  \n",
       "0  knp org naik gunung simple mereka jenuh berleb...   gunung  \n",
       "1  gua krn tinggal di bogor tiap pagi selalu liha...   gunung  \n",
       "2  anjir enak banget ya sebulan sekali bisa naik ...   gunung  \n",
       "3  abi ge sok bingung om tarik teuing di gunung m...   gunung  \n",
       "4  banda neira punya segudang cerita termasuk pen...   gunung  "
      ]
     },
     "execution_count": 39,
     "metadata": {},
     "output_type": "execute_result"
    }
   ],
   "source": [
    "df_all.head()"
   ]
  },
  {
   "cell_type": "code",
   "execution_count": 40,
   "id": "bc293342",
   "metadata": {},
   "outputs": [
    {
     "name": "stdout",
     "output_type": "stream",
     "text": [
      "unique dataset length after duplicate removed: 28800\n"
     ]
    }
   ],
   "source": [
    "df_all = df_all.drop_duplicates(subset=['tweet'])\n",
    "print(\"unique dataset length after duplicate removed:\", len(df_all))"
   ]
  },
  {
   "cell_type": "code",
   "execution_count": null,
   "id": "7dba5664",
   "metadata": {},
   "outputs": [],
   "source": [
    "# append tweet yang baru\n",
    "# pr coco"
   ]
  },
  {
   "cell_type": "markdown",
   "id": "dafb8b19",
   "metadata": {},
   "source": [
    "# Naive Bayes Model"
   ]
  },
  {
   "cell_type": "code",
   "execution_count": 43,
   "id": "c8ca8da3",
   "metadata": {},
   "outputs": [
    {
     "name": "stdout",
     "output_type": "stream",
     "text": [
      "<class 'pandas.core.frame.DataFrame'>\n",
      "Int64Index: 28799 entries, 0 to 30045\n",
      "Data columns (total 4 columns):\n",
      " #   Column      Non-Null Count  Dtype \n",
      "---  ------      --------------  ----- \n",
      " 0   created_at  28799 non-null  object\n",
      " 1   author      28799 non-null  object\n",
      " 2   tweet       28799 non-null  object\n",
      " 3   category    28799 non-null  object\n",
      "dtypes: object(4)\n",
      "memory usage: 1.1+ MB\n"
     ]
    }
   ],
   "source": [
    "df_all = df_all.dropna()\n",
    "df_all.info()"
   ]
  },
  {
   "cell_type": "code",
   "execution_count": 56,
   "id": "3ec01665",
   "metadata": {},
   "outputs": [
    {
     "data": {
      "text/plain": [
       "gunung     10452\n",
       "pantai     10294\n",
       "kuliner     8053\n",
       "Name: category, dtype: int64"
      ]
     },
     "execution_count": 56,
     "metadata": {},
     "output_type": "execute_result"
    }
   ],
   "source": [
    "df_all['category'].value_counts()"
   ]
  },
  {
   "cell_type": "code",
   "execution_count": 44,
   "id": "212eeae8",
   "metadata": {},
   "outputs": [
    {
     "name": "stdout",
     "output_type": "stream",
     "text": [
      "0         gunung\n",
      "1         gunung\n",
      "2         gunung\n",
      "3         gunung\n",
      "4         gunung\n",
      "          ...   \n",
      "30026    kuliner\n",
      "30027    kuliner\n",
      "30033    kuliner\n",
      "30039    kuliner\n",
      "30045    kuliner\n",
      "Name: category, Length: 28799, dtype: object\n"
     ]
    }
   ],
   "source": [
    "yTarget = df_all[\"category\"]\n",
    "print(yTarget)"
   ]
  },
  {
   "cell_type": "code",
   "execution_count": 49,
   "id": "c561d3b7",
   "metadata": {},
   "outputs": [
    {
     "name": "stdout",
     "output_type": "stream",
     "text": [
      "0         gunung\n",
      "1         gunung\n",
      "2         gunung\n",
      "3         gunung\n",
      "4         gunung\n",
      "          ...   \n",
      "30026    kuliner\n",
      "30027    kuliner\n",
      "30033    kuliner\n",
      "30039    kuliner\n",
      "30045    kuliner\n",
      "Name: category, Length: 28799, dtype: object\n",
      "(28799,)\n"
     ]
    }
   ],
   "source": [
    "#test\n",
    "Y = yTarget\n",
    "print(Y)\n",
    "print(Y.shape)"
   ]
  },
  {
   "cell_type": "code",
   "execution_count": 51,
   "id": "6457960a",
   "metadata": {},
   "outputs": [
    {
     "name": "stdout",
     "output_type": "stream",
     "text": [
      "46322\n",
      "(28799, 46322)\n"
     ]
    }
   ],
   "source": [
    "vectorizer = CountVectorizer(analyzer=splitter).fit(df_all[\"tweet\"])\n",
    "xTarget = vectorizer.transform(df_all[\"tweet\"])\n",
    "# print(vectorizer.vocabulary_)\n",
    "print(len(vectorizer.vocabulary_))\n",
    "print(xTarget.shape)"
   ]
  },
  {
   "cell_type": "code",
   "execution_count": 52,
   "id": "2a07e94c",
   "metadata": {},
   "outputs": [
    {
     "name": "stdout",
     "output_type": "stream",
     "text": [
      "(28799, 46322)\n"
     ]
    }
   ],
   "source": [
    "tfidf = TfidfTransformer()\n",
    "X = tfidf.fit_transform(xTarget)\n",
    "print(X.shape)"
   ]
  },
  {
   "cell_type": "code",
   "execution_count": 53,
   "id": "c22505e6",
   "metadata": {},
   "outputs": [
    {
     "name": "stdout",
     "output_type": "stream",
     "text": [
      "(23039, 46322)\n",
      "(5760, 46322)\n",
      "(23039,)\n",
      "(5760,)\n"
     ]
    }
   ],
   "source": [
    "X_train, X_test, y_train, y_test = train_test_split(X, Y, test_size=0.2, random_state=1)\n",
    "print(X_train.shape)\n",
    "print(X_test.shape)\n",
    "print(y_train.shape)\n",
    "print(y_test.shape)"
   ]
  },
  {
   "cell_type": "code",
   "execution_count": 54,
   "id": "3db63822",
   "metadata": {},
   "outputs": [
    {
     "name": "stdout",
     "output_type": "stream",
     "text": [
      "MultinomialNB()\n"
     ]
    }
   ],
   "source": [
    "NaiveBayes = MultinomialNB().fit(X_train, np.ravel(y_train, order=\"C\"))\n",
    "print(NaiveBayes)"
   ]
  },
  {
   "cell_type": "code",
   "execution_count": 55,
   "id": "9ac58a09",
   "metadata": {},
   "outputs": [
    {
     "name": "stdout",
     "output_type": "stream",
     "text": [
      "['gunung' 'pantai' 'pantai' ... 'gunung' 'gunung' 'gunung']\n",
      "0.8989583333333333\n"
     ]
    }
   ],
   "source": [
    "prediction = NaiveBayes.predict(X_test)\n",
    "accuracies = accuracy_score(y_test, prediction)\n",
    "\n",
    "print(prediction)\n",
    "print(accuracies)"
   ]
  },
  {
   "cell_type": "code",
   "execution_count": 61,
   "id": "a7e5b29b",
   "metadata": {},
   "outputs": [
    {
     "name": "stdout",
     "output_type": "stream",
     "text": [
      "[[1888   18  206]\n",
      " [  77 1425   87]\n",
      " [ 159   35 1865]]\n"
     ]
    }
   ],
   "source": [
    "cf_matrix = confusion_matrix(y_test, prediction)\n",
    "print(confusion_matrix(y_test, prediction))"
   ]
  },
  {
   "cell_type": "code",
   "execution_count": 62,
   "id": "acefd71e",
   "metadata": {},
   "outputs": [
    {
     "data": {
      "text/plain": [
       "<AxesSubplot:>"
      ]
     },
     "execution_count": 62,
     "metadata": {},
     "output_type": "execute_result"
    },
    {
     "data": {
      "image/png": "[encoded data removed]",
      "text/plain": [
       "<Figure size 432x288 with 2 Axes>"
      ]
     },
     "metadata": {
      "needs_background": "light"
     },
     "output_type": "display_data"
    }
   ],
   "source": [
    "labels = [\"gunung\", \"pantai\", \"kuliner\"]\n",
    "sns.heatmap(cf_matrix, annot=True, cmap='Greys', fmt=\"d\",\n",
    "            xticklabels=labels, yticklabels=labels)"
   ]
  },
  {
   "cell_type": "markdown",
   "id": "bd8394b4",
   "metadata": {},
   "source": [
    "# User Tweet Probability"
   ]
  },
  {
   "cell_type": "code",
   "execution_count": 63,
   "id": "8861cf4f",
   "metadata": {},
   "outputs": [
    {
     "name": "stdout",
     "output_type": "stream",
     "text": [
      "(28799, 46322)\n",
      "(28799,)\n"
     ]
    }
   ],
   "source": [
    "X_dataset, y_dataset = X, Y\n",
    "\n",
    "print(X_dataset.shape)\n",
    "print(y_dataset.shape)"
   ]
  },
  {
   "cell_type": "code",
   "execution_count": 80,
   "id": "90ca711c",
   "metadata": {},
   "outputs": [
    {
     "name": "stderr",
     "output_type": "stream",
     "text": [
      "Unexpected parameter: id\n"
     ]
    },
    {
     "data": {
      "text/html": [
       "<div>\n",
       "<style scoped>\n",
       "    .dataframe tbody tr th:only-of-type {\n",
       "        vertical-align: middle;\n",
       "    }\n",
       "\n",
       "    .dataframe tbody tr th {\n",
       "        vertical-align: top;\n",
       "    }\n",
       "\n",
       "    .dataframe thead th {\n",
       "        text-align: right;\n",
       "    }\n",
       "</style>\n",
       "<table border=\"1\" class=\"dataframe\">\n",
       "  <thead>\n",
       "    <tr style=\"text-align: right;\">\n",
       "      <th></th>\n",
       "      <th>created_at</th>\n",
       "      <th>tweet</th>\n",
       "    </tr>\n",
       "  </thead>\n",
       "  <tbody>\n",
       "    <tr>\n",
       "      <th>0</th>\n",
       "      <td>2022-10-30 19:35:33+00:00</td>\n",
       "      <td>euy culture shock di bandung</td>\n",
       "    </tr>\n",
       "    <tr>\n",
       "      <th>1</th>\n",
       "      <td>2022-10-30 18:14:02+00:00</td>\n",
       "      <td>ketahanan terhadap rasa sakit akan terus berta...</td>\n",
       "    </tr>\n",
       "    <tr>\n",
       "      <th>2</th>\n",
       "      <td>2022-10-29 11:44:36+00:00</td>\n",
       "      <td>jakarta really changes lazy ass people</td>\n",
       "    </tr>\n",
       "    <tr>\n",
       "      <th>3</th>\n",
       "      <td>2022-10-27 10:51:04+00:00</td>\n",
       "      <td>telat baru sadar awkwk</td>\n",
       "    </tr>\n",
       "    <tr>\n",
       "      <th>4</th>\n",
       "      <td>2022-10-27 10:34:29+00:00</td>\n",
       "      <td>dont believe in yourself believe in the yourse...</td>\n",
       "    </tr>\n",
       "  </tbody>\n",
       "</table>\n",
       "</div>"
      ],
      "text/plain": [
       "                 created_at                                              tweet\n",
       "0 2022-10-30 19:35:33+00:00                       euy culture shock di bandung\n",
       "1 2022-10-30 18:14:02+00:00  ketahanan terhadap rasa sakit akan terus berta...\n",
       "2 2022-10-29 11:44:36+00:00             jakarta really changes lazy ass people\n",
       "3 2022-10-27 10:51:04+00:00                             telat baru sadar awkwk\n",
       "4 2022-10-27 10:34:29+00:00  dont believe in yourself believe in the yourse..."
      ]
     },
     "execution_count": 80,
     "metadata": {},
     "output_type": "execute_result"
    }
   ],
   "source": [
    "username = \"aliifnrhmn\"\n",
    "\n",
    "header = [\"created_at\", \"tweet\"]\n",
    "df_user = pd.DataFrame(user_tweet_retriever(username), columns=header)\n",
    "df_user['tweet'] = df_user['tweet'].apply(lambda x: clean_tweet(x))\n",
    "df_user['tweet'] = df_user['tweet'].apply(lambda x: clean_spaces(x))\n",
    "df_user.head()"
   ]
  },
  {
   "cell_type": "code",
   "execution_count": 81,
   "id": "b5d76f30",
   "metadata": {},
   "outputs": [],
   "source": [
    "for i in range(len(df_user)):\n",
    "    if df_user['tweet'][i] == '':\n",
    "        df_user = df_user.drop(i, axis=0)"
   ]
  },
  {
   "cell_type": "code",
   "execution_count": 82,
   "id": "53e67133",
   "metadata": {},
   "outputs": [
    {
     "name": "stdout",
     "output_type": "stream",
     "text": [
      "192\n",
      "  (0, 1582)\t1\n",
      "  (0, 1655)\t1\n",
      "  (0, 5507)\t1\n",
      "  (0, 5583)\t1\n",
      "  (0, 11202)\t1\n",
      "  (0, 18485)\t1\n",
      "  (0, 19574)\t1\n",
      "  (0, 20761)\t1\n",
      "  (0, 22614)\t2\n",
      "  (0, 25777)\t1\n",
      "  (0, 28036)\t1\n",
      "  (0, 35197)\t2\n",
      "  (0, 36537)\t2\n",
      "  (0, 36833)\t1\n",
      "  (0, 37557)\t1\n",
      "  (0, 42092)\t1\n",
      "  (0, 42387)\t1\n",
      "  (0, 42460)\t1\n",
      "  (0, 44028)\t1\n"
     ]
    }
   ],
   "source": [
    "print(len(df_user))\n",
    "df_user.head()\n",
    "print(userTarget[1])"
   ]
  },
  {
   "cell_type": "code",
   "execution_count": 83,
   "id": "5449c569",
   "metadata": {},
   "outputs": [
    {
     "name": "stdout",
     "output_type": "stream",
     "text": [
      "(192, 46322)\n",
      "  (0, 44028)\t0.2010645234939637\n",
      "  (0, 42460)\t0.18642694036855345\n",
      "  (0, 42387)\t0.2010645234939637\n",
      "  (0, 42092)\t0.2010645234939637\n",
      "  (0, 37557)\t0.2010645234939637\n",
      "  (0, 36833)\t0.2010645234939637\n",
      "  (0, 36537)\t0.35208281972595873\n",
      "  (0, 35197)\t0.35208281972595873\n",
      "  (0, 28036)\t0.18642694036855345\n",
      "  (0, 25777)\t0.2010645234939637\n",
      "  (0, 22614)\t0.4021290469879274\n",
      "  (0, 20761)\t0.2010645234939637\n",
      "  (0, 19574)\t0.2010645234939637\n",
      "  (0, 18485)\t0.13638071310658476\n",
      "  (0, 11202)\t0.2010645234939637\n",
      "  (0, 5583)\t0.2010645234939637\n",
      "  (0, 5507)\t0.2010645234939637\n",
      "  (0, 1655)\t0.18642694036855345\n",
      "  (0, 1582)\t0.151018296231995\n"
     ]
    }
   ],
   "source": [
    "userTarget = vectorizer.transform(df_user[\"tweet\"])\n",
    "tfidf = TfidfTransformer()\n",
    "user = tfidf.fit_transform(userTarget)\n",
    "print(user.shape)\n",
    "print(user[1])"
   ]
  },
  {
   "cell_type": "code",
   "execution_count": 84,
   "id": "9a581376",
   "metadata": {},
   "outputs": [
    {
     "name": "stdout",
     "output_type": "stream",
     "text": [
      "[[0.25922695 0.57108922 0.16968383]\n",
      " [0.25159439 0.17424235 0.57416325]\n",
      " [0.20734352 0.36676014 0.42589634]\n",
      " [0.43379378 0.23298658 0.33321964]\n",
      " [0.31716053 0.19866629 0.48417318]\n",
      " [0.10867878 0.04930285 0.84201837]\n",
      " [0.70430287 0.0800982  0.21559893]\n",
      " [0.506922   0.04966708 0.44341092]\n",
      " [0.23172434 0.12731322 0.64096244]\n",
      " [0.40630244 0.1436171  0.45008047]\n",
      " [0.52101419 0.19718271 0.28180309]\n",
      " [0.49247411 0.19036485 0.31716105]\n",
      " [0.49493315 0.14255725 0.36250961]\n",
      " [0.2334457  0.45012708 0.31642721]\n",
      " [0.45550045 0.24611432 0.29838523]\n",
      " [0.66304998 0.10640846 0.23054156]\n",
      " [0.39893375 0.1481097  0.45295656]\n",
      " [0.35821296 0.38627948 0.25550756]\n",
      " [0.24406725 0.50235751 0.25357524]\n",
      " [0.5048298  0.30160897 0.19356123]\n",
      " [0.35821296 0.38627948 0.25550756]\n",
      " [0.39673211 0.07993967 0.52332822]\n",
      " [0.3307877  0.26915114 0.40006116]\n",
      " [0.31481174 0.10519359 0.57999467]\n",
      " [0.50728119 0.25410076 0.23861806]\n",
      " [0.41060285 0.15276403 0.43663312]\n",
      " [0.18839934 0.66073844 0.15086222]\n",
      " [0.50006465 0.11714274 0.38279261]\n",
      " [0.20930202 0.17860163 0.61209635]\n",
      " [0.33040772 0.17598142 0.49361086]\n",
      " [0.23799622 0.15358852 0.60841526]\n",
      " [0.28878462 0.42633578 0.2848796 ]\n",
      " [0.54362337 0.16587031 0.29050633]\n",
      " [0.4181692  0.3366315  0.2451993 ]\n",
      " [0.29745139 0.09691495 0.60563366]\n",
      " [0.21660533 0.22243498 0.56095968]\n",
      " [0.21554193 0.06599265 0.71846542]\n",
      " [0.33284539 0.1408613  0.5262933 ]\n",
      " [0.4740151  0.07684157 0.44914333]\n",
      " [0.19143202 0.62630878 0.1822592 ]\n",
      " [0.12392428 0.76988937 0.10618635]\n",
      " [0.47239796 0.22796113 0.29964091]\n",
      " [0.28345175 0.21727504 0.49927321]\n",
      " [0.35799483 0.23542256 0.40658261]\n",
      " [0.45288285 0.04683453 0.50028262]\n",
      " [0.46178205 0.10556968 0.43264827]\n",
      " [0.43472682 0.28668762 0.27858556]\n",
      " [0.4767792  0.11320205 0.41001875]\n",
      " [0.5202335  0.15848937 0.32127713]\n",
      " [0.12957145 0.20684476 0.66358379]\n",
      " [0.62890796 0.08865483 0.28243721]\n",
      " [0.2093522  0.19218539 0.59846241]\n",
      " [0.22539313 0.32221689 0.45238998]\n",
      " [0.46507156 0.06560868 0.46931976]\n",
      " [0.53011379 0.226263   0.24362322]\n",
      " [0.45597072 0.14958556 0.39444373]\n",
      " [0.57033588 0.13200233 0.29766179]\n",
      " [0.26487025 0.10463109 0.63049866]\n",
      " [0.42007069 0.06813186 0.51179744]\n",
      " [0.37968738 0.18770579 0.43260683]\n",
      " [0.43250569 0.1943278  0.37316651]\n",
      " [0.21622742 0.29002603 0.49374654]\n",
      " [0.42539412 0.21962922 0.35497667]\n",
      " [0.49575486 0.15854608 0.34569906]\n",
      " [0.10345358 0.74130123 0.1552452 ]\n",
      " [0.50053535 0.11482448 0.38464017]\n",
      " [0.33300698 0.40305981 0.26393322]\n",
      " [0.18281877 0.39661357 0.42056766]\n",
      " [0.27626605 0.48962519 0.23410876]\n",
      " [0.52025719 0.16686561 0.3128772 ]\n",
      " [0.48866839 0.20830969 0.30302192]\n",
      " [0.37615013 0.35685897 0.26699089]\n",
      " [0.15572928 0.10392723 0.74034349]\n",
      " [0.25696986 0.23147865 0.51155149]\n",
      " [0.3270776  0.42928346 0.24363894]\n",
      " [0.28780003 0.08249252 0.62970745]\n",
      " [0.30020203 0.25569933 0.44409864]\n",
      " [0.39056454 0.32433085 0.28510461]\n",
      " [0.26934239 0.50719204 0.22346558]\n",
      " [0.27628939 0.48255106 0.24115955]\n",
      " [0.21717171 0.14650543 0.63632286]\n",
      " [0.38884632 0.17117363 0.43998006]\n",
      " [0.40861136 0.32640785 0.26498079]\n",
      " [0.25853422 0.13615424 0.60531154]\n",
      " [0.37752492 0.09863724 0.52383784]\n",
      " [0.4763968  0.25729835 0.26630486]\n",
      " [0.53623273 0.14236799 0.32139928]\n",
      " [0.54097217 0.08369888 0.37532895]\n",
      " [0.42188621 0.25839215 0.31972164]\n",
      " [0.36199488 0.28056773 0.35743739]\n",
      " [0.33269918 0.26000487 0.40729594]\n",
      " [0.44014345 0.12611686 0.43373969]\n",
      " [0.19092099 0.15801427 0.65106475]\n",
      " [0.4054826  0.19619802 0.39831939]\n",
      " [0.22393377 0.58453423 0.19153199]\n",
      " [0.61006533 0.12043745 0.26949722]\n",
      " [0.34502097 0.13292688 0.52205215]\n",
      " [0.46272894 0.24590642 0.29136464]\n",
      " [0.40834985 0.24707134 0.34457881]\n",
      " [0.38157678 0.17304296 0.44538026]\n",
      " [0.3046844  0.28447071 0.4108449 ]\n",
      " [0.18958122 0.10489393 0.70552485]\n",
      " [0.24510657 0.11695844 0.63793499]\n",
      " [0.48741509 0.183483   0.3291019 ]\n",
      " [0.52482975 0.10067816 0.37449209]\n",
      " [0.50814468 0.24886842 0.2429869 ]\n",
      " [0.46220583 0.25439274 0.28340143]\n",
      " [0.40803306 0.24746814 0.3444988 ]\n",
      " [0.09584046 0.76638375 0.13777579]\n",
      " [0.34579875 0.11411188 0.54008937]\n",
      " [0.34823092 0.43644849 0.21532058]\n",
      " [0.35614248 0.48350393 0.1603536 ]\n",
      " [0.24955058 0.20071423 0.54973519]\n",
      " [0.46215347 0.29408193 0.24376459]\n",
      " [0.36199488 0.28056773 0.35743739]\n",
      " [0.49141408 0.13145562 0.3771303 ]\n",
      " [0.84927734 0.05742989 0.09329277]\n",
      " [0.60618933 0.08643121 0.30737946]\n",
      " [0.27718846 0.50913359 0.21367796]\n",
      " [0.51942661 0.21329167 0.26728172]\n",
      " [0.24649492 0.54671789 0.20678719]\n",
      " [0.40001741 0.18801134 0.41197125]\n",
      " [0.41366485 0.27869985 0.3076353 ]\n",
      " [0.45923606 0.23248943 0.30827451]\n",
      " [0.29332828 0.29140979 0.41526193]\n",
      " [0.26756028 0.15964363 0.57279608]\n",
      " [0.54437856 0.11201713 0.34360431]\n",
      " [0.31783258 0.08862841 0.59353901]\n",
      " [0.46154329 0.17746012 0.36099658]\n",
      " [0.35725452 0.36393874 0.27880674]\n",
      " [0.35679643 0.16843187 0.4747717 ]\n",
      " [0.49070059 0.12088622 0.38841319]\n",
      " [0.33551966 0.18192795 0.48255239]\n",
      " [0.45686191 0.18211228 0.36102581]\n",
      " [0.36199488 0.28056773 0.35743739]\n",
      " [0.35796169 0.17761704 0.46442127]\n",
      " [0.41658172 0.25139358 0.3320247 ]\n",
      " [0.41355491 0.26691967 0.31952542]\n",
      " [0.43829099 0.12514317 0.43656584]\n",
      " [0.41195866 0.12610862 0.46193272]\n",
      " [0.43167349 0.13863181 0.42969471]\n",
      " [0.62229292 0.16587062 0.21183646]\n",
      " [0.34169431 0.27766683 0.38063886]\n",
      " [0.37439579 0.29109928 0.33450493]\n",
      " [0.26058301 0.08899466 0.65042233]\n",
      " [0.41948664 0.16909589 0.41141747]\n",
      " [0.42067421 0.13193026 0.44739553]\n",
      " [0.56113538 0.0955151  0.34334952]\n",
      " [0.30750238 0.4681283  0.22436932]\n",
      " [0.40426288 0.12935685 0.46638027]\n",
      " [0.25120546 0.42311769 0.32567685]\n",
      " [0.33099656 0.31830876 0.35069468]\n",
      " [0.35712436 0.29058041 0.35229523]\n",
      " [0.50858886 0.17396811 0.31744303]\n",
      " [0.57168983 0.16751031 0.26079986]\n",
      " [0.42160578 0.32347612 0.2549181 ]\n",
      " [0.38040982 0.1426961  0.47689408]\n",
      " [0.3479609  0.21872277 0.43331634]\n",
      " [0.28028692 0.34103821 0.37867487]\n",
      " [0.67554444 0.15335064 0.17110492]\n",
      " [0.25243097 0.39211856 0.35545048]\n",
      " [0.26124713 0.4538789  0.28487397]\n",
      " [0.28564162 0.17337329 0.54098508]\n",
      " [0.36674752 0.22499258 0.4082599 ]\n",
      " [0.21057458 0.18024983 0.60917559]\n",
      " [0.36199488 0.28056773 0.35743739]\n",
      " [0.20361325 0.19140472 0.60498203]\n",
      " [0.45899526 0.15929066 0.38171408]\n",
      " [0.54246258 0.07188289 0.38565452]\n",
      " [0.41846703 0.28547015 0.29606282]\n",
      " [0.32881006 0.26235958 0.40883035]\n",
      " [0.40493625 0.09575113 0.49931262]\n",
      " [0.33726486 0.35989088 0.30284426]\n",
      " [0.52926888 0.17666732 0.2940638 ]\n",
      " [0.44114017 0.21522048 0.34363936]\n",
      " [0.43412494 0.19403928 0.37183579]\n",
      " [0.42419689 0.14292805 0.43287506]\n",
      " [0.39049138 0.29962672 0.3098819 ]\n",
      " [0.46917628 0.16545045 0.36537326]\n",
      " [0.38040745 0.399212   0.22038056]\n",
      " [0.36165516 0.17830072 0.46004412]\n",
      " [0.26871509 0.55296009 0.17832482]\n",
      " [0.11412935 0.72564235 0.1602283 ]\n",
      " [0.35110797 0.32593855 0.32295348]\n",
      " [0.27016859 0.37218921 0.3576422 ]\n",
      " [0.6113588  0.08338422 0.30525698]\n",
      " [0.40497031 0.26845801 0.32657169]\n",
      " [0.4971392  0.2145782  0.2882826 ]\n",
      " [0.45951767 0.24207617 0.29840616]\n",
      " [0.36199488 0.28056773 0.35743739]\n",
      " [0.31462928 0.4117201  0.27365062]\n",
      " [0.38337617 0.16755648 0.44906735]]\n"
     ]
    }
   ],
   "source": [
    "probability = NaiveBayes.predict_proba(user)\n",
    "print(probability)"
   ]
  },
  {
   "cell_type": "code",
   "execution_count": 85,
   "id": "23d094ad",
   "metadata": {},
   "outputs": [
    {
     "name": "stdout",
     "output_type": "stream",
     "text": [
      "username: aliifnrhmn\n",
      "Probability of gunung category : 37.96%\n",
      "Probability of pantai category : 23.99%\n",
      "Probability of kuliner category: 38.05%\n"
     ]
    }
   ],
   "source": [
    "category0 = []\n",
    "category1 = []\n",
    "category2 = []\n",
    "for i in range(len(probability)):\n",
    "    category0.append(probability[i][0])\n",
    "    category1.append(probability[i][1])\n",
    "    category2.append(probability[i][2])\n",
    "\n",
    "def average(list):\n",
    "    return sum(list)/len(list)\n",
    "\n",
    "print(\"username:\", username)\n",
    "print(\"Probability of gunung category : \" + str(round(average(category0)*100, 2)) + \"%\")\n",
    "print(\"Probability of pantai category : \" + str(round(average(category1)*100, 2)) + \"%\")\n",
    "print(\"Probability of kuliner category: \" + str(round(average(category2)*100, 2)) + \"%\")"
   ]
  },
  {
   "cell_type": "code",
   "execution_count": null,
   "id": "a50f424e",
   "metadata": {},
   "outputs": [],
   "source": [
    "# fungsi if untuk kategori terbesar\n",
    "# pr aliif"
   ]
  }
 ],
 "metadata": {
  "kernelspec": {
   "display_name": "Python 3 (ipykernel)",
   "language": "python",
   "name": "python3"
  },
  "language_info": {
   "codemirror_mode": {
    "name": "ipython",
    "version": 3
   },
   "file_extension": ".py",
   "mimetype": "text/x-python",
   "name": "python",
   "nbconvert_exporter": "python",
   "pygments_lexer": "ipython3",
   "version": "3.9.6"
  }
 },
 "nbformat": 4,
 "nbformat_minor": 5
}
