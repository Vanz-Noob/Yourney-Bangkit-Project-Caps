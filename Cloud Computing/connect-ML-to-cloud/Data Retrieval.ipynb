{
 "cells": [
  {
   "cell_type": "markdown",
   "id": "d0f5f543",
   "metadata": {},
   "source": [
    "# Crawling and Preprocessing"
   ]
  },
  {
   "cell_type": "code",
   "execution_count": 1,
   "id": "cd6c312d",
   "metadata": {},
   "outputs": [
    {
     "name": "stdout",
     "output_type": "stream",
     "text": [
      "importing Jupyter notebook from TweetRetrieval.ipynb\n",
      "Today: 2022-10-17\n"
     ]
    }
   ],
   "source": [
    "import import_ipynb\n",
    "from TweetRetrieval import *\n",
    "from datetime import date"
   ]
  },
  {
   "cell_type": "markdown",
   "id": "bbeb2b65",
   "metadata": {},
   "source": [
    "## Gunung"
   ]
  },
  {
   "cell_type": "code",
   "execution_count": 2,
   "id": "0f553fed",
   "metadata": {},
   "outputs": [],
   "source": [
    "path = 'gunung/'\n",
    "filename = path + \"Gunung \" + str(date.today()) + \".csv\"\n",
    "category_tweet_retriever(filename, \"Gunung\")"
   ]
  },
  {
   "cell_type": "code",
   "execution_count": 3,
   "id": "8f4c0ed8",
   "metadata": {},
   "outputs": [
    {
     "name": "stdout",
     "output_type": "stream",
     "text": [
      "(1000, 3)\n"
     ]
    }
   ],
   "source": [
    "df_gunung = pd.read_csv(filename, encoding='unicode_escape')\n",
    "print(df_gunung.shape)"
   ]
  },
  {
   "cell_type": "code",
   "execution_count": 4,
   "id": "5a6eca7e",
   "metadata": {},
   "outputs": [
    {
     "data": {
      "text/html": [
       "<div>\n",
       "<style scoped>\n",
       "    .dataframe tbody tr th:only-of-type {\n",
       "        vertical-align: middle;\n",
       "    }\n",
       "\n",
       "    .dataframe tbody tr th {\n",
       "        vertical-align: top;\n",
       "    }\n",
       "\n",
       "    .dataframe thead th {\n",
       "        text-align: right;\n",
       "    }\n",
       "</style>\n",
       "<table border=\"1\" class=\"dataframe\">\n",
       "  <thead>\n",
       "    <tr style=\"text-align: right;\">\n",
       "      <th></th>\n",
       "      <th>created_at</th>\n",
       "      <th>author</th>\n",
       "      <th>text</th>\n",
       "    </tr>\n",
       "  </thead>\n",
       "  <tbody>\n",
       "    <tr>\n",
       "      <th>0</th>\n",
       "      <td>2022-10-17 13:26:15+00:00</td>\n",
       "      <td>nurfxtin</td>\n",
       "      <td>RT @karmenlunarx: Orkid ke-5 tmahal di dunia a...</td>\n",
       "    </tr>\n",
       "    <tr>\n",
       "      <th>1</th>\n",
       "      <td>2022-10-17 13:26:06+00:00</td>\n",
       "      <td>gagalsemangat_</td>\n",
       "      <td>RT @motherlander: Fenomena menarik dari Candi ...</td>\n",
       "    </tr>\n",
       "    <tr>\n",
       "      <th>2</th>\n",
       "      <td>2022-10-17 13:25:51+00:00</td>\n",
       "      <td>Mpok_Hanum</td>\n",
       "      <td>RT @motherlander: Fenomena menarik dari Candi ...</td>\n",
       "    </tr>\n",
       "    <tr>\n",
       "      <th>3</th>\n",
       "      <td>2022-10-17 13:25:19+00:00</td>\n",
       "      <td>clarissatty</td>\n",
       "      <td>Sampai bawah gunung tu, sebat secawan 100plus ...</td>\n",
       "    </tr>\n",
       "    <tr>\n",
       "      <th>4</th>\n",
       "      <td>2022-10-17 13:25:10+00:00</td>\n",
       "      <td>boysdontclubs</td>\n",
       "      <td>@undipmenfess itu gunung ungaran coccc</td>\n",
       "    </tr>\n",
       "  </tbody>\n",
       "</table>\n",
       "</div>"
      ],
      "text/plain": [
       "                  created_at          author  \\\n",
       "0  2022-10-17 13:26:15+00:00        nurfxtin   \n",
       "1  2022-10-17 13:26:06+00:00  gagalsemangat_   \n",
       "2  2022-10-17 13:25:51+00:00      Mpok_Hanum   \n",
       "3  2022-10-17 13:25:19+00:00     clarissatty   \n",
       "4  2022-10-17 13:25:10+00:00   boysdontclubs   \n",
       "\n",
       "                                                text  \n",
       "0  RT @karmenlunarx: Orkid ke-5 tmahal di dunia a...  \n",
       "1  RT @motherlander: Fenomena menarik dari Candi ...  \n",
       "2  RT @motherlander: Fenomena menarik dari Candi ...  \n",
       "3  Sampai bawah gunung tu, sebat secawan 100plus ...  \n",
       "4             @undipmenfess itu gunung ungaran coccc  "
      ]
     },
     "execution_count": 4,
     "metadata": {},
     "output_type": "execute_result"
    }
   ],
   "source": [
    "df_gunung.head()"
   ]
  },
  {
   "cell_type": "code",
   "execution_count": 5,
   "id": "04697c50",
   "metadata": {},
   "outputs": [
    {
     "data": {
      "text/html": [
       "<div>\n",
       "<style scoped>\n",
       "    .dataframe tbody tr th:only-of-type {\n",
       "        vertical-align: middle;\n",
       "    }\n",
       "\n",
       "    .dataframe tbody tr th {\n",
       "        vertical-align: top;\n",
       "    }\n",
       "\n",
       "    .dataframe thead th {\n",
       "        text-align: right;\n",
       "    }\n",
       "</style>\n",
       "<table border=\"1\" class=\"dataframe\">\n",
       "  <thead>\n",
       "    <tr style=\"text-align: right;\">\n",
       "      <th></th>\n",
       "      <th>created_at</th>\n",
       "      <th>author</th>\n",
       "      <th>text</th>\n",
       "      <th>cleaned_tweet</th>\n",
       "    </tr>\n",
       "  </thead>\n",
       "  <tbody>\n",
       "    <tr>\n",
       "      <th>0</th>\n",
       "      <td>2022-10-17 13:26:15+00:00</td>\n",
       "      <td>nurfxtin</td>\n",
       "      <td>RT @karmenlunarx: Orkid ke-5 tmahal di dunia a...</td>\n",
       "      <td>orkid ke 5 tmahal di dunia ada di sabah berhar...</td>\n",
       "    </tr>\n",
       "    <tr>\n",
       "      <th>1</th>\n",
       "      <td>2022-10-17 13:26:06+00:00</td>\n",
       "      <td>gagalsemangat_</td>\n",
       "      <td>RT @motherlander: Fenomena menarik dari Candi ...</td>\n",
       "      <td>fenomena menarik dari candi pertapan di puncak...</td>\n",
       "    </tr>\n",
       "    <tr>\n",
       "      <th>2</th>\n",
       "      <td>2022-10-17 13:25:51+00:00</td>\n",
       "      <td>Mpok_Hanum</td>\n",
       "      <td>RT @motherlander: Fenomena menarik dari Candi ...</td>\n",
       "      <td>fenomena menarik dari candi pertapan di puncak...</td>\n",
       "    </tr>\n",
       "    <tr>\n",
       "      <th>3</th>\n",
       "      <td>2022-10-17 13:25:19+00:00</td>\n",
       "      <td>clarissatty</td>\n",
       "      <td>Sampai bawah gunung tu, sebat secawan 100plus ...</td>\n",
       "      <td>sampai bawah gunung tu sebat secawan 100plus l...</td>\n",
       "    </tr>\n",
       "    <tr>\n",
       "      <th>4</th>\n",
       "      <td>2022-10-17 13:25:10+00:00</td>\n",
       "      <td>boysdontclubs</td>\n",
       "      <td>@undipmenfess itu gunung ungaran coccc</td>\n",
       "      <td>itu gunung ungaran coccc</td>\n",
       "    </tr>\n",
       "  </tbody>\n",
       "</table>\n",
       "</div>"
      ],
      "text/plain": [
       "                  created_at          author  \\\n",
       "0  2022-10-17 13:26:15+00:00        nurfxtin   \n",
       "1  2022-10-17 13:26:06+00:00  gagalsemangat_   \n",
       "2  2022-10-17 13:25:51+00:00      Mpok_Hanum   \n",
       "3  2022-10-17 13:25:19+00:00     clarissatty   \n",
       "4  2022-10-17 13:25:10+00:00   boysdontclubs   \n",
       "\n",
       "                                                text  \\\n",
       "0  RT @karmenlunarx: Orkid ke-5 tmahal di dunia a...   \n",
       "1  RT @motherlander: Fenomena menarik dari Candi ...   \n",
       "2  RT @motherlander: Fenomena menarik dari Candi ...   \n",
       "3  Sampai bawah gunung tu, sebat secawan 100plus ...   \n",
       "4             @undipmenfess itu gunung ungaran coccc   \n",
       "\n",
       "                                       cleaned_tweet  \n",
       "0  orkid ke 5 tmahal di dunia ada di sabah berhar...  \n",
       "1  fenomena menarik dari candi pertapan di puncak...  \n",
       "2  fenomena menarik dari candi pertapan di puncak...  \n",
       "3  sampai bawah gunung tu sebat secawan 100plus l...  \n",
       "4                           itu gunung ungaran coccc  "
      ]
     },
     "execution_count": 5,
     "metadata": {},
     "output_type": "execute_result"
    }
   ],
   "source": [
    "df_gunung['cleaned_tweet'] = df_gunung['text'].apply(lambda x: clean_tweet(x))\n",
    "df_gunung['cleaned_tweet'] = df_gunung['cleaned_tweet'].apply(lambda x: clean_spaces(x))\n",
    "df_gunung.head()"
   ]
  },
  {
   "cell_type": "code",
   "execution_count": 6,
   "id": "df08199a",
   "metadata": {},
   "outputs": [],
   "source": [
    "header = [\"created_at\", \"author\", \"cleaned_tweet\"]\n",
    "df_gunung.to_csv(filename, index=False, columns=header)"
   ]
  },
  {
   "cell_type": "markdown",
   "id": "549a3a65",
   "metadata": {},
   "source": [
    "## Pantai"
   ]
  },
  {
   "cell_type": "code",
   "execution_count": 7,
   "id": "503b0a02",
   "metadata": {},
   "outputs": [],
   "source": [
    "path = 'pantai/'\n",
    "filename = path + \"Pantai \" + str(date.today()) + \".csv\"\n",
    "category_tweet_retriever(filename, \"Pantai\")"
   ]
  },
  {
   "cell_type": "code",
   "execution_count": 8,
   "id": "4253e210",
   "metadata": {},
   "outputs": [
    {
     "data": {
      "text/plain": [
       "(1000, 3)"
      ]
     },
     "execution_count": 8,
     "metadata": {},
     "output_type": "execute_result"
    }
   ],
   "source": [
    "df_pantai = pd.read_csv(filename, encoding='unicode_escape')\n",
    "df_pantai.shape"
   ]
  },
  {
   "cell_type": "code",
   "execution_count": 9,
   "id": "7ac29308",
   "metadata": {},
   "outputs": [
    {
     "data": {
      "text/html": [
       "<div>\n",
       "<style scoped>\n",
       "    .dataframe tbody tr th:only-of-type {\n",
       "        vertical-align: middle;\n",
       "    }\n",
       "\n",
       "    .dataframe tbody tr th {\n",
       "        vertical-align: top;\n",
       "    }\n",
       "\n",
       "    .dataframe thead th {\n",
       "        text-align: right;\n",
       "    }\n",
       "</style>\n",
       "<table border=\"1\" class=\"dataframe\">\n",
       "  <thead>\n",
       "    <tr style=\"text-align: right;\">\n",
       "      <th></th>\n",
       "      <th>created_at</th>\n",
       "      <th>author</th>\n",
       "      <th>text</th>\n",
       "    </tr>\n",
       "  </thead>\n",
       "  <tbody>\n",
       "    <tr>\n",
       "      <th>0</th>\n",
       "      <td>2022-10-17 13:27:17+00:00</td>\n",
       "      <td>fpoemsh</td>\n",
       "      <td>RT @elfrida_ola: @infomalang kak daerah sitiar...</td>\n",
       "    </tr>\n",
       "    <tr>\n",
       "      <th>1</th>\n",
       "      <td>2022-10-17 13:26:23+00:00</td>\n",
       "      <td>iemah_chuaaa</td>\n",
       "      <td>@anotherchru Betul kak iteman kulit nya abis s...</td>\n",
       "    </tr>\n",
       "    <tr>\n",
       "      <th>2</th>\n",
       "      <td>2022-10-17 13:25:55+00:00</td>\n",
       "      <td>polresjembrana</td>\n",
       "      <td>Untuk Menciptakan Situasi Aman dan Kondusif je...</td>\n",
       "    </tr>\n",
       "    <tr>\n",
       "      <th>3</th>\n",
       "      <td>2022-10-17 13:25:41+00:00</td>\n",
       "      <td>strygwyrnn</td>\n",
       "      <td>@cutiiiebean Ya allah sibuknya kamu kah? Ngapa...</td>\n",
       "    </tr>\n",
       "    <tr>\n",
       "      <th>4</th>\n",
       "      <td>2022-10-17 13:25:26+00:00</td>\n",
       "      <td>Valenti41684977</td>\n",
       "      <td>RT @tokopedia: Halo Denpasar Bli Jimin mau nga...</td>\n",
       "    </tr>\n",
       "  </tbody>\n",
       "</table>\n",
       "</div>"
      ],
      "text/plain": [
       "                  created_at           author  \\\n",
       "0  2022-10-17 13:27:17+00:00          fpoemsh   \n",
       "1  2022-10-17 13:26:23+00:00     iemah_chuaaa   \n",
       "2  2022-10-17 13:25:55+00:00   polresjembrana   \n",
       "3  2022-10-17 13:25:41+00:00       strygwyrnn   \n",
       "4  2022-10-17 13:25:26+00:00  Valenti41684977   \n",
       "\n",
       "                                                text  \n",
       "0  RT @elfrida_ola: @infomalang kak daerah sitiar...  \n",
       "1  @anotherchru Betul kak iteman kulit nya abis s...  \n",
       "2  Untuk Menciptakan Situasi Aman dan Kondusif je...  \n",
       "3  @cutiiiebean Ya allah sibuknya kamu kah? Ngapa...  \n",
       "4  RT @tokopedia: Halo Denpasar Bli Jimin mau nga...  "
      ]
     },
     "execution_count": 9,
     "metadata": {},
     "output_type": "execute_result"
    }
   ],
   "source": [
    "df_pantai.head()"
   ]
  },
  {
   "cell_type": "code",
   "execution_count": 10,
   "id": "1152d561",
   "metadata": {},
   "outputs": [
    {
     "data": {
      "text/html": [
       "<div>\n",
       "<style scoped>\n",
       "    .dataframe tbody tr th:only-of-type {\n",
       "        vertical-align: middle;\n",
       "    }\n",
       "\n",
       "    .dataframe tbody tr th {\n",
       "        vertical-align: top;\n",
       "    }\n",
       "\n",
       "    .dataframe thead th {\n",
       "        text-align: right;\n",
       "    }\n",
       "</style>\n",
       "<table border=\"1\" class=\"dataframe\">\n",
       "  <thead>\n",
       "    <tr style=\"text-align: right;\">\n",
       "      <th></th>\n",
       "      <th>created_at</th>\n",
       "      <th>author</th>\n",
       "      <th>text</th>\n",
       "      <th>cleaned_tweet</th>\n",
       "    </tr>\n",
       "  </thead>\n",
       "  <tbody>\n",
       "    <tr>\n",
       "      <th>0</th>\n",
       "      <td>2022-10-17 13:27:17+00:00</td>\n",
       "      <td>fpoemsh</td>\n",
       "      <td>RT @elfrida_ola: @infomalang kak daerah sitiar...</td>\n",
       "      <td>kak daerah sitiarjo banjir udah setinggi atap ...</td>\n",
       "    </tr>\n",
       "    <tr>\n",
       "      <th>1</th>\n",
       "      <td>2022-10-17 13:26:23+00:00</td>\n",
       "      <td>iemah_chuaaa</td>\n",
       "      <td>@anotherchru Betul kak iteman kulit nya abis s...</td>\n",
       "      <td>betul kak iteman kulit nya abis selonjoran di ...</td>\n",
       "    </tr>\n",
       "    <tr>\n",
       "      <th>2</th>\n",
       "      <td>2022-10-17 13:25:55+00:00</td>\n",
       "      <td>polresjembrana</td>\n",
       "      <td>Untuk Menciptakan Situasi Aman dan Kondusif je...</td>\n",
       "      <td>untuk menciptakan situasi aman dan kondusif je...</td>\n",
       "    </tr>\n",
       "    <tr>\n",
       "      <th>3</th>\n",
       "      <td>2022-10-17 13:25:41+00:00</td>\n",
       "      <td>strygwyrnn</td>\n",
       "      <td>@cutiiiebean Ya allah sibuknya kamu kah? Ngapa...</td>\n",
       "      <td>ya allah sibuknya kamu kah ngapain aja wkwk se...</td>\n",
       "    </tr>\n",
       "    <tr>\n",
       "      <th>4</th>\n",
       "      <td>2022-10-17 13:25:26+00:00</td>\n",
       "      <td>Valenti41684977</td>\n",
       "      <td>RT @tokopedia: Halo Denpasar Bli Jimin mau nga...</td>\n",
       "      <td>halo denpasar bli jimin mau ngajakin healing k...</td>\n",
       "    </tr>\n",
       "  </tbody>\n",
       "</table>\n",
       "</div>"
      ],
      "text/plain": [
       "                  created_at           author  \\\n",
       "0  2022-10-17 13:27:17+00:00          fpoemsh   \n",
       "1  2022-10-17 13:26:23+00:00     iemah_chuaaa   \n",
       "2  2022-10-17 13:25:55+00:00   polresjembrana   \n",
       "3  2022-10-17 13:25:41+00:00       strygwyrnn   \n",
       "4  2022-10-17 13:25:26+00:00  Valenti41684977   \n",
       "\n",
       "                                                text  \\\n",
       "0  RT @elfrida_ola: @infomalang kak daerah sitiar...   \n",
       "1  @anotherchru Betul kak iteman kulit nya abis s...   \n",
       "2  Untuk Menciptakan Situasi Aman dan Kondusif je...   \n",
       "3  @cutiiiebean Ya allah sibuknya kamu kah? Ngapa...   \n",
       "4  RT @tokopedia: Halo Denpasar Bli Jimin mau nga...   \n",
       "\n",
       "                                       cleaned_tweet  \n",
       "0  kak daerah sitiarjo banjir udah setinggi atap ...  \n",
       "1  betul kak iteman kulit nya abis selonjoran di ...  \n",
       "2  untuk menciptakan situasi aman dan kondusif je...  \n",
       "3  ya allah sibuknya kamu kah ngapain aja wkwk se...  \n",
       "4  halo denpasar bli jimin mau ngajakin healing k...  "
      ]
     },
     "execution_count": 10,
     "metadata": {},
     "output_type": "execute_result"
    }
   ],
   "source": [
    "df_pantai['cleaned_tweet'] = df_pantai['text'].apply(lambda x: clean_tweet(x))\n",
    "df_pantai['cleaned_tweet'] = df_pantai['cleaned_tweet'].apply(lambda x: clean_spaces(x))\n",
    "df_pantai.head()"
   ]
  },
  {
   "cell_type": "code",
   "execution_count": 11,
   "id": "3e63393c",
   "metadata": {},
   "outputs": [],
   "source": [
    "header = [\"created_at\", \"author\", \"cleaned_tweet\"]\n",
    "df_pantai.to_csv(filename, index=False, columns=header)"
   ]
  },
  {
   "cell_type": "markdown",
   "id": "9dc18ddb",
   "metadata": {},
   "source": [
    "## Kuliner"
   ]
  },
  {
   "cell_type": "code",
   "execution_count": 15,
   "id": "5b963f92",
   "metadata": {},
   "outputs": [],
   "source": [
    "path = 'kuliner/'\n",
    "filename = path + \"Kuliner \" + str(date.today()) + \".csv\"\n",
    "category_tweet_retriever(filename, \"Kuliner\")"
   ]
  },
  {
   "cell_type": "code",
   "execution_count": 16,
   "id": "ba8821a0",
   "metadata": {},
   "outputs": [
    {
     "data": {
      "text/plain": [
       "(1000, 3)"
      ]
     },
     "execution_count": 16,
     "metadata": {},
     "output_type": "execute_result"
    }
   ],
   "source": [
    "df_kuliner = pd.read_csv(filename, encoding='unicode_escape')\n",
    "df_kuliner.shape"
   ]
  },
  {
   "cell_type": "code",
   "execution_count": 17,
   "id": "9a43e8fd",
   "metadata": {},
   "outputs": [
    {
     "data": {
      "text/html": [
       "<div>\n",
       "<style scoped>\n",
       "    .dataframe tbody tr th:only-of-type {\n",
       "        vertical-align: middle;\n",
       "    }\n",
       "\n",
       "    .dataframe tbody tr th {\n",
       "        vertical-align: top;\n",
       "    }\n",
       "\n",
       "    .dataframe thead th {\n",
       "        text-align: right;\n",
       "    }\n",
       "</style>\n",
       "<table border=\"1\" class=\"dataframe\">\n",
       "  <thead>\n",
       "    <tr style=\"text-align: right;\">\n",
       "      <th></th>\n",
       "      <th>created_at</th>\n",
       "      <th>author</th>\n",
       "      <th>text</th>\n",
       "    </tr>\n",
       "  </thead>\n",
       "  <tbody>\n",
       "    <tr>\n",
       "      <th>0</th>\n",
       "      <td>2022-10-17 13:54:34+00:00</td>\n",
       "      <td>rajodurian</td>\n",
       "      <td>Nikmati Olahan durian khas nusantara. Atau And...</td>\n",
       "    </tr>\n",
       "    <tr>\n",
       "      <th>1</th>\n",
       "      <td>2022-10-17 13:53:50+00:00</td>\n",
       "      <td>_seirama</td>\n",
       "      <td>@darjofess samaa, info kuliner lah</td>\n",
       "    </tr>\n",
       "    <tr>\n",
       "      <th>2</th>\n",
       "      <td>2022-10-17 13:53:48+00:00</td>\n",
       "      <td>kanjengmelmel</td>\n",
       "      <td>BANDUNG. Warung Kopi Purnama. Warung kopi lege...</td>\n",
       "    </tr>\n",
       "    <tr>\n",
       "      <th>3</th>\n",
       "      <td>2022-10-17 13:53:24+00:00</td>\n",
       "      <td>wonuvyu</td>\n",
       "      <td>RT @sukaskincarean: Rekomendasi kuliner di Mal...</td>\n",
       "    </tr>\n",
       "    <tr>\n",
       "      <th>4</th>\n",
       "      <td>2022-10-17 13:53:09+00:00</td>\n",
       "      <td>detikcom</td>\n",
       "      <td>Banyak netizen membagikan cara makan yang aneh...</td>\n",
       "    </tr>\n",
       "  </tbody>\n",
       "</table>\n",
       "</div>"
      ],
      "text/plain": [
       "                  created_at         author  \\\n",
       "0  2022-10-17 13:54:34+00:00     rajodurian   \n",
       "1  2022-10-17 13:53:50+00:00       _seirama   \n",
       "2  2022-10-17 13:53:48+00:00  kanjengmelmel   \n",
       "3  2022-10-17 13:53:24+00:00        wonuvyu   \n",
       "4  2022-10-17 13:53:09+00:00       detikcom   \n",
       "\n",
       "                                                text  \n",
       "0  Nikmati Olahan durian khas nusantara. Atau And...  \n",
       "1                 @darjofess samaa, info kuliner lah  \n",
       "2  BANDUNG. Warung Kopi Purnama. Warung kopi lege...  \n",
       "3  RT @sukaskincarean: Rekomendasi kuliner di Mal...  \n",
       "4  Banyak netizen membagikan cara makan yang aneh...  "
      ]
     },
     "execution_count": 17,
     "metadata": {},
     "output_type": "execute_result"
    }
   ],
   "source": [
    "df_kuliner.head()"
   ]
  },
  {
   "cell_type": "code",
   "execution_count": 18,
   "id": "3ee3f670",
   "metadata": {},
   "outputs": [
    {
     "data": {
      "text/html": [
       "<div>\n",
       "<style scoped>\n",
       "    .dataframe tbody tr th:only-of-type {\n",
       "        vertical-align: middle;\n",
       "    }\n",
       "\n",
       "    .dataframe tbody tr th {\n",
       "        vertical-align: top;\n",
       "    }\n",
       "\n",
       "    .dataframe thead th {\n",
       "        text-align: right;\n",
       "    }\n",
       "</style>\n",
       "<table border=\"1\" class=\"dataframe\">\n",
       "  <thead>\n",
       "    <tr style=\"text-align: right;\">\n",
       "      <th></th>\n",
       "      <th>created_at</th>\n",
       "      <th>author</th>\n",
       "      <th>text</th>\n",
       "      <th>cleaned_tweet</th>\n",
       "    </tr>\n",
       "  </thead>\n",
       "  <tbody>\n",
       "    <tr>\n",
       "      <th>0</th>\n",
       "      <td>2022-10-17 13:54:34+00:00</td>\n",
       "      <td>rajodurian</td>\n",
       "      <td>Nikmati Olahan durian khas nusantara. Atau And...</td>\n",
       "      <td>nikmati olahan durian khas nusantara atau anda...</td>\n",
       "    </tr>\n",
       "    <tr>\n",
       "      <th>1</th>\n",
       "      <td>2022-10-17 13:53:50+00:00</td>\n",
       "      <td>_seirama</td>\n",
       "      <td>@darjofess samaa, info kuliner lah</td>\n",
       "      <td>samaa info kuliner lah</td>\n",
       "    </tr>\n",
       "    <tr>\n",
       "      <th>2</th>\n",
       "      <td>2022-10-17 13:53:48+00:00</td>\n",
       "      <td>kanjengmelmel</td>\n",
       "      <td>BANDUNG. Warung Kopi Purnama. Warung kopi lege...</td>\n",
       "      <td>bandung warung kopi purnama warung kopi legend...</td>\n",
       "    </tr>\n",
       "    <tr>\n",
       "      <th>3</th>\n",
       "      <td>2022-10-17 13:53:24+00:00</td>\n",
       "      <td>wonuvyu</td>\n",
       "      <td>RT @sukaskincarean: Rekomendasi kuliner di Mal...</td>\n",
       "      <td>rekomendasi kuliner di malang mulai dari 10 ri...</td>\n",
       "    </tr>\n",
       "    <tr>\n",
       "      <th>4</th>\n",
       "      <td>2022-10-17 13:53:09+00:00</td>\n",
       "      <td>detikcom</td>\n",
       "      <td>Banyak netizen membagikan cara makan yang aneh...</td>\n",
       "      <td>banyak netizen membagikan cara makan yang aneh...</td>\n",
       "    </tr>\n",
       "  </tbody>\n",
       "</table>\n",
       "</div>"
      ],
      "text/plain": [
       "                  created_at         author  \\\n",
       "0  2022-10-17 13:54:34+00:00     rajodurian   \n",
       "1  2022-10-17 13:53:50+00:00       _seirama   \n",
       "2  2022-10-17 13:53:48+00:00  kanjengmelmel   \n",
       "3  2022-10-17 13:53:24+00:00        wonuvyu   \n",
       "4  2022-10-17 13:53:09+00:00       detikcom   \n",
       "\n",
       "                                                text  \\\n",
       "0  Nikmati Olahan durian khas nusantara. Atau And...   \n",
       "1                 @darjofess samaa, info kuliner lah   \n",
       "2  BANDUNG. Warung Kopi Purnama. Warung kopi lege...   \n",
       "3  RT @sukaskincarean: Rekomendasi kuliner di Mal...   \n",
       "4  Banyak netizen membagikan cara makan yang aneh...   \n",
       "\n",
       "                                       cleaned_tweet  \n",
       "0  nikmati olahan durian khas nusantara atau anda...  \n",
       "1                             samaa info kuliner lah  \n",
       "2  bandung warung kopi purnama warung kopi legend...  \n",
       "3  rekomendasi kuliner di malang mulai dari 10 ri...  \n",
       "4  banyak netizen membagikan cara makan yang aneh...  "
      ]
     },
     "execution_count": 18,
     "metadata": {},
     "output_type": "execute_result"
    }
   ],
   "source": [
    "df_kuliner['cleaned_tweet'] = df_kuliner['text'].apply(lambda x: clean_tweet(x))\n",
    "df_kuliner['cleaned_tweet'] = df_kuliner['cleaned_tweet'].apply(lambda x: clean_spaces(x))\n",
    "df_kuliner.head()"
   ]
  },
  {
   "cell_type": "code",
   "execution_count": 19,
   "id": "f7f26ccf",
   "metadata": {},
   "outputs": [],
   "source": [
    "header = [\"created_at\", \"author\", \"cleaned_tweet\"]\n",
    "df_kuliner.to_csv(filename, index=False, columns=header)"
   ]
  },
  {
   "cell_type": "code",
   "execution_count": null,
   "id": "6f75ac89",
   "metadata": {},
   "outputs": [],
   "source": []
  }
 ],
 "metadata": {
  "kernelspec": {
   "display_name": "Python 3 (ipykernel)",
   "language": "python",
   "name": "python3"
  },
  "language_info": {
   "codemirror_mode": {
    "name": "ipython",
    "version": 3
   },
   "file_extension": ".py",
   "mimetype": "text/x-python",
   "name": "python",
   "nbconvert_exporter": "python",
   "pygments_lexer": "ipython3",
   "version": "3.9.6"
  }
 },
 "nbformat": 4,
 "nbformat_minor": 5
}
