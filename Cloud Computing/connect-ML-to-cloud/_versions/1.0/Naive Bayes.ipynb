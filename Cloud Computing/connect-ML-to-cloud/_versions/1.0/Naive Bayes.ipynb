{
 "cells": [
  {
   "cell_type": "markdown",
   "id": "37f729aa",
   "metadata": {},
   "source": [
    "# Dataset Building"
   ]
  },
  {
   "cell_type": "code",
   "execution_count": 1,
   "id": "48872086",
   "metadata": {},
   "outputs": [],
   "source": [
    "import tweepy\n",
    "import csv\n",
    "import string\n",
    "import pandas as pd\n",
    "import numpy as np\n",
    "import matplotlib.pyplot as plt\n",
    "import re\n",
    "from sklearn import model_selection\n",
    "from sklearn.naive_bayes import MultinomialNB\n",
    "from sklearn.metrics import classification_report\n",
    "from sklearn.model_selection import train_test_split\n",
    "from sklearn.feature_extraction.text import CountVectorizer\n",
    "from sklearn.feature_extraction.text import TfidfTransformer\n",
    "from sklearn.metrics import accuracy_score\n",
    "from sklearn.preprocessing import OneHotEncoder, LabelEncoder"
   ]
  },
  {
   "cell_type": "markdown",
   "id": "e4d8bd6c",
   "metadata": {},
   "source": [
    "# Analysis"
   ]
  },
  {
   "cell_type": "code",
   "execution_count": 2,
   "id": "220db575",
   "metadata": {},
   "outputs": [],
   "source": [
    "def splitter(tweet):\n",
    "    return tweet.split()"
   ]
  },
  {
   "cell_type": "code",
   "execution_count": 3,
   "id": "a90c3cc7",
   "metadata": {},
   "outputs": [],
   "source": [
    "df_all = pd.read_csv(\"_dataset/dataset_unique 2022-11-01.csv\")"
   ]
  },
  {
   "cell_type": "code",
   "execution_count": 4,
   "id": "d559938d",
   "metadata": {},
   "outputs": [
    {
     "name": "stdout",
     "output_type": "stream",
     "text": [
      "<class 'pandas.core.frame.DataFrame'>\n",
      "RangeIndex: 27052 entries, 0 to 27051\n",
      "Data columns (total 4 columns):\n",
      " #   Column         Non-Null Count  Dtype \n",
      "---  ------         --------------  ----- \n",
      " 0   created_at     27052 non-null  object\n",
      " 1   author         27052 non-null  object\n",
      " 2   cleaned_tweet  27051 non-null  object\n",
      " 3   category       27052 non-null  object\n",
      "dtypes: object(4)\n",
      "memory usage: 845.5+ KB\n"
     ]
    }
   ],
   "source": [
    "df_all.info()"
   ]
  },
  {
   "cell_type": "code",
   "execution_count": 5,
   "id": "4cf88120",
   "metadata": {},
   "outputs": [],
   "source": [
    "df_all = df_all.dropna()"
   ]
  },
  {
   "cell_type": "code",
   "execution_count": 6,
   "id": "9a29e913",
   "metadata": {},
   "outputs": [
    {
     "name": "stdout",
     "output_type": "stream",
     "text": [
      "0         gunung\n",
      "1         gunung\n",
      "2         gunung\n",
      "3         gunung\n",
      "4         gunung\n",
      "          ...   \n",
      "27047    kuliner\n",
      "27048    kuliner\n",
      "27049    kuliner\n",
      "27050    kuliner\n",
      "27051    kuliner\n",
      "Name: category, Length: 27051, dtype: object\n"
     ]
    }
   ],
   "source": [
    "yTarget = df_all[\"category\"]\n",
    "print(yTarget)"
   ]
  },
  {
   "cell_type": "code",
   "execution_count": 7,
   "id": "0e3c9180",
   "metadata": {},
   "outputs": [
    {
     "name": "stdout",
     "output_type": "stream",
     "text": [
      "[0 0 0 ... 1 1 1]\n",
      "(27051,)\n"
     ]
    }
   ],
   "source": [
    "# ubah kategori jadi angka\n",
    "encoder = LabelEncoder()\n",
    "Y = encoder.fit_transform(yTarget)\n",
    "print(Y)\n",
    "print(Y.shape)"
   ]
  },
  {
   "cell_type": "code",
   "execution_count": 8,
   "id": "0b9983ce",
   "metadata": {},
   "outputs": [
    {
     "data": {
      "text/plain": [
       "'dah dua tiga hari bersweater dalam rumah gunung jerai pun berkabus estetik betulll'"
      ]
     },
     "execution_count": 8,
     "metadata": {},
     "output_type": "execute_result"
    }
   ],
   "source": [
    "df_all['cleaned_tweet'][10]"
   ]
  },
  {
   "cell_type": "code",
   "execution_count": 9,
   "id": "36e8c2e4",
   "metadata": {
    "scrolled": true
   },
   "outputs": [
    {
     "name": "stdout",
     "output_type": "stream",
     "text": [
      "44308\n",
      "(27051, 44308)\n",
      "  (0, 4886)\t1\n",
      "  (0, 5235)\t1\n",
      "  (0, 5436)\t1\n",
      "  (0, 8490)\t1\n",
      "  (0, 8536)\t1\n",
      "  (0, 11197)\t1\n",
      "  (0, 11979)\t1\n",
      "  (0, 14259)\t1\n",
      "  (0, 14753)\t1\n",
      "  (0, 17274)\t1\n",
      "  (0, 33145)\t1\n",
      "  (0, 34657)\t1\n",
      "  (0, 40873)\t1\n"
     ]
    }
   ],
   "source": [
    "vectorizer = CountVectorizer(analyzer=splitter).fit(df_all[\"cleaned_tweet\"])\n",
    "xTarget = vectorizer.transform(df_all[\"cleaned_tweet\"])\n",
    "# print(vectorizer.vocabulary_)\n",
    "print(len(vectorizer.vocabulary_))\n",
    "print(xTarget.shape)\n",
    "print(xTarget[10])"
   ]
  },
  {
   "cell_type": "code",
   "execution_count": 10,
   "id": "aa73112d",
   "metadata": {},
   "outputs": [
    {
     "name": "stdout",
     "output_type": "stream",
     "text": [
      "(27051, 44308)\n",
      "  (0, 40873)\t0.26816761136422484\n",
      "  (0, 34657)\t0.18970853184705305\n",
      "  (0, 33145)\t0.20760510286752643\n",
      "  (0, 17274)\t0.32435241485285293\n",
      "  (0, 14753)\t0.17524322007695778\n",
      "  (0, 14259)\t0.07926494349308313\n",
      "  (0, 11979)\t0.3314643102029153\n",
      "  (0, 11197)\t0.226003984515007\n",
      "  (0, 8536)\t0.1895030488613134\n",
      "  (0, 8490)\t0.1991406246220643\n",
      "  (0, 5436)\t0.38302260850612335\n",
      "  (0, 5235)\t0.410060498578026\n",
      "  (0, 4886)\t0.39424434678734216\n"
     ]
    }
   ],
   "source": [
    "tfidf = TfidfTransformer()\n",
    "X = tfidf.fit_transform(xTarget)\n",
    "print(X.shape)\n",
    "print(X[10])"
   ]
  },
  {
   "cell_type": "code",
   "execution_count": 11,
   "id": "959e1887",
   "metadata": {},
   "outputs": [
    {
     "name": "stdout",
     "output_type": "stream",
     "text": [
      "(21640, 44308)\n",
      "(5411, 44308)\n",
      "(21640,)\n",
      "(5411,)\n"
     ]
    }
   ],
   "source": [
    "X_train, X_test, y_train, y_test = train_test_split(X, Y, test_size=0.2, random_state=15)\n",
    "print(X_train.shape)\n",
    "print(X_test.shape)\n",
    "print(y_train.shape)\n",
    "print(y_test.shape)"
   ]
  },
  {
   "cell_type": "code",
   "execution_count": 12,
   "id": "2c8b51b7",
   "metadata": {},
   "outputs": [
    {
     "name": "stdout",
     "output_type": "stream",
     "text": [
      "MultinomialNB()\n"
     ]
    }
   ],
   "source": [
    "NaiveBayes = MultinomialNB().fit(X_train, np.ravel(y_train, order=\"C\"))\n",
    "print(NaiveBayes)"
   ]
  },
  {
   "cell_type": "code",
   "execution_count": 13,
   "id": "d88ffab3",
   "metadata": {},
   "outputs": [
    {
     "name": "stdout",
     "output_type": "stream",
     "text": [
      "[1 0 0 ... 1 1 1]\n",
      "0.8968767325817779\n"
     ]
    }
   ],
   "source": [
    "prediction = NaiveBayes.predict(X_test)\n",
    "accuracies = accuracy_score(y_test, prediction)\n",
    "\n",
    "print(prediction)\n",
    "print(accuracies)"
   ]
  },
  {
   "cell_type": "code",
   "execution_count": 14,
   "id": "50cfff44",
   "metadata": {},
   "outputs": [
    {
     "data": {
      "text/plain": [
       "gunung     9881\n",
       "pantai     9648\n",
       "kuliner    7522\n",
       "Name: category, dtype: int64"
      ]
     },
     "execution_count": 14,
     "metadata": {},
     "output_type": "execute_result"
    }
   ],
   "source": [
    "df_all['category'].value_counts()"
   ]
  },
  {
   "cell_type": "code",
   "execution_count": 15,
   "id": "3f68f29e",
   "metadata": {},
   "outputs": [
    {
     "name": "stdout",
     "output_type": "stream",
     "text": [
      "[[1822   28  162]\n",
      " [  89 1289   82]\n",
      " [ 160   37 1742]]\n"
     ]
    }
   ],
   "source": [
    "from sklearn.metrics import classification_report, accuracy_score, confusion_matrix\n",
    "from sklearn.utils.multiclass import unique_labels\n",
    "import seaborn as sns\n",
    "import matplotlib.pyplot as plt\n",
    "\n",
    "cf_matrix = confusion_matrix(y_test, prediction)\n",
    "print(confusion_matrix(y_test, prediction))"
   ]
  },
  {
   "cell_type": "code",
   "execution_count": 16,
   "id": "5a1419e6",
   "metadata": {},
   "outputs": [
    {
     "data": {
      "text/plain": [
       "<AxesSubplot:>"
      ]
     },
     "execution_count": 16,
     "metadata": {},
     "output_type": "execute_result"
    },
    {
     "data": {
      "image/png": "[encoded data removed]",
      "text/plain": [
       "<Figure size 432x288 with 2 Axes>"
      ]
     },
     "metadata": {
      "needs_background": "light"
     },
     "output_type": "display_data"
    }
   ],
   "source": [
    "labels = [\"gunung\", \"pantai\", \"kuliner\"]\n",
    "sns.heatmap(cf_matrix, annot=True, cmap='YlOrBr', fmt=\"d\",\n",
    "            xticklabels=labels, yticklabels=labels)"
   ]
  },
  {
   "cell_type": "code",
   "execution_count": 17,
   "id": "ac1f2353",
   "metadata": {},
   "outputs": [
    {
     "name": "stdout",
     "output_type": "stream",
     "text": [
      "(27051, 44308)\n",
      "(27051,)\n"
     ]
    }
   ],
   "source": [
    "X_dataset, y_dataset = X, Y\n",
    "\n",
    "print(X_dataset.shape)\n",
    "print(y_dataset.shape)"
   ]
  },
  {
   "cell_type": "markdown",
   "id": "816caff9",
   "metadata": {},
   "source": [
    "## Real User Tweet Implementation"
   ]
  },
  {
   "cell_type": "code",
   "execution_count": 18,
   "id": "8d399e08",
   "metadata": {},
   "outputs": [
    {
     "name": "stdout",
     "output_type": "stream",
     "text": [
      "importing Jupyter notebook from TweetRetrieval.ipynb\n",
      "Today: 2022-11-02\n"
     ]
    }
   ],
   "source": [
    "import import_ipynb\n",
    "from TweetRetrieval import *"
   ]
  },
  {
   "cell_type": "code",
   "execution_count": 19,
   "id": "360811d4",
   "metadata": {},
   "outputs": [],
   "source": [
    "# sementara yang real time kita disable dulu ya ges\n",
    "\n",
    "# path = 'user/'\n",
    "# username = \"rochmanstn\"\n",
    "# filename = path + username + \" \" + str(date.today()) + \".csv\"\n",
    "\n",
    "# print(filename)\n",
    "# user_tweet_retriever(filename, username)"
   ]
  },
  {
   "cell_type": "code",
   "execution_count": 20,
   "id": "b9fcddf2",
   "metadata": {},
   "outputs": [
    {
     "data": {
      "text/plain": [
       "['Adindathomass 2022-10-19.csv',\n",
       " 'aliifnrhmn 2022-10-19.csv',\n",
       " 'dummydunkey 2022-10-19.csv',\n",
       " 'KatakBotak2 2022-10-19.csv',\n",
       " 'muhhamadgogo 2022-10-19.csv',\n",
       " 'rndraadty 2022-10-19.csv',\n",
       " 'rochmanstn 2022-10-19.csv',\n",
       " 'sleepywll 2022-10-19.csv']"
      ]
     },
     "execution_count": 20,
     "metadata": {},
     "output_type": "execute_result"
    }
   ],
   "source": [
    "import os\n",
    "user_list = os.listdir(\"user\")\n",
    "user_list"
   ]
  },
  {
   "cell_type": "code",
   "execution_count": 21,
   "id": "b317a825",
   "metadata": {},
   "outputs": [
    {
     "data": {
      "text/html": [
       "<div>\n",
       "<style scoped>\n",
       "    .dataframe tbody tr th:only-of-type {\n",
       "        vertical-align: middle;\n",
       "    }\n",
       "\n",
       "    .dataframe tbody tr th {\n",
       "        vertical-align: top;\n",
       "    }\n",
       "\n",
       "    .dataframe thead th {\n",
       "        text-align: right;\n",
       "    }\n",
       "</style>\n",
       "<table border=\"1\" class=\"dataframe\">\n",
       "  <thead>\n",
       "    <tr style=\"text-align: right;\">\n",
       "      <th></th>\n",
       "      <th>created_at</th>\n",
       "      <th>cleaned_tweet</th>\n",
       "    </tr>\n",
       "  </thead>\n",
       "  <tbody>\n",
       "    <tr>\n",
       "      <th>0</th>\n",
       "      <td>2022-10-19 11:21:46+00:00</td>\n",
       "      <td>why why why</td>\n",
       "    </tr>\n",
       "    <tr>\n",
       "      <th>1</th>\n",
       "      <td>2022-10-11 14:48:51+00:00</td>\n",
       "      <td>butuh pendengar yang baik</td>\n",
       "    </tr>\n",
       "    <tr>\n",
       "      <th>2</th>\n",
       "      <td>2022-10-09 05:45:13+00:00</td>\n",
       "      <td>terobos aja lah bismillah</td>\n",
       "    </tr>\n",
       "    <tr>\n",
       "      <th>3</th>\n",
       "      <td>2022-10-07 07:39:56+00:00</td>\n",
       "      <td>kumpulin niatnya vio</td>\n",
       "    </tr>\n",
       "    <tr>\n",
       "      <th>4</th>\n",
       "      <td>2022-10-06 07:00:36+00:00</td>\n",
       "      <td>gimana ya ya gimana lagi</td>\n",
       "    </tr>\n",
       "    <tr>\n",
       "      <th>...</th>\n",
       "      <td>...</td>\n",
       "      <td>...</td>\n",
       "    </tr>\n",
       "    <tr>\n",
       "      <th>175</th>\n",
       "      <td>2014-09-09 10:14:38+00:00</td>\n",
       "      <td>follow buat kamu kamu yang udah punya pacar ha...</td>\n",
       "    </tr>\n",
       "    <tr>\n",
       "      <th>176</th>\n",
       "      <td>2014-08-30 15:41:03+00:00</td>\n",
       "      <td>follow buat pasangan2 lo cocok dikasih surepri...</td>\n",
       "    </tr>\n",
       "    <tr>\n",
       "      <th>177</th>\n",
       "      <td>2014-08-26 16:30:49+00:00</td>\n",
       "      <td>fun karikatur mulai dari hrga 100 500rb setiap...</td>\n",
       "    </tr>\n",
       "    <tr>\n",
       "      <th>178</th>\n",
       "      <td>2014-08-23 13:27:41+00:00</td>\n",
       "      <td>click for your money pocket</td>\n",
       "    </tr>\n",
       "    <tr>\n",
       "      <th>179</th>\n",
       "      <td>2014-08-23 09:48:35+00:00</td>\n",
       "      <td>open jasa karikatur art mulai dari hrga 100k 5...</td>\n",
       "    </tr>\n",
       "  </tbody>\n",
       "</table>\n",
       "<p>180 rows × 2 columns</p>\n",
       "</div>"
      ],
      "text/plain": [
       "                    created_at  \\\n",
       "0    2022-10-19 11:21:46+00:00   \n",
       "1    2022-10-11 14:48:51+00:00   \n",
       "2    2022-10-09 05:45:13+00:00   \n",
       "3    2022-10-07 07:39:56+00:00   \n",
       "4    2022-10-06 07:00:36+00:00   \n",
       "..                         ...   \n",
       "175  2014-09-09 10:14:38+00:00   \n",
       "176  2014-08-30 15:41:03+00:00   \n",
       "177  2014-08-26 16:30:49+00:00   \n",
       "178  2014-08-23 13:27:41+00:00   \n",
       "179  2014-08-23 09:48:35+00:00   \n",
       "\n",
       "                                         cleaned_tweet  \n",
       "0                                          why why why  \n",
       "1                            butuh pendengar yang baik  \n",
       "2                            terobos aja lah bismillah  \n",
       "3                                 kumpulin niatnya vio  \n",
       "4                             gimana ya ya gimana lagi  \n",
       "..                                                 ...  \n",
       "175  follow buat kamu kamu yang udah punya pacar ha...  \n",
       "176  follow buat pasangan2 lo cocok dikasih surepri...  \n",
       "177  fun karikatur mulai dari hrga 100 500rb setiap...  \n",
       "178                        click for your money pocket  \n",
       "179  open jasa karikatur art mulai dari hrga 100k 5...  \n",
       "\n",
       "[180 rows x 2 columns]"
      ]
     },
     "execution_count": 21,
     "metadata": {},
     "output_type": "execute_result"
    }
   ],
   "source": [
    "df_user = pd.read_csv(\"user/\" + user_list[6])\n",
    "df_user"
   ]
  },
  {
   "cell_type": "code",
   "execution_count": 22,
   "id": "31cf0c3b",
   "metadata": {},
   "outputs": [],
   "source": [
    "# df_user['cleaned_tweet'] = df_user['tweet'].apply(lambda x: clean_tweet(x))\n",
    "# df_user['cleaned_tweet'] = df_user['cleaned_tweet'].apply(lambda x: clean_spaces(x))\n",
    "# df_user"
   ]
  },
  {
   "cell_type": "code",
   "execution_count": 23,
   "id": "62b993dc",
   "metadata": {},
   "outputs": [],
   "source": [
    "# df_user.head()"
   ]
  },
  {
   "cell_type": "code",
   "execution_count": 24,
   "id": "c85f0b6e",
   "metadata": {},
   "outputs": [],
   "source": [
    "# for i in range(len(df_user)):\n",
    "#     if df_user['cleaned_tweet'][i] == '':\n",
    "#         df_user = df_user.drop(i, axis=0)"
   ]
  },
  {
   "cell_type": "code",
   "execution_count": 25,
   "id": "42989949",
   "metadata": {},
   "outputs": [],
   "source": [
    "# len(df_user)\n",
    "# df_user.head()"
   ]
  },
  {
   "cell_type": "code",
   "execution_count": 26,
   "id": "a898ec54",
   "metadata": {},
   "outputs": [],
   "source": [
    "# header = [\"created_at\", \"cleaned_tweet\"]\n",
    "# df_user.to_csv(filename, index=False, columns=header)"
   ]
  },
  {
   "cell_type": "code",
   "execution_count": 27,
   "id": "972775d0",
   "metadata": {},
   "outputs": [
    {
     "name": "stdout",
     "output_type": "stream",
     "text": [
      "  (0, 3348)\t1\n",
      "  (0, 6817)\t1\n",
      "  (0, 30976)\t1\n",
      "  (0, 43854)\t1\n"
     ]
    }
   ],
   "source": [
    "userTarget = vectorizer.transform(df_user[\"cleaned_tweet\"])\n",
    "print(userTarget[1])"
   ]
  },
  {
   "cell_type": "code",
   "execution_count": 28,
   "id": "39cf2207",
   "metadata": {},
   "outputs": [
    {
     "name": "stdout",
     "output_type": "stream",
     "text": [
      "(180, 44308)\n",
      "  (0, 43854)\t0.34537356911356903\n",
      "  (0, 30976)\t0.593675299623183\n",
      "  (0, 6817)\t0.5499515352720405\n",
      "  (0, 3348)\t0.47520526641337246\n"
     ]
    }
   ],
   "source": [
    "tfidf = TfidfTransformer()\n",
    "user = tfidf.fit_transform(userTarget)\n",
    "print(user.shape)\n",
    "print(user[1])"
   ]
  },
  {
   "cell_type": "code",
   "execution_count": 29,
   "id": "65da4b69",
   "metadata": {},
   "outputs": [
    {
     "name": "stdout",
     "output_type": "stream",
     "text": [
      "[[0.45194165 0.17419347 0.37386488]\n",
      " [0.35879441 0.22044489 0.4207607 ]\n",
      " [0.44904173 0.25165262 0.29930565]\n",
      " [0.27441753 0.30765098 0.41793149]\n",
      " [0.46040652 0.16355585 0.37603763]\n",
      " [0.41810611 0.26277523 0.31911866]\n",
      " [0.42296829 0.21438981 0.3626419 ]\n",
      " [0.29001914 0.30659166 0.4033892 ]\n",
      " [0.21492184 0.13366509 0.65141307]\n",
      " [0.46591036 0.15001547 0.38407417]\n",
      " [0.46231946 0.11377217 0.42390837]\n",
      " [0.38337095 0.13264632 0.48398273]\n",
      " [0.30079113 0.31683977 0.3823691 ]\n",
      " [0.31296105 0.16179992 0.52523903]\n",
      " [0.29198972 0.26006566 0.44794462]\n",
      " [0.2072107  0.22798266 0.56480664]\n",
      " [0.40018383 0.21301411 0.38680207]\n",
      " [0.30329463 0.12928244 0.56742293]\n",
      " [0.51574195 0.25305549 0.23120256]\n",
      " [0.67808579 0.0783387  0.24357552]\n",
      " [0.48995719 0.13701329 0.37302952]\n",
      " [0.44494093 0.1081108  0.44694827]\n",
      " [0.66717552 0.07662629 0.25619819]\n",
      " [0.32596524 0.06076442 0.61327034]\n",
      " [0.44988621 0.147621   0.40249279]\n",
      " [0.33123952 0.26752864 0.40123184]\n",
      " [0.1990638  0.26144085 0.53949534]\n",
      " [0.22229152 0.17387489 0.60383359]\n",
      " [0.23980176 0.18858548 0.57161276]\n",
      " [0.52380592 0.16387117 0.31232291]\n",
      " [0.42974659 0.15700969 0.41324372]\n",
      " [0.97584703 0.0019494  0.02220356]\n",
      " [0.42894779 0.1653196  0.40573261]\n",
      " [0.45478972 0.31693675 0.22827353]\n",
      " [0.380978   0.37504585 0.24397615]\n",
      " [0.57435403 0.04829326 0.37735271]\n",
      " [0.42084391 0.18971646 0.38943962]\n",
      " [0.50644639 0.22426424 0.26928937]\n",
      " [0.35540483 0.194795   0.44980017]\n",
      " [0.28809801 0.1599322  0.55196979]\n",
      " [0.26240975 0.10523537 0.63235488]\n",
      " [0.21208081 0.10729096 0.68062823]\n",
      " [0.41900093 0.19421674 0.38678234]\n",
      " [0.50884658 0.13363158 0.35752184]\n",
      " [0.39129151 0.25404656 0.35466193]\n",
      " [0.50432501 0.23031129 0.26536371]\n",
      " [0.3671313  0.16637263 0.46649606]\n",
      " [0.50693993 0.09878014 0.39427993]\n",
      " [0.33857253 0.18211688 0.47931059]\n",
      " [0.51354988 0.10713486 0.37931526]\n",
      " [0.51195512 0.18525823 0.30278665]\n",
      " [0.14025346 0.11822766 0.74151888]\n",
      " [0.50790155 0.24807303 0.24402542]\n",
      " [0.28695728 0.36205152 0.3509912 ]\n",
      " [0.48316826 0.16504475 0.35178699]\n",
      " [0.21102727 0.29529126 0.49368147]\n",
      " [0.36945456 0.29093078 0.33961467]\n",
      " [0.25453976 0.06103928 0.68442096]\n",
      " [0.40262822 0.07052666 0.52684513]\n",
      " [0.46809942 0.19930669 0.33259388]\n",
      " [0.44945176 0.09991293 0.45063531]\n",
      " [0.36154323 0.16398406 0.47447271]\n",
      " [0.19528941 0.09423453 0.71047606]\n",
      " [0.27624489 0.41537523 0.30837988]\n",
      " [0.22182726 0.30841092 0.46976182]\n",
      " [0.4680159  0.18903112 0.34295298]\n",
      " [0.60327291 0.18859078 0.20813631]\n",
      " [0.35220775 0.13856243 0.50922982]\n",
      " [0.25503757 0.19378763 0.55117479]\n",
      " [0.20825514 0.19312866 0.59861621]\n",
      " [0.31347435 0.29829227 0.38823338]\n",
      " [0.23448395 0.06015381 0.70536225]\n",
      " [0.58078926 0.1693422  0.24986854]\n",
      " [0.32028677 0.19428818 0.48542506]\n",
      " [0.46270956 0.18751064 0.3497798 ]\n",
      " [0.28498686 0.24336543 0.47164771]\n",
      " [0.21141415 0.16090451 0.62768134]\n",
      " [0.25720113 0.32601889 0.41677998]\n",
      " [0.31852115 0.2545169  0.42696195]\n",
      " [0.25911757 0.24244897 0.49843346]\n",
      " [0.52389567 0.17690067 0.29920366]\n",
      " [0.32687805 0.46887507 0.20424688]\n",
      " [0.22508387 0.10806551 0.66685062]\n",
      " [0.36363216 0.28012939 0.35623845]\n",
      " [0.4232199  0.35395565 0.22282446]\n",
      " [0.4243427  0.17520764 0.40044965]\n",
      " [0.51145842 0.11784749 0.37069409]\n",
      " [0.13776479 0.189655   0.67258021]\n",
      " [0.2727685  0.20099309 0.52623841]\n",
      " [0.27827808 0.51129075 0.21043116]\n",
      " [0.37775166 0.16257764 0.4596707 ]\n",
      " [0.0788736  0.69612756 0.22499884]\n",
      " [0.43909616 0.25479641 0.30610743]\n",
      " [0.52476253 0.14166876 0.33356871]\n",
      " [0.46141373 0.33920827 0.19937799]\n",
      " [0.43526445 0.24155154 0.32318401]\n",
      " [0.36363216 0.28012939 0.35623845]\n",
      " [0.2421723  0.13118269 0.62664501]\n",
      " [0.30006497 0.37236892 0.32756611]\n",
      " [0.12268411 0.26761582 0.60970008]\n",
      " [0.49600651 0.15467781 0.34931568]\n",
      " [0.36549384 0.32230843 0.31219773]\n",
      " [0.52223273 0.2470473  0.23071997]\n",
      " [0.3586165  0.28963992 0.35174358]\n",
      " [0.13808987 0.68923132 0.17267881]\n",
      " [0.45541866 0.22265    0.32193134]\n",
      " [0.35588004 0.39758146 0.24653849]\n",
      " [0.23608095 0.38513847 0.37878058]\n",
      " [0.43441533 0.06160175 0.50398291]\n",
      " [0.47214672 0.1627818  0.36507148]\n",
      " [0.38039656 0.20417455 0.41542889]\n",
      " [0.4505706  0.14749682 0.40193258]\n",
      " [0.37683119 0.09570315 0.52746566]\n",
      " [0.37389168 0.39037803 0.23573028]\n",
      " [0.39092932 0.16810295 0.44096773]\n",
      " [0.49713516 0.17708769 0.32577714]\n",
      " [0.38610091 0.30890145 0.30499764]\n",
      " [0.33491347 0.29895574 0.36613079]\n",
      " [0.48190877 0.2079591  0.31013213]\n",
      " [0.50440472 0.19240904 0.30318624]\n",
      " [0.30174818 0.23513673 0.4631151 ]\n",
      " [0.37244922 0.1063081  0.52124268]\n",
      " [0.4210972  0.24098867 0.33791413]\n",
      " [0.57921247 0.13513132 0.28565621]\n",
      " [0.27408984 0.44510104 0.28080912]\n",
      " [0.33035928 0.29611711 0.37352361]\n",
      " [0.30302915 0.42827669 0.26869416]\n",
      " [0.27583034 0.32442278 0.39974689]\n",
      " [0.35416135 0.18543805 0.4604006 ]\n",
      " [0.49681414 0.13163373 0.37155213]\n",
      " [0.43763714 0.31363991 0.24872295]\n",
      " [0.49843874 0.1461577  0.35540356]\n",
      " [0.33654088 0.29556227 0.36789685]\n",
      " [0.34278177 0.26425866 0.39295958]\n",
      " [0.36363216 0.28012939 0.35623845]\n",
      " [0.36937395 0.23692807 0.39369798]\n",
      " [0.42753583 0.20792046 0.36454371]\n",
      " [0.49255078 0.1230479  0.38440133]\n",
      " [0.56084099 0.13968141 0.2994776 ]\n",
      " [0.44508589 0.20964857 0.34526554]\n",
      " [0.31722598 0.1743109  0.50846312]\n",
      " [0.52907315 0.18012757 0.29079928]\n",
      " [0.37227593 0.28767936 0.34004472]\n",
      " [0.42616059 0.20652482 0.36731459]\n",
      " [0.36757582 0.29049507 0.34192911]\n",
      " [0.23620213 0.27486638 0.4889315 ]\n",
      " [0.52725129 0.11241518 0.36033352]\n",
      " [0.31232443 0.31112126 0.3765543 ]\n",
      " [0.33679938 0.30963482 0.35356581]\n",
      " [0.36370557 0.32506343 0.311231  ]\n",
      " [0.42666521 0.07080789 0.50252691]\n",
      " [0.22794887 0.24181242 0.53023871]\n",
      " [0.3262132  0.13889623 0.53489058]\n",
      " [0.3262132  0.13889623 0.53489058]\n",
      " [0.36239648 0.34848071 0.28912281]\n",
      " [0.3262132  0.13889623 0.53489058]\n",
      " [0.3262132  0.13889623 0.53489058]\n",
      " [0.3262132  0.13889623 0.53489058]\n",
      " [0.29599507 0.25005686 0.45394806]\n",
      " [0.3262132  0.13889623 0.53489058]\n",
      " [0.55897863 0.14969908 0.29132229]\n",
      " [0.30311634 0.34267671 0.35420696]\n",
      " [0.27582504 0.41068243 0.31349253]\n",
      " [0.28001677 0.25012153 0.46986171]\n",
      " [0.10236308 0.06971193 0.82792499]\n",
      " [0.20686827 0.27463785 0.51849389]\n",
      " [0.28288693 0.22762788 0.48948518]\n",
      " [0.23480398 0.42398032 0.3412157 ]\n",
      " [0.43192007 0.30250255 0.26557738]\n",
      " [0.45200492 0.2130276  0.33496748]\n",
      " [0.48195483 0.23361665 0.28442852]\n",
      " [0.30736887 0.32000889 0.37262224]\n",
      " [0.48974226 0.28128456 0.22897318]\n",
      " [0.36363216 0.28012939 0.35623845]\n",
      " [0.3586165  0.28963992 0.35174358]\n",
      " [0.42819692 0.27842928 0.29337379]\n",
      " [0.34873434 0.37943035 0.27183531]\n",
      " [0.18977065 0.621971   0.18825835]\n",
      " [0.27408352 0.241173   0.48474348]\n",
      " [0.22842224 0.43382037 0.33775738]]\n"
     ]
    }
   ],
   "source": [
    "probability = NaiveBayes.predict_proba(user)\n",
    "print(probability)"
   ]
  },
  {
   "cell_type": "code",
   "execution_count": 30,
   "id": "c1302cee",
   "metadata": {},
   "outputs": [
    {
     "name": "stdout",
     "output_type": "stream",
     "text": [
      "username: rochmanstn\n",
      "Probability of gunung category : 37.31%\n",
      "Probability of pantai category : 22.65%\n",
      "Probability of kuliner category: 40.04%\n"
     ]
    }
   ],
   "source": [
    "category0 = []\n",
    "category1 = []\n",
    "category2 = []\n",
    "for i in range(len(probability)):\n",
    "    category0.append(probability[i][0])\n",
    "    category1.append(probability[i][1])\n",
    "    category2.append(probability[i][2])\n",
    "\n",
    "def average(list):\n",
    "    return sum(list)/len(list)\n",
    "\n",
    "print(\"username:\", \"rochmanstn\")\n",
    "print(\"Probability of gunung category : \" + str(round(average(category0)*100, 2)) + \"%\")\n",
    "print(\"Probability of pantai category : \" + str(round(average(category1)*100, 2)) + \"%\")\n",
    "print(\"Probability of kuliner category: \" + str(round(average(category2)*100, 2)) + \"%\")"
   ]
  },
  {
   "cell_type": "code",
   "execution_count": null,
   "id": "f26d01b3",
   "metadata": {},
   "outputs": [],
   "source": []
  }
 ],
 "metadata": {
  "kernelspec": {
   "display_name": "Python 3 (ipykernel)",
   "language": "python",
   "name": "python3"
  },
  "language_info": {
   "codemirror_mode": {
    "name": "ipython",
    "version": 3
   },
   "file_extension": ".py",
   "mimetype": "text/x-python",
   "name": "python",
   "nbconvert_exporter": "python",
   "pygments_lexer": "ipython3",
   "version": "3.9.6"
  }
 },
 "nbformat": 4,
 "nbformat_minor": 5
}
