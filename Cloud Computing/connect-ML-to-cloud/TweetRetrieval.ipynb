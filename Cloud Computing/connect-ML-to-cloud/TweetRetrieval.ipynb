{
 "cells": [
  {
   "cell_type": "markdown",
   "id": "d0f5f543",
   "metadata": {},
   "source": [
    "# Crawling and Preprocessing"
   ]
  },
  {
   "cell_type": "code",
   "execution_count": 4,
   "id": "f508e32b",
   "metadata": {},
   "outputs": [],
   "source": [
    "import tweepy\n",
    "import csv\n",
    "import string\n",
    "import pandas as pd\n",
    "import numpy as np\n",
    "import matplotlib.pyplot as plt\n",
    "import re"
   ]
  },
  {
   "cell_type": "code",
   "execution_count": 5,
   "id": "73cba94a",
   "metadata": {},
   "outputs": [],
   "source": [
    "api_key = \"9dO4xdinSEjyxtBfjzueGFKeW\"\n",
    "api_key_secret = \"OrnvT252rsngPhq5lxdBwPh91sNBtsWzFNhW3S6pN8mHftRhu3\"\n",
    "access_token = \"811343210777710592-uBEUOZWtTFAFf120csjmZSAKDUPySmZ\"\n",
    "access_token_secret = \"dnUsgu5ALWnKz3EJzeaGMg2oatVBI74MEqtN4g8rQjhaO\"\n",
    "\n",
    "auth = tweepy.OAuthHandler(api_key, api_key_secret)\n",
    "auth.set_access_token(access_token, access_token_secret)\n",
    "api = tweepy.API(auth)"
   ]
  },
  {
   "cell_type": "code",
   "execution_count": 2,
   "id": "430078d7",
   "metadata": {},
   "outputs": [
    {
     "name": "stdout",
     "output_type": "stream",
     "text": [
      "Today: 2022-10-17\n"
     ]
    }
   ],
   "source": [
    "from datetime import date\n",
    "\n",
    "today = date.today()\n",
    "print(\"Today:\", today)\n",
    "\n",
    "def category_tweet_retriever(filename, query):\n",
    "    csvfile = open(filename, 'w', encoding='utf-8')\n",
    "    csvwriter = csv.writer(csvfile)\n",
    "    csvwriter.writerow([\"created_at\", \"author\", \"text\"])\n",
    "\n",
    "    for tweet in tweepy.Cursor(api.search_tweets, \n",
    "                               q=query, \n",
    "                               lang='id', \n",
    "                               tweet_mode=\"extended\").items(1000):\n",
    "        csvwriter.writerow([tweet.created_at, tweet.author.screen_name, tweet.full_text])"
   ]
  },
  {
   "cell_type": "code",
   "execution_count": 17,
   "id": "4291732c",
   "metadata": {},
   "outputs": [],
   "source": [
    "def user_tweet_retriever(filename, username):\n",
    "    csvfile = open(filename, 'w', encoding='utf-8')\n",
    "    csvwriter = csv.writer(csvfile)\n",
    "    csvwriter.writerow([\"created_at\", \"tweet\"])\n",
    "\n",
    "    for tweet in api.user_timeline(id=username, count=1000, tweet_mode=\"extended\"):\n",
    "        csvwriter.writerow([tweet.created_at, tweet.full_text])"
   ]
  },
  {
   "cell_type": "code",
   "execution_count": 15,
   "id": "bd16c345",
   "metadata": {},
   "outputs": [],
   "source": [
    "from Sastrawi.Stemmer.StemmerFactory import StemmerFactory\n",
    "\n",
    "def stem_tweet(tweet):\n",
    "    # create stemmer\n",
    "    factory = StemmerFactory()\n",
    "    stemmer = factory.create_stemmer()\n",
    "\n",
    "    # stemming process\n",
    "    sentence = tweet\n",
    "    output   = stemmer.stem(sentence)\n",
    "    return output"
   ]
  },
  {
   "cell_type": "code",
   "execution_count": 18,
   "id": "308237d3",
   "metadata": {},
   "outputs": [],
   "source": [
    "df_id = pd.read_csv(\"stopwords_id.txt\", header=None)\n",
    "stopwords_id = df_id[0].to_list()\n",
    "\n",
    "df_en = pd.read_csv(\"stopwords_en.txt\", header=None)\n",
    "stopwords_en = df_en[0].to_list()\n",
    "\n",
    "def clean_tweet(tweet):    \n",
    "    import stopwordsiso as stopwords\n",
    "\n",
    "    process = tweet.lower()\n",
    "    process = process.split()\n",
    "    process = [word for word in process if not process in stopwords_en]\n",
    "    process = [word for word in process if not process in stopwords_id]\n",
    "    process = \" \".join(word for word in process)\n",
    "    process = re.sub(\"'\", \"\", process) # to avoid removing contractions in english\n",
    "    process = re.sub(\"^rt \", \"\", process)\n",
    "    process = re.sub(\"@[A-Za-z0-9_]+\",\"\", process)\n",
    "    process = re.sub(\"#\",\"\", process)\n",
    "    process = re.sub(r'http\\S+', '', process)\n",
    "    process = re.sub('[()!?]', ' ', process)\n",
    "    process = re.sub('\\[.*?\\]',' ', process)\n",
    "    process = re.sub(\"[^a-z0-9]\",\" \", process)\n",
    "    return process"
   ]
  },
  {
   "cell_type": "code",
   "execution_count": 5,
   "id": "f0ba9e38",
   "metadata": {},
   "outputs": [],
   "source": [
    "def clean_spaces(tweet):\n",
    "    process = tweet\n",
    "    process = process.split()\n",
    "    process = \" \".join(word for word in process)\n",
    "    return process"
   ]
  }
 ],
 "metadata": {
  "kernelspec": {
   "display_name": "Python 3 (ipykernel)",
   "language": "python",
   "name": "python3"
  },
  "language_info": {
   "codemirror_mode": {
    "name": "ipython",
    "version": 3
   },
   "file_extension": ".py",
   "mimetype": "text/x-python",
   "name": "python",
   "nbconvert_exporter": "python",
   "pygments_lexer": "ipython3",
   "version": "3.9.6"
  }
 },
 "nbformat": 4,
 "nbformat_minor": 5
}
