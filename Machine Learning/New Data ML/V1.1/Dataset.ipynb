{
 "cells": [
  {
   "cell_type": "code",
   "execution_count": 2,
   "id": "a63284e9",
   "metadata": {},
   "outputs": [],
   "source": [
    "import pandas as pd\n",
    "import os"
   ]
  },
  {
   "cell_type": "code",
   "execution_count": 2,
   "id": "dc2f360f",
   "metadata": {},
   "outputs": [],
   "source": [
    "# root = os.getcwd()\n",
    "\n",
    "# def directory_lister(directory):\n",
    "#     path_directory = os.path.join(root, directory)\n",
    "#     file_directory = os.listdir(path_directory)\n",
    "    \n",
    "#     return file_directory\n",
    "\n",
    "# def category_df(category):\n",
    "#     df_all = []\n",
    "    \n",
    "#     for file in directory_lister(category):\n",
    "#         df_all.append(pd.read_csv(os.path.join(os.path.join(root, category), file)))\n",
    "#         df = pd.concat(df_all, ignore_index=True)\n",
    "        \n",
    "#     return df"
   ]
  },
  {
   "cell_type": "code",
   "execution_count": 11,
   "id": "54e16822",
   "metadata": {},
   "outputs": [],
   "source": [
    "# gunung1 = pd.read_csv(\"tempat/gunung/Gunung 2022-11-18.csv\")\n",
    "# pantai1 = pd.read_csv(\"tempat/pantai/Pantai 2022-11-18.csv\")\n",
    "# airterjun1 = pd.read_csv(\"tempat/airterjun/Air Terjun 2022-11-18.csv\")\n",
    "# kuliner1 = pd.read_csv(\"kategori/kuliner/Kuliner 2022-11-18.csv\")\n",
    "# renang1 = pd.read_csv(\"kategori/renang/Renang 2022-11-18.csv\")\n",
    "\n",
    "# gunung2 = pd.read_csv(\"tempat/gunung/Gunung 2022-11-20.csv\")\n",
    "# pantai2 = pd.read_csv(\"tempat/pantai/Pantai 2022-11-19.csv\")\n",
    "# airterjun2 = pd.read_csv(\"tempat/airterjun/Air Terjun 2022-11-19.csv\")\n",
    "# kuliner2 = pd.read_csv(\"kategori/kuliner/Kuliner 2022-11-19.csv\")\n",
    "# renang2 = pd.read_csv(\"kategori/renang/Renang 2022-11-20.csv\")\n",
    "\n",
    "# gunung = pd.concat([gunung1, gunung2], ignore_index=True)\n",
    "# pantai = pd.concat([pantai1, pantai2], ignore_index=True)\n",
    "# airterjun = pd.concat([airterjun1, airterjun2], ignore_index=True)\n",
    "# kuliner = pd.concat([kuliner1, kuliner2], ignore_index=True)\n",
    "# renang = pd.concat([renang1, renang2], ignore_index=True)\n",
    "# kemah = pd.read_csv(\"kategori/kemah/Berkemah 2022-11-20.csv\")\n",
    "\n",
    "# gunung[\"category\"] = \"gunung\"\n",
    "# pantai[\"category\"] = \"pantai\"\n",
    "# airterjun[\"category\"] = \"air terjun\"\n",
    "# kuliner[\"category\"] = \"kuliner\"\n",
    "# renang[\"category\"] = \"renang\"\n",
    "# kemah[\"category\"] = \"kemah\""
   ]
  },
  {
   "cell_type": "code",
   "execution_count": 12,
   "id": "5bb2cb72",
   "metadata": {},
   "outputs": [],
   "source": [
    "# df_tempat = pd.concat([gunung, pantai, airterjun], ignore_index=True)\n",
    "# df_kategori = pd.concat([kuliner, renang, kemah], ignore_index=True)"
   ]
  },
  {
   "cell_type": "code",
   "execution_count": 56,
   "id": "362fa3ad",
   "metadata": {},
   "outputs": [],
   "source": [
    "df_tempat = pd.read_csv(\"_dataset/dataset tempat 2022-11-20.csv\")\n",
    "df_kegiatan = pd.read_csv(\"_dataset/dataset kegiatan 2022-11-21a.csv\")"
   ]
  },
  {
   "cell_type": "code",
   "execution_count": 52,
   "id": "d44c5078",
   "metadata": {},
   "outputs": [],
   "source": [
    "# df_pantai = pd.read_csv(\"tempat/pantai/Pantai 2022-11-21a.csv\")\n",
    "# df_pantai['category'] = \"pantai\"\n",
    "# df_airterjun = pd.read_csv(\"tempat/airterjun/Air Terjun 2022-11-21a.csv\")\n",
    "# df_airterjun['category'] = \"air terjun\"\n",
    "# df_tempat = pd.concat([df_tempat, df_pantai, df_airterjun], ignore_index=True)"
   ]
  },
  {
   "cell_type": "code",
   "execution_count": 57,
   "id": "34e1c355",
   "metadata": {},
   "outputs": [],
   "source": [
    "df_kemah = pd.read_csv(\"kegiatan/kemah/Berkemah 2022-11-21a.csv\")\n",
    "df_kemah['category'] = \"kemah\"\n",
    "df_kegiatan = pd.concat([df_kegiatan, df_kemah], ignore_index=True)"
   ]
  },
  {
   "cell_type": "code",
   "execution_count": 54,
   "id": "75bdc524",
   "metadata": {},
   "outputs": [
    {
     "data": {
      "text/plain": [
       "gunung        4000\n",
       "pantai        3908\n",
       "air terjun    2160\n",
       "Name: category, dtype: int64"
      ]
     },
     "execution_count": 54,
     "metadata": {},
     "output_type": "execute_result"
    }
   ],
   "source": [
    "df_tempat['category'].value_counts()"
   ]
  },
  {
   "cell_type": "code",
   "execution_count": 58,
   "id": "a7e70d83",
   "metadata": {},
   "outputs": [
    {
     "data": {
      "text/plain": [
       "kuliner    4000\n",
       "renang     4000\n",
       "kemah      4000\n",
       "Name: category, dtype: int64"
      ]
     },
     "execution_count": 58,
     "metadata": {},
     "output_type": "execute_result"
    }
   ],
   "source": [
    "df_kegiatan['category'].value_counts()"
   ]
  },
  {
   "cell_type": "code",
   "execution_count": 61,
   "id": "9eaad355",
   "metadata": {},
   "outputs": [],
   "source": [
    "df_tempat = pd.read_csv(\"_dataset/dataset tempat 2022-11-21a.csv\")\n",
    "df_kegiatan = pd.read_csv(\"_dataset/dataset kegiatan 2022-11-21a.csv\")"
   ]
  },
  {
   "cell_type": "code",
   "execution_count": 62,
   "id": "c3b7b47d",
   "metadata": {},
   "outputs": [
    {
     "data": {
      "text/html": [
       "<div>\n",
       "<style scoped>\n",
       "    .dataframe tbody tr th:only-of-type {\n",
       "        vertical-align: middle;\n",
       "    }\n",
       "\n",
       "    .dataframe tbody tr th {\n",
       "        vertical-align: top;\n",
       "    }\n",
       "\n",
       "    .dataframe thead th {\n",
       "        text-align: right;\n",
       "    }\n",
       "</style>\n",
       "<table border=\"1\" class=\"dataframe\">\n",
       "  <thead>\n",
       "    <tr style=\"text-align: right;\">\n",
       "      <th></th>\n",
       "      <th>created_at</th>\n",
       "      <th>author</th>\n",
       "      <th>cleaned_tweet</th>\n",
       "      <th>category</th>\n",
       "    </tr>\n",
       "  </thead>\n",
       "  <tbody>\n",
       "    <tr>\n",
       "      <th>0</th>\n",
       "      <td>2022-11-18 18:40:29+00:00</td>\n",
       "      <td>abcdiloveyouf</td>\n",
       "      <td>nomin college au d dingin mau diangetin saat j...</td>\n",
       "      <td>gunung</td>\n",
       "    </tr>\n",
       "    <tr>\n",
       "      <th>1</th>\n",
       "      <td>2022-11-18 18:40:17+00:00</td>\n",
       "      <td>lutfimove</td>\n",
       "      <td>pemagaran dan gapura tpu astana gunung kp nyal...</td>\n",
       "      <td>gunung</td>\n",
       "    </tr>\n",
       "    <tr>\n",
       "      <th>2</th>\n",
       "      <td>2022-11-18 18:39:48+00:00</td>\n",
       "      <td>imamtoyib1</td>\n",
       "      <td>promo diskon khans sandal gunung pria wanita l...</td>\n",
       "      <td>gunung</td>\n",
       "    </tr>\n",
       "    <tr>\n",
       "      <th>3</th>\n",
       "      <td>2022-11-18 18:38:10+00:00</td>\n",
       "      <td>imjusthumann_</td>\n",
       "      <td>kangen naik gunung</td>\n",
       "      <td>gunung</td>\n",
       "    </tr>\n",
       "    <tr>\n",
       "      <th>4</th>\n",
       "      <td>2022-11-18 18:37:25+00:00</td>\n",
       "      <td>UNSfess_</td>\n",
       "      <td>halo mas mbak karanganyar kota atau sekitar be...</td>\n",
       "      <td>gunung</td>\n",
       "    </tr>\n",
       "  </tbody>\n",
       "</table>\n",
       "</div>"
      ],
      "text/plain": [
       "                  created_at         author  \\\n",
       "0  2022-11-18 18:40:29+00:00  abcdiloveyouf   \n",
       "1  2022-11-18 18:40:17+00:00      lutfimove   \n",
       "2  2022-11-18 18:39:48+00:00     imamtoyib1   \n",
       "3  2022-11-18 18:38:10+00:00  imjusthumann_   \n",
       "4  2022-11-18 18:37:25+00:00       UNSfess_   \n",
       "\n",
       "                                       cleaned_tweet category  \n",
       "0  nomin college au d dingin mau diangetin saat j...   gunung  \n",
       "1  pemagaran dan gapura tpu astana gunung kp nyal...   gunung  \n",
       "2  promo diskon khans sandal gunung pria wanita l...   gunung  \n",
       "3                                 kangen naik gunung   gunung  \n",
       "4  halo mas mbak karanganyar kota atau sekitar be...   gunung  "
      ]
     },
     "execution_count": 62,
     "metadata": {},
     "output_type": "execute_result"
    }
   ],
   "source": [
    "df_tempat.head()"
   ]
  },
  {
   "cell_type": "code",
   "execution_count": 65,
   "id": "c0704e8c",
   "metadata": {},
   "outputs": [
    {
     "name": "stdout",
     "output_type": "stream",
     "text": [
      "<class 'pandas.core.frame.DataFrame'>\n",
      "Int64Index: 5478 entries, 0 to 9936\n",
      "Data columns (total 4 columns):\n",
      " #   Column         Non-Null Count  Dtype \n",
      "---  ------         --------------  ----- \n",
      " 0   created_at     5478 non-null   object\n",
      " 1   author         5478 non-null   object\n",
      " 2   cleaned_tweet  5477 non-null   object\n",
      " 3   category       5478 non-null   object\n",
      "dtypes: object(4)\n",
      "memory usage: 214.0+ KB\n"
     ]
    }
   ],
   "source": [
    "df_tempat = df_tempat.drop_duplicates(subset=['cleaned_tweet'])\n",
    "df_tempat.info()"
   ]
  },
  {
   "cell_type": "code",
   "execution_count": 66,
   "id": "7de1988a",
   "metadata": {},
   "outputs": [
    {
     "name": "stdout",
     "output_type": "stream",
     "text": [
      "<class 'pandas.core.frame.DataFrame'>\n",
      "Int64Index: 6461 entries, 0 to 11988\n",
      "Data columns (total 4 columns):\n",
      " #   Column         Non-Null Count  Dtype \n",
      "---  ------         --------------  ----- \n",
      " 0   created_at     6461 non-null   object\n",
      " 1   author         6461 non-null   object\n",
      " 2   cleaned_tweet  6460 non-null   object\n",
      " 3   category       6461 non-null   object\n",
      "dtypes: object(4)\n",
      "memory usage: 252.4+ KB\n"
     ]
    }
   ],
   "source": [
    "df_kegiatan = df_kegiatan.drop_duplicates(subset=['cleaned_tweet'])\n",
    "df_kegiatan.info()"
   ]
  },
  {
   "cell_type": "code",
   "execution_count": 68,
   "id": "b4230999",
   "metadata": {},
   "outputs": [],
   "source": [
    "df_tempat.to_csv(\"_dataset/dataset tempat 2022-11-21a.csv\", index=False)\n",
    "df_kegiatan.to_csv(\"_dataset/dataset kegiatan 2022-11-21a.csv\", index=False)"
   ]
  },
  {
   "cell_type": "code",
   "execution_count": null,
   "id": "5dcf04d7",
   "metadata": {},
   "outputs": [],
   "source": []
  }
 ],
 "metadata": {
  "kernelspec": {
   "display_name": "Python 3 (ipykernel)",
   "language": "python",
   "name": "python3"
  },
  "language_info": {
   "codemirror_mode": {
    "name": "ipython",
    "version": 3
   },
   "file_extension": ".py",
   "mimetype": "text/x-python",
   "name": "python",
   "nbconvert_exporter": "python",
   "pygments_lexer": "ipython3",
   "version": "3.9.6"
  }
 },
 "nbformat": 4,
 "nbformat_minor": 5
}
