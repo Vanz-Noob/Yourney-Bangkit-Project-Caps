{
 "cells": [
  {
   "cell_type": "markdown",
   "id": "d0f5f543",
   "metadata": {},
   "source": [
    "# Crawling and Preprocessing"
   ]
  },
  {
   "cell_type": "code",
   "execution_count": 7,
   "id": "cd6c312d",
   "metadata": {},
   "outputs": [],
   "source": [
    "import import_ipynb\n",
    "from TweetRetrieval import *\n",
    "import datetime\n",
    "from datetime import date"
   ]
  },
  {
   "cell_type": "markdown",
   "id": "0fac73db",
   "metadata": {},
   "source": [
    "# Places"
   ]
  },
  {
   "cell_type": "markdown",
   "id": "bbeb2b65",
   "metadata": {},
   "source": [
    "## Gunung"
   ]
  },
  {
   "cell_type": "code",
   "execution_count": 3,
   "id": "0f553fed",
   "metadata": {},
   "outputs": [
    {
     "ename": "FileNotFoundError",
     "evalue": "[Errno 2] No such file or directory: 'gunung/Gunung 2022-11-21.csv'",
     "output_type": "error",
     "traceback": [
      "\u001b[1;31m---------------------------------------------------------------------------\u001b[0m",
      "\u001b[1;31mFileNotFoundError\u001b[0m                         Traceback (most recent call last)",
      "Input \u001b[1;32mIn [3]\u001b[0m, in \u001b[0;36m<cell line: 3>\u001b[1;34m()\u001b[0m\n\u001b[0;32m      1\u001b[0m path \u001b[38;5;241m=\u001b[39m \u001b[38;5;124m'\u001b[39m\u001b[38;5;124mgunung/\u001b[39m\u001b[38;5;124m'\u001b[39m\n\u001b[0;32m      2\u001b[0m filename \u001b[38;5;241m=\u001b[39m path \u001b[38;5;241m+\u001b[39m \u001b[38;5;124m\"\u001b[39m\u001b[38;5;124mGunung \u001b[39m\u001b[38;5;124m\"\u001b[39m \u001b[38;5;241m+\u001b[39m \u001b[38;5;28mstr\u001b[39m(date\u001b[38;5;241m.\u001b[39mtoday()) \u001b[38;5;241m+\u001b[39m \u001b[38;5;124m\"\u001b[39m\u001b[38;5;124m.csv\u001b[39m\u001b[38;5;124m\"\u001b[39m\n\u001b[1;32m----> 3\u001b[0m \u001b[43mcategory_tweet_retriever_2000\u001b[49m\u001b[43m(\u001b[49m\u001b[43mfilename\u001b[49m\u001b[43m,\u001b[49m\u001b[43m \u001b[49m\u001b[38;5;124;43m\"\u001b[39;49m\u001b[38;5;124;43mGunung\u001b[39;49m\u001b[38;5;124;43m\"\u001b[39;49m\u001b[43m)\u001b[49m\n",
      "File \u001b[1;32m<string>:2\u001b[0m, in \u001b[0;36mcategory_tweet_retriever_2000\u001b[1;34m(filename, query)\u001b[0m\n",
      "\u001b[1;31mFileNotFoundError\u001b[0m: [Errno 2] No such file or directory: 'gunung/Gunung 2022-11-21.csv'"
     ]
    }
   ],
   "source": [
    "path = 'tempat/gunung/'\n",
    "filename = path + \"Gunung \" + str(date.today()) + \".csv\"\n",
    "category_tweet_retriever_2000(filename, \"Gunung\")"
   ]
  },
  {
   "cell_type": "code",
   "execution_count": null,
   "id": "8f4c0ed8",
   "metadata": {},
   "outputs": [],
   "source": [
    "df_gunung = pd.read_csv(filename, encoding='unicode_escape')\n",
    "print(df_gunung.shape)"
   ]
  },
  {
   "cell_type": "code",
   "execution_count": null,
   "id": "5a6eca7e",
   "metadata": {},
   "outputs": [],
   "source": [
    "df_gunung.head()"
   ]
  },
  {
   "cell_type": "code",
   "execution_count": null,
   "id": "04697c50",
   "metadata": {},
   "outputs": [],
   "source": [
    "df_gunung['cleaned_tweet'] = df_gunung['text'].apply(lambda x: clean_tweet(x))\n",
    "df_gunung['cleaned_tweet'] = df_gunung['cleaned_tweet'].apply(lambda x: clean_spaces(x))\n",
    "df_gunung.head()"
   ]
  },
  {
   "cell_type": "code",
   "execution_count": null,
   "id": "df08199a",
   "metadata": {},
   "outputs": [],
   "source": [
    "header = [\"created_at\", \"author\", \"cleaned_tweet\"]\n",
    "df_gunung.to_csv(filename, index=False, columns=header)"
   ]
  },
  {
   "cell_type": "markdown",
   "id": "549a3a65",
   "metadata": {},
   "source": [
    "## Pantai"
   ]
  },
  {
   "cell_type": "code",
   "execution_count": null,
   "id": "503b0a02",
   "metadata": {
    "scrolled": true
   },
   "outputs": [],
   "source": [
    "path = 'pantai/'\n",
    "filename = path + \"Pantai \" + str(date.today()) + \".csv\"\n",
    "category_tweet_retriever_2000(filename, \"Pantai\")"
   ]
  },
  {
   "cell_type": "code",
   "execution_count": 5,
   "id": "4cb5a9fe",
   "metadata": {
    "scrolled": true
   },
   "outputs": [],
   "source": [
    "path = 'tempat/pantai/'\n",
    "filename = path + \"Pantai \" + str(date.today()) + \"a.csv\"\n",
    "category_tweet_retriever_custom(filename, \"Pantai\", 92)"
   ]
  },
  {
   "cell_type": "code",
   "execution_count": 6,
   "id": "4253e210",
   "metadata": {},
   "outputs": [
    {
     "data": {
      "text/plain": [
       "(92, 3)"
      ]
     },
     "execution_count": 6,
     "metadata": {},
     "output_type": "execute_result"
    }
   ],
   "source": [
    "df_pantai = pd.read_csv(filename, encoding='unicode_escape')\n",
    "df_pantai.shape"
   ]
  },
  {
   "cell_type": "code",
   "execution_count": 7,
   "id": "7ac29308",
   "metadata": {
    "scrolled": true
   },
   "outputs": [
    {
     "data": {
      "text/html": [
       "<div>\n",
       "<style scoped>\n",
       "    .dataframe tbody tr th:only-of-type {\n",
       "        vertical-align: middle;\n",
       "    }\n",
       "\n",
       "    .dataframe tbody tr th {\n",
       "        vertical-align: top;\n",
       "    }\n",
       "\n",
       "    .dataframe thead th {\n",
       "        text-align: right;\n",
       "    }\n",
       "</style>\n",
       "<table border=\"1\" class=\"dataframe\">\n",
       "  <thead>\n",
       "    <tr style=\"text-align: right;\">\n",
       "      <th></th>\n",
       "      <th>created_at</th>\n",
       "      <th>author</th>\n",
       "      <th>text</th>\n",
       "    </tr>\n",
       "  </thead>\n",
       "  <tbody>\n",
       "    <tr>\n",
       "      <th>0</th>\n",
       "      <td>2022-11-21 01:45:20+00:00</td>\n",
       "      <td>azdn_twider</td>\n",
       "      <td>@UdaShafiq ...terbesar di Pantai Timur. Boleh ...</td>\n",
       "    </tr>\n",
       "    <tr>\n",
       "      <th>1</th>\n",
       "      <td>2022-11-21 01:45:19+00:00</td>\n",
       "      <td>moyakolvist</td>\n",
       "      <td>@Jepara_Twit Pantai jeporo tambah rusak neknng...</td>\n",
       "    </tr>\n",
       "    <tr>\n",
       "      <th>2</th>\n",
       "      <td>2022-11-21 01:44:43+00:00</td>\n",
       "      <td>Piingpangpong</td>\n",
       "      <td>RT @undipmenfess: -dips! Sender lagi di Pantai...</td>\n",
       "    </tr>\n",
       "    <tr>\n",
       "      <th>3</th>\n",
       "      <td>2022-11-21 01:44:42+00:00</td>\n",
       "      <td>BenMelangkah</td>\n",
       "      <td>Saya lama dah collect pantai timur. Ehekkk~ ð...</td>\n",
       "    </tr>\n",
       "    <tr>\n",
       "      <th>4</th>\n",
       "      <td>2022-11-21 01:44:22+00:00</td>\n",
       "      <td>ssmikz</td>\n",
       "      <td>Entah ape2 entah yang koyak bila org pantai ti...</td>\n",
       "    </tr>\n",
       "  </tbody>\n",
       "</table>\n",
       "</div>"
      ],
      "text/plain": [
       "                  created_at         author  \\\n",
       "0  2022-11-21 01:45:20+00:00    azdn_twider   \n",
       "1  2022-11-21 01:45:19+00:00    moyakolvist   \n",
       "2  2022-11-21 01:44:43+00:00  Piingpangpong   \n",
       "3  2022-11-21 01:44:42+00:00   BenMelangkah   \n",
       "4  2022-11-21 01:44:22+00:00         ssmikz   \n",
       "\n",
       "                                                text  \n",
       "0  @UdaShafiq ...terbesar di Pantai Timur. Boleh ...  \n",
       "1  @Jepara_Twit Pantai jeporo tambah rusak neknng...  \n",
       "2  RT @undipmenfess: -dips! Sender lagi di Pantai...  \n",
       "3  Saya lama dah collect pantai timur. Ehekkk~ ð...  \n",
       "4  Entah ape2 entah yang koyak bila org pantai ti...  "
      ]
     },
     "execution_count": 7,
     "metadata": {},
     "output_type": "execute_result"
    }
   ],
   "source": [
    "df_pantai.head()"
   ]
  },
  {
   "cell_type": "code",
   "execution_count": 8,
   "id": "1152d561",
   "metadata": {
    "scrolled": false
   },
   "outputs": [
    {
     "data": {
      "text/html": [
       "<div>\n",
       "<style scoped>\n",
       "    .dataframe tbody tr th:only-of-type {\n",
       "        vertical-align: middle;\n",
       "    }\n",
       "\n",
       "    .dataframe tbody tr th {\n",
       "        vertical-align: top;\n",
       "    }\n",
       "\n",
       "    .dataframe thead th {\n",
       "        text-align: right;\n",
       "    }\n",
       "</style>\n",
       "<table border=\"1\" class=\"dataframe\">\n",
       "  <thead>\n",
       "    <tr style=\"text-align: right;\">\n",
       "      <th></th>\n",
       "      <th>created_at</th>\n",
       "      <th>author</th>\n",
       "      <th>text</th>\n",
       "      <th>cleaned_tweet</th>\n",
       "    </tr>\n",
       "  </thead>\n",
       "  <tbody>\n",
       "    <tr>\n",
       "      <th>0</th>\n",
       "      <td>2022-11-21 01:45:20+00:00</td>\n",
       "      <td>azdn_twider</td>\n",
       "      <td>@UdaShafiq ...terbesar di Pantai Timur. Boleh ...</td>\n",
       "      <td>terbesar di pantai timur boleh bukak peluang b...</td>\n",
       "    </tr>\n",
       "    <tr>\n",
       "      <th>1</th>\n",
       "      <td>2022-11-21 01:45:19+00:00</td>\n",
       "      <td>moyakolvist</td>\n",
       "      <td>@Jepara_Twit Pantai jeporo tambah rusak neknng...</td>\n",
       "      <td>pantai jeporo tambah rusak neknngene carane ga...</td>\n",
       "    </tr>\n",
       "    <tr>\n",
       "      <th>2</th>\n",
       "      <td>2022-11-21 01:44:43+00:00</td>\n",
       "      <td>Piingpangpong</td>\n",
       "      <td>RT @undipmenfess: -dips! Sender lagi di Pantai...</td>\n",
       "      <td>dips sender lagi di pantai tirang semarang eh ...</td>\n",
       "    </tr>\n",
       "    <tr>\n",
       "      <th>3</th>\n",
       "      <td>2022-11-21 01:44:42+00:00</td>\n",
       "      <td>BenMelangkah</td>\n",
       "      <td>Saya lama dah collect pantai timur. Ehekkk~ ð...</td>\n",
       "      <td>saya lama dah collect pantai timur ehekkk</td>\n",
       "    </tr>\n",
       "    <tr>\n",
       "      <th>4</th>\n",
       "      <td>2022-11-21 01:44:22+00:00</td>\n",
       "      <td>ssmikz</td>\n",
       "      <td>Entah ape2 entah yang koyak bila org pantai ti...</td>\n",
       "      <td>entah ape2 entah yang koyak bila org pantai ti...</td>\n",
       "    </tr>\n",
       "  </tbody>\n",
       "</table>\n",
       "</div>"
      ],
      "text/plain": [
       "                  created_at         author  \\\n",
       "0  2022-11-21 01:45:20+00:00    azdn_twider   \n",
       "1  2022-11-21 01:45:19+00:00    moyakolvist   \n",
       "2  2022-11-21 01:44:43+00:00  Piingpangpong   \n",
       "3  2022-11-21 01:44:42+00:00   BenMelangkah   \n",
       "4  2022-11-21 01:44:22+00:00         ssmikz   \n",
       "\n",
       "                                                text  \\\n",
       "0  @UdaShafiq ...terbesar di Pantai Timur. Boleh ...   \n",
       "1  @Jepara_Twit Pantai jeporo tambah rusak neknng...   \n",
       "2  RT @undipmenfess: -dips! Sender lagi di Pantai...   \n",
       "3  Saya lama dah collect pantai timur. Ehekkk~ ð...   \n",
       "4  Entah ape2 entah yang koyak bila org pantai ti...   \n",
       "\n",
       "                                       cleaned_tweet  \n",
       "0  terbesar di pantai timur boleh bukak peluang b...  \n",
       "1  pantai jeporo tambah rusak neknngene carane ga...  \n",
       "2  dips sender lagi di pantai tirang semarang eh ...  \n",
       "3          saya lama dah collect pantai timur ehekkk  \n",
       "4  entah ape2 entah yang koyak bila org pantai ti...  "
      ]
     },
     "execution_count": 8,
     "metadata": {},
     "output_type": "execute_result"
    }
   ],
   "source": [
    "df_pantai['cleaned_tweet'] = df_pantai['text'].apply(lambda x: clean_tweet(x))\n",
    "df_pantai['cleaned_tweet'] = df_pantai['cleaned_tweet'].apply(lambda x: clean_spaces(x))\n",
    "df_pantai.head()"
   ]
  },
  {
   "cell_type": "code",
   "execution_count": 9,
   "id": "3e63393c",
   "metadata": {},
   "outputs": [],
   "source": [
    "header = [\"created_at\", \"author\", \"cleaned_tweet\"]\n",
    "df_pantai.to_csv(filename, index=False, columns=header)"
   ]
  },
  {
   "cell_type": "markdown",
   "id": "fa35d0c6",
   "metadata": {},
   "source": [
    "## Air Terjun"
   ]
  },
  {
   "cell_type": "code",
   "execution_count": null,
   "id": "8d5e0078",
   "metadata": {
    "scrolled": true
   },
   "outputs": [],
   "source": [
    "path = 'airterjun/'\n",
    "filename = path + \"Curug \" + str(date.today()) + \".csv\"\n",
    "category_tweet_retriever_1000(filename, \"Curug\")"
   ]
  },
  {
   "cell_type": "code",
   "execution_count": 2,
   "id": "af50b04d",
   "metadata": {
    "scrolled": true
   },
   "outputs": [],
   "source": [
    "path = 'tempat/airterjun/'\n",
    "filename = path + \"Curug \" + str(date.today()) + \".csv\"\n",
    "category_tweet_retriever_custom(filename, \"Curug\", 920)"
   ]
  },
  {
   "cell_type": "code",
   "execution_count": 3,
   "id": "19c8830f",
   "metadata": {},
   "outputs": [
    {
     "data": {
      "text/plain": [
       "(920, 3)"
      ]
     },
     "execution_count": 3,
     "metadata": {},
     "output_type": "execute_result"
    }
   ],
   "source": [
    "df_curug = pd.read_csv(filename, encoding='unicode_escape')\n",
    "df_curug.shape"
   ]
  },
  {
   "cell_type": "code",
   "execution_count": null,
   "id": "d9c83910",
   "metadata": {
    "scrolled": true
   },
   "outputs": [],
   "source": [
    "path = 'airterjun/'\n",
    "filename = path + \"Air Terjun \" + str(date.today()) + \".csv\"\n",
    "category_tweet_retriever_1000(filename, \"Air terjun\")"
   ]
  },
  {
   "cell_type": "code",
   "execution_count": 5,
   "id": "703c9356",
   "metadata": {
    "scrolled": true
   },
   "outputs": [],
   "source": [
    "path = 'tempat/airterjun/'\n",
    "filename = path + \"Air Terjun \" + str(date.today()) + \".csv\"\n",
    "category_tweet_retriever_custom(filename, \"Air terjun\", 920)"
   ]
  },
  {
   "cell_type": "code",
   "execution_count": 6,
   "id": "aaf70b11",
   "metadata": {},
   "outputs": [
    {
     "data": {
      "text/plain": [
       "(920, 3)"
      ]
     },
     "execution_count": 6,
     "metadata": {},
     "output_type": "execute_result"
    }
   ],
   "source": [
    "df_airterjun = pd.read_csv(filename, encoding='unicode_escape')\n",
    "df_airterjun.shape"
   ]
  },
  {
   "cell_type": "code",
   "execution_count": 7,
   "id": "78a8ae1a",
   "metadata": {},
   "outputs": [
    {
     "data": {
      "text/html": [
       "<div>\n",
       "<style scoped>\n",
       "    .dataframe tbody tr th:only-of-type {\n",
       "        vertical-align: middle;\n",
       "    }\n",
       "\n",
       "    .dataframe tbody tr th {\n",
       "        vertical-align: top;\n",
       "    }\n",
       "\n",
       "    .dataframe thead th {\n",
       "        text-align: right;\n",
       "    }\n",
       "</style>\n",
       "<table border=\"1\" class=\"dataframe\">\n",
       "  <thead>\n",
       "    <tr style=\"text-align: right;\">\n",
       "      <th></th>\n",
       "      <th>created_at</th>\n",
       "      <th>author</th>\n",
       "      <th>text</th>\n",
       "    </tr>\n",
       "  </thead>\n",
       "  <tbody>\n",
       "    <tr>\n",
       "      <th>0</th>\n",
       "      <td>2022-11-21 03:26:37+00:00</td>\n",
       "      <td>jntexpressid</td>\n",
       "      <td>@ngasiemng Halo kak, mohon maaf sebelumnya jik...</td>\n",
       "    </tr>\n",
       "    <tr>\n",
       "      <th>1</th>\n",
       "      <td>2022-11-21 03:16:34+00:00</td>\n",
       "      <td>PPSDMPD</td>\n",
       "      <td>Halo #SobatPusbangdarat!\\r\\n\\r\\nPPSDMPD bikin ...</td>\n",
       "    </tr>\n",
       "    <tr>\n",
       "      <th>2</th>\n",
       "      <td>2022-11-21 03:14:35+00:00</td>\n",
       "      <td>keyyynine</td>\n",
       "      <td>@tanyarlfes pas ke curug di cianjur tp bru bil...</td>\n",
       "    </tr>\n",
       "    <tr>\n",
       "      <th>3</th>\n",
       "      <td>2022-11-21 03:09:16+00:00</td>\n",
       "      <td>kpupemalang</td>\n",
       "      <td>#TemanPemilih, Ayo daftar PPK...\\r\\n\\r\\nðLo...</td>\n",
       "    </tr>\n",
       "    <tr>\n",
       "      <th>4</th>\n",
       "      <td>2022-11-21 03:07:04+00:00</td>\n",
       "      <td>txtjarjit</td>\n",
       "      <td>Air aqua tuh ngisi ulangnya langsung dari gunu...</td>\n",
       "    </tr>\n",
       "  </tbody>\n",
       "</table>\n",
       "</div>"
      ],
      "text/plain": [
       "                  created_at        author  \\\n",
       "0  2022-11-21 03:26:37+00:00  jntexpressid   \n",
       "1  2022-11-21 03:16:34+00:00       PPSDMPD   \n",
       "2  2022-11-21 03:14:35+00:00     keyyynine   \n",
       "3  2022-11-21 03:09:16+00:00   kpupemalang   \n",
       "4  2022-11-21 03:07:04+00:00     txtjarjit   \n",
       "\n",
       "                                                text  \n",
       "0  @ngasiemng Halo kak, mohon maaf sebelumnya jik...  \n",
       "1  Halo #SobatPusbangdarat!\\r\\n\\r\\nPPSDMPD bikin ...  \n",
       "2  @tanyarlfes pas ke curug di cianjur tp bru bil...  \n",
       "3  #TemanPemilih, Ayo daftar PPK...\\r\\n\\r\\nðLo...  \n",
       "4  Air aqua tuh ngisi ulangnya langsung dari gunu...  "
      ]
     },
     "execution_count": 7,
     "metadata": {},
     "output_type": "execute_result"
    }
   ],
   "source": [
    "df_aerterjun = pd.concat([df_curug, df_airterjun], ignore_index=True)\n",
    "df_aerterjun.head()"
   ]
  },
  {
   "cell_type": "code",
   "execution_count": 10,
   "id": "c936afc7",
   "metadata": {
    "scrolled": false
   },
   "outputs": [
    {
     "data": {
      "text/html": [
       "<div>\n",
       "<style scoped>\n",
       "    .dataframe tbody tr th:only-of-type {\n",
       "        vertical-align: middle;\n",
       "    }\n",
       "\n",
       "    .dataframe tbody tr th {\n",
       "        vertical-align: top;\n",
       "    }\n",
       "\n",
       "    .dataframe thead th {\n",
       "        text-align: right;\n",
       "    }\n",
       "</style>\n",
       "<table border=\"1\" class=\"dataframe\">\n",
       "  <thead>\n",
       "    <tr style=\"text-align: right;\">\n",
       "      <th></th>\n",
       "      <th>created_at</th>\n",
       "      <th>author</th>\n",
       "      <th>text</th>\n",
       "      <th>cleaned_tweet</th>\n",
       "    </tr>\n",
       "  </thead>\n",
       "  <tbody>\n",
       "    <tr>\n",
       "      <th>0</th>\n",
       "      <td>2022-11-21 03:26:37+00:00</td>\n",
       "      <td>jntexpressid</td>\n",
       "      <td>@ngasiemng Halo kak, mohon maaf sebelumnya jik...</td>\n",
       "      <td>halo kak mohon maaf sebelumnya jika area curug...</td>\n",
       "    </tr>\n",
       "    <tr>\n",
       "      <th>1</th>\n",
       "      <td>2022-11-21 03:16:34+00:00</td>\n",
       "      <td>PPSDMPD</td>\n",
       "      <td>Halo #SobatPusbangdarat!\\r\\n\\r\\nPPSDMPD bikin ...</td>\n",
       "      <td>halo sobatpusbangdarat ppsdmpd bikin bangga ni...</td>\n",
       "    </tr>\n",
       "    <tr>\n",
       "      <th>2</th>\n",
       "      <td>2022-11-21 03:14:35+00:00</td>\n",
       "      <td>keyyynine</td>\n",
       "      <td>@tanyarlfes pas ke curug di cianjur tp bru bil...</td>\n",
       "      <td>pas ke curug di cianjur tp bru bilang pas dh n...</td>\n",
       "    </tr>\n",
       "    <tr>\n",
       "      <th>3</th>\n",
       "      <td>2022-11-21 03:09:16+00:00</td>\n",
       "      <td>kpupemalang</td>\n",
       "      <td>#TemanPemilih, Ayo daftar PPK...\\r\\n\\r\\nðLo...</td>\n",
       "      <td>temanpemilih ayo daftar ppk lokasi curug jajar...</td>\n",
       "    </tr>\n",
       "    <tr>\n",
       "      <th>4</th>\n",
       "      <td>2022-11-21 03:07:04+00:00</td>\n",
       "      <td>txtjarjit</td>\n",
       "      <td>Air aqua tuh ngisi ulangnya langsung dari gunu...</td>\n",
       "      <td>air aqua tuh ngisi ulangnya langsung dari gunu...</td>\n",
       "    </tr>\n",
       "  </tbody>\n",
       "</table>\n",
       "</div>"
      ],
      "text/plain": [
       "                  created_at        author  \\\n",
       "0  2022-11-21 03:26:37+00:00  jntexpressid   \n",
       "1  2022-11-21 03:16:34+00:00       PPSDMPD   \n",
       "2  2022-11-21 03:14:35+00:00     keyyynine   \n",
       "3  2022-11-21 03:09:16+00:00   kpupemalang   \n",
       "4  2022-11-21 03:07:04+00:00     txtjarjit   \n",
       "\n",
       "                                                text  \\\n",
       "0  @ngasiemng Halo kak, mohon maaf sebelumnya jik...   \n",
       "1  Halo #SobatPusbangdarat!\\r\\n\\r\\nPPSDMPD bikin ...   \n",
       "2  @tanyarlfes pas ke curug di cianjur tp bru bil...   \n",
       "3  #TemanPemilih, Ayo daftar PPK...\\r\\n\\r\\nðLo...   \n",
       "4  Air aqua tuh ngisi ulangnya langsung dari gunu...   \n",
       "\n",
       "                                       cleaned_tweet  \n",
       "0  halo kak mohon maaf sebelumnya jika area curug...  \n",
       "1  halo sobatpusbangdarat ppsdmpd bikin bangga ni...  \n",
       "2  pas ke curug di cianjur tp bru bilang pas dh n...  \n",
       "3  temanpemilih ayo daftar ppk lokasi curug jajar...  \n",
       "4  air aqua tuh ngisi ulangnya langsung dari gunu...  "
      ]
     },
     "execution_count": 10,
     "metadata": {},
     "output_type": "execute_result"
    }
   ],
   "source": [
    "df_aerterjun['cleaned_tweet'] = df_aerterjun['text'].apply(lambda x: clean_tweet(x))\n",
    "df_aerterjun['cleaned_tweet'] = df_aerterjun['cleaned_tweet'].apply(lambda x: clean_spaces(x))\n",
    "df_aerterjun.head()"
   ]
  },
  {
   "cell_type": "code",
   "execution_count": 11,
   "id": "9129fc0b",
   "metadata": {},
   "outputs": [],
   "source": [
    "header = [\"created_at\", \"author\", \"cleaned_tweet\"]\n",
    "df_aerterjun.to_csv(filename, index=False, columns=header)"
   ]
  },
  {
   "cell_type": "markdown",
   "id": "6004f8ca",
   "metadata": {},
   "source": [
    "# Activities"
   ]
  },
  {
   "cell_type": "markdown",
   "id": "9dc18ddb",
   "metadata": {},
   "source": [
    "## Kuliner"
   ]
  },
  {
   "cell_type": "code",
   "execution_count": null,
   "id": "5b963f92",
   "metadata": {},
   "outputs": [],
   "source": [
    "path = 'kuliner/'\n",
    "filename = path + \"Kuliner \" + str(date.today()) + \".csv\"\n",
    "category_tweet_retriever_2000(filename, \"Kuliner\")"
   ]
  },
  {
   "cell_type": "code",
   "execution_count": null,
   "id": "ba8821a0",
   "metadata": {},
   "outputs": [],
   "source": [
    "df_kuliner = pd.read_csv(filename, encoding='unicode_escape')\n",
    "df_kuliner.shape"
   ]
  },
  {
   "cell_type": "code",
   "execution_count": null,
   "id": "9a43e8fd",
   "metadata": {},
   "outputs": [],
   "source": [
    "df_kuliner.head()"
   ]
  },
  {
   "cell_type": "code",
   "execution_count": null,
   "id": "3ee3f670",
   "metadata": {},
   "outputs": [],
   "source": [
    "df_kuliner['cleaned_tweet'] = df_kuliner['text'].apply(lambda x: clean_tweet(x))\n",
    "df_kuliner['cleaned_tweet'] = df_kuliner['cleaned_tweet'].apply(lambda x: clean_spaces(x))\n",
    "df_kuliner.head()"
   ]
  },
  {
   "cell_type": "code",
   "execution_count": null,
   "id": "f7f26ccf",
   "metadata": {},
   "outputs": [],
   "source": [
    "header = [\"created_at\", \"author\", \"cleaned_tweet\"]\n",
    "df_kuliner.to_csv(filename, index=False, columns=header)"
   ]
  },
  {
   "cell_type": "markdown",
   "id": "265545f6",
   "metadata": {},
   "source": [
    "## Renang"
   ]
  },
  {
   "cell_type": "code",
   "execution_count": null,
   "id": "33e11c87",
   "metadata": {},
   "outputs": [],
   "source": [
    "path = 'renang/'\n",
    "filename = path + \"Renang \" + str(date.today()) + \".csv\"\n",
    "category_tweet_retriever_2000(filename, \"Renang\")"
   ]
  },
  {
   "cell_type": "code",
   "execution_count": null,
   "id": "35b41ed0",
   "metadata": {},
   "outputs": [],
   "source": [
    "df_renang = pd.read_csv(filename, encoding='unicode_escape')\n",
    "df_renang.shape"
   ]
  },
  {
   "cell_type": "code",
   "execution_count": null,
   "id": "ed5fd871",
   "metadata": {},
   "outputs": [],
   "source": [
    "df_renang.head()"
   ]
  },
  {
   "cell_type": "code",
   "execution_count": null,
   "id": "c2b09408",
   "metadata": {},
   "outputs": [],
   "source": [
    "df_renang['cleaned_tweet'] = df_renang['text'].apply(lambda x: clean_tweet(x))\n",
    "df_renang['cleaned_tweet'] = df_renang['cleaned_tweet'].apply(lambda x: clean_spaces(x))\n",
    "df_renang.head()"
   ]
  },
  {
   "cell_type": "code",
   "execution_count": null,
   "id": "126f87fe",
   "metadata": {},
   "outputs": [],
   "source": [
    "header = [\"created_at\", \"author\", \"cleaned_tweet\"]\n",
    "df_renang.to_csv(filename, index=False, columns=header)"
   ]
  },
  {
   "cell_type": "markdown",
   "id": "c631e4dd",
   "metadata": {},
   "source": [
    "## Kemah"
   ]
  },
  {
   "cell_type": "code",
   "execution_count": 30,
   "id": "4c5bf29a",
   "metadata": {
    "scrolled": true
   },
   "outputs": [],
   "source": [
    "path = 'kegiatan/kemah/'\n",
    "filename = path + \"Kemah \" + str(date.today()) + \"a.csv\"\n",
    "category_tweet_retriever_1000(filename, \"Kemah\")"
   ]
  },
  {
   "cell_type": "code",
   "execution_count": 31,
   "id": "c70a5e15",
   "metadata": {},
   "outputs": [
    {
     "data": {
      "text/plain": [
       "(1000, 3)"
      ]
     },
     "execution_count": 31,
     "metadata": {},
     "output_type": "execute_result"
    }
   ],
   "source": [
    "df_kemah = pd.read_csv(filename, encoding='unicode_escape')\n",
    "df_kemah.shape"
   ]
  },
  {
   "cell_type": "code",
   "execution_count": 32,
   "id": "47643ab3",
   "metadata": {
    "scrolled": true
   },
   "outputs": [],
   "source": [
    "path = 'kegiatan/kemah/'\n",
    "filename = path + \"Camping \" + str(date.today()) + \".csv\"\n",
    "category_tweet_retriever_1000(filename, \"Camping\")"
   ]
  },
  {
   "cell_type": "code",
   "execution_count": 33,
   "id": "ad634119",
   "metadata": {},
   "outputs": [
    {
     "data": {
      "text/plain": [
       "(1000, 3)"
      ]
     },
     "execution_count": 33,
     "metadata": {},
     "output_type": "execute_result"
    }
   ],
   "source": [
    "df_camping = pd.read_csv(filename, encoding='unicode_escape')\n",
    "df_camping.shape"
   ]
  },
  {
   "cell_type": "code",
   "execution_count": 34,
   "id": "1e0e7962",
   "metadata": {},
   "outputs": [
    {
     "data": {
      "text/plain": [
       "(2000, 3)"
      ]
     },
     "execution_count": 34,
     "metadata": {},
     "output_type": "execute_result"
    }
   ],
   "source": [
    "df_berkemah = pd.concat([df_kemah, df_camping], ignore_index=True)\n",
    "df_berkemah.shape"
   ]
  },
  {
   "cell_type": "code",
   "execution_count": 35,
   "id": "699ca37f",
   "metadata": {},
   "outputs": [
    {
     "data": {
      "text/html": [
       "<div>\n",
       "<style scoped>\n",
       "    .dataframe tbody tr th:only-of-type {\n",
       "        vertical-align: middle;\n",
       "    }\n",
       "\n",
       "    .dataframe tbody tr th {\n",
       "        vertical-align: top;\n",
       "    }\n",
       "\n",
       "    .dataframe thead th {\n",
       "        text-align: right;\n",
       "    }\n",
       "</style>\n",
       "<table border=\"1\" class=\"dataframe\">\n",
       "  <thead>\n",
       "    <tr style=\"text-align: right;\">\n",
       "      <th></th>\n",
       "      <th>created_at</th>\n",
       "      <th>author</th>\n",
       "      <th>text</th>\n",
       "    </tr>\n",
       "  </thead>\n",
       "  <tbody>\n",
       "    <tr>\n",
       "      <th>0</th>\n",
       "      <td>2022-11-21 04:03:33+00:00</td>\n",
       "      <td>ezuZulfairy</td>\n",
       "      <td>@fakrulnaim13 HAHAHAH kemah po skalo demo HAHAH</td>\n",
       "    </tr>\n",
       "    <tr>\n",
       "      <th>1</th>\n",
       "      <td>2022-11-21 03:40:00+00:00</td>\n",
       "      <td>gonehim</td>\n",
       "      <td>@are_fifths Xpo. Ganu kemah banyok dh. Klate n...</td>\n",
       "    </tr>\n",
       "    <tr>\n",
       "      <th>2</th>\n",
       "      <td>2022-11-21 03:35:36+00:00</td>\n",
       "      <td>aaalifakmaal</td>\n",
       "      <td>@NewsBFM dulu pakai tuala ja, now dah kemah ke...</td>\n",
       "    </tr>\n",
       "    <tr>\n",
       "      <th>3</th>\n",
       "      <td>2022-11-21 03:23:30+00:00</td>\n",
       "      <td>zaquan94</td>\n",
       "      <td>@Injang_Nation Takpe la jang. Bukak kemah kat ...</td>\n",
       "    </tr>\n",
       "    <tr>\n",
       "      <th>4</th>\n",
       "      <td>2022-11-21 03:06:01+00:00</td>\n",
       "      <td>__roticanai</td>\n",
       "      <td>@SyahrainAkmal @wan_epy Kemah odo epi lonim</td>\n",
       "    </tr>\n",
       "  </tbody>\n",
       "</table>\n",
       "</div>"
      ],
      "text/plain": [
       "                  created_at        author  \\\n",
       "0  2022-11-21 04:03:33+00:00   ezuZulfairy   \n",
       "1  2022-11-21 03:40:00+00:00       gonehim   \n",
       "2  2022-11-21 03:35:36+00:00  aaalifakmaal   \n",
       "3  2022-11-21 03:23:30+00:00      zaquan94   \n",
       "4  2022-11-21 03:06:01+00:00   __roticanai   \n",
       "\n",
       "                                                text  \n",
       "0    @fakrulnaim13 HAHAHAH kemah po skalo demo HAHAH  \n",
       "1  @are_fifths Xpo. Ganu kemah banyok dh. Klate n...  \n",
       "2  @NewsBFM dulu pakai tuala ja, now dah kemah ke...  \n",
       "3  @Injang_Nation Takpe la jang. Bukak kemah kat ...  \n",
       "4        @SyahrainAkmal @wan_epy Kemah odo epi lonim  "
      ]
     },
     "execution_count": 35,
     "metadata": {},
     "output_type": "execute_result"
    }
   ],
   "source": [
    "df_berkemah.head()"
   ]
  },
  {
   "cell_type": "code",
   "execution_count": 36,
   "id": "0dc5b765",
   "metadata": {
    "scrolled": false
   },
   "outputs": [
    {
     "data": {
      "text/html": [
       "<div>\n",
       "<style scoped>\n",
       "    .dataframe tbody tr th:only-of-type {\n",
       "        vertical-align: middle;\n",
       "    }\n",
       "\n",
       "    .dataframe tbody tr th {\n",
       "        vertical-align: top;\n",
       "    }\n",
       "\n",
       "    .dataframe thead th {\n",
       "        text-align: right;\n",
       "    }\n",
       "</style>\n",
       "<table border=\"1\" class=\"dataframe\">\n",
       "  <thead>\n",
       "    <tr style=\"text-align: right;\">\n",
       "      <th></th>\n",
       "      <th>created_at</th>\n",
       "      <th>author</th>\n",
       "      <th>text</th>\n",
       "      <th>cleaned_tweet</th>\n",
       "    </tr>\n",
       "  </thead>\n",
       "  <tbody>\n",
       "    <tr>\n",
       "      <th>0</th>\n",
       "      <td>2022-11-21 04:03:33+00:00</td>\n",
       "      <td>ezuZulfairy</td>\n",
       "      <td>@fakrulnaim13 HAHAHAH kemah po skalo demo HAHAH</td>\n",
       "      <td>hahahah kemah po skalo demo hahah</td>\n",
       "    </tr>\n",
       "    <tr>\n",
       "      <th>1</th>\n",
       "      <td>2022-11-21 03:40:00+00:00</td>\n",
       "      <td>gonehim</td>\n",
       "      <td>@are_fifths Xpo. Ganu kemah banyok dh. Klate n...</td>\n",
       "      <td>xpo ganu kemah banyok dh klate ni keno jadi ma...</td>\n",
       "    </tr>\n",
       "    <tr>\n",
       "      <th>2</th>\n",
       "      <td>2022-11-21 03:35:36+00:00</td>\n",
       "      <td>aaalifakmaal</td>\n",
       "      <td>@NewsBFM dulu pakai tuala ja, now dah kemah ke...</td>\n",
       "      <td>dulu pakai tuala ja now dah kemah keming</td>\n",
       "    </tr>\n",
       "    <tr>\n",
       "      <th>3</th>\n",
       "      <td>2022-11-21 03:23:30+00:00</td>\n",
       "      <td>zaquan94</td>\n",
       "      <td>@Injang_Nation Takpe la jang. Bukak kemah kat ...</td>\n",
       "      <td>takpe la jang bukak kemah kat padang merbok je...</td>\n",
       "    </tr>\n",
       "    <tr>\n",
       "      <th>4</th>\n",
       "      <td>2022-11-21 03:06:01+00:00</td>\n",
       "      <td>__roticanai</td>\n",
       "      <td>@SyahrainAkmal @wan_epy Kemah odo epi lonim</td>\n",
       "      <td>kemah odo epi lonim</td>\n",
       "    </tr>\n",
       "  </tbody>\n",
       "</table>\n",
       "</div>"
      ],
      "text/plain": [
       "                  created_at        author  \\\n",
       "0  2022-11-21 04:03:33+00:00   ezuZulfairy   \n",
       "1  2022-11-21 03:40:00+00:00       gonehim   \n",
       "2  2022-11-21 03:35:36+00:00  aaalifakmaal   \n",
       "3  2022-11-21 03:23:30+00:00      zaquan94   \n",
       "4  2022-11-21 03:06:01+00:00   __roticanai   \n",
       "\n",
       "                                                text  \\\n",
       "0    @fakrulnaim13 HAHAHAH kemah po skalo demo HAHAH   \n",
       "1  @are_fifths Xpo. Ganu kemah banyok dh. Klate n...   \n",
       "2  @NewsBFM dulu pakai tuala ja, now dah kemah ke...   \n",
       "3  @Injang_Nation Takpe la jang. Bukak kemah kat ...   \n",
       "4        @SyahrainAkmal @wan_epy Kemah odo epi lonim   \n",
       "\n",
       "                                       cleaned_tweet  \n",
       "0                  hahahah kemah po skalo demo hahah  \n",
       "1  xpo ganu kemah banyok dh klate ni keno jadi ma...  \n",
       "2           dulu pakai tuala ja now dah kemah keming  \n",
       "3  takpe la jang bukak kemah kat padang merbok je...  \n",
       "4                                kemah odo epi lonim  "
      ]
     },
     "execution_count": 36,
     "metadata": {},
     "output_type": "execute_result"
    }
   ],
   "source": [
    "df_berkemah['cleaned_tweet'] = df_berkemah['text'].apply(lambda x: clean_tweet(x))\n",
    "df_berkemah['cleaned_tweet'] = df_berkemah['cleaned_tweet'].apply(lambda x: clean_spaces(x))\n",
    "df_berkemah.head()"
   ]
  },
  {
   "cell_type": "code",
   "execution_count": 37,
   "id": "fd523096",
   "metadata": {},
   "outputs": [],
   "source": [
    "filename = path + \"Berkemah \" + str(date.today()) + \"a.csv\"\n",
    "header = [\"created_at\", \"author\", \"cleaned_tweet\"]\n",
    "df_berkemah.to_csv(filename, index=False, columns=header)"
   ]
  },
  {
   "cell_type": "markdown",
   "id": "9490a3a1",
   "metadata": {},
   "source": [
    "## Testing"
   ]
  },
  {
   "cell_type": "code",
   "execution_count": 2,
   "id": "484d0a23",
   "metadata": {},
   "outputs": [],
   "source": [
    "import pandas as pd"
   ]
  },
  {
   "cell_type": "code",
   "execution_count": 19,
   "id": "6cc11238",
   "metadata": {},
   "outputs": [
    {
     "name": "stdout",
     "output_type": "stream",
     "text": [
      "(594, 3)\n"
     ]
    }
   ],
   "source": [
    "df_test = pd.read_csv(\"test retrieve kuliner.csv\", encoding='unicode_escape')\n",
    "print(df_test.shape)"
   ]
  },
  {
   "cell_type": "code",
   "execution_count": 16,
   "id": "cbf505e9",
   "metadata": {},
   "outputs": [
    {
     "data": {
      "text/html": [
       "<div>\n",
       "<style scoped>\n",
       "    .dataframe tbody tr th:only-of-type {\n",
       "        vertical-align: middle;\n",
       "    }\n",
       "\n",
       "    .dataframe tbody tr th {\n",
       "        vertical-align: top;\n",
       "    }\n",
       "\n",
       "    .dataframe thead th {\n",
       "        text-align: right;\n",
       "    }\n",
       "</style>\n",
       "<table border=\"1\" class=\"dataframe\">\n",
       "  <thead>\n",
       "    <tr style=\"text-align: right;\">\n",
       "      <th></th>\n",
       "      <th>created_at</th>\n",
       "      <th>author</th>\n",
       "      <th>text</th>\n",
       "    </tr>\n",
       "  </thead>\n",
       "  <tbody>\n",
       "    <tr>\n",
       "      <th>0</th>\n",
       "      <td>2023-03-12 16:22:12+00:00</td>\n",
       "      <td>AndyKriswandy</td>\n",
       "      <td>@muhammaadbashar\\r\\nBashar bangsat (Sorry brad...</td>\n",
       "    </tr>\n",
       "    <tr>\n",
       "      <th>1</th>\n",
       "      <td>2023-03-12 16:21:43+00:00</td>\n",
       "      <td>4beydumb</td>\n",
       "      <td>RT @c_cassieey: ð REKOMENDASI KULINER PWTð...</td>\n",
       "    </tr>\n",
       "    <tr>\n",
       "      <th>2</th>\n",
       "      <td>2023-03-12 16:19:49+00:00</td>\n",
       "      <td>chila_key</td>\n",
       "      <td>Masih ada nih ayo yg laper makan malem nih yuk...</td>\n",
       "    </tr>\n",
       "    <tr>\n",
       "      <th>3</th>\n",
       "      <td>2023-03-12 16:18:11+00:00</td>\n",
       "      <td>Sarambe16</td>\n",
       "      <td>@tanyarlfes Ada sayanggg, ayo cobain kuliner e...</td>\n",
       "    </tr>\n",
       "    <tr>\n",
       "      <th>4</th>\n",
       "      <td>2023-03-12 16:11:17+00:00</td>\n",
       "      <td>angelacolline27</td>\n",
       "      <td>@Bambangelf Sy melihatnya hingga selesai+ mmg ...</td>\n",
       "    </tr>\n",
       "  </tbody>\n",
       "</table>\n",
       "</div>"
      ],
      "text/plain": [
       "                  created_at           author  \\\n",
       "0  2023-03-12 16:22:12+00:00    AndyKriswandy   \n",
       "1  2023-03-12 16:21:43+00:00         4beydumb   \n",
       "2  2023-03-12 16:19:49+00:00        chila_key   \n",
       "3  2023-03-12 16:18:11+00:00        Sarambe16   \n",
       "4  2023-03-12 16:11:17+00:00  angelacolline27   \n",
       "\n",
       "                                                text  \n",
       "0  @muhammaadbashar\\r\\nBashar bangsat (Sorry brad...  \n",
       "1  RT @c_cassieey: ð REKOMENDASI KULINER PWTð...  \n",
       "2  Masih ada nih ayo yg laper makan malem nih yuk...  \n",
       "3  @tanyarlfes Ada sayanggg, ayo cobain kuliner e...  \n",
       "4  @Bambangelf Sy melihatnya hingga selesai+ mmg ...  "
      ]
     },
     "execution_count": 16,
     "metadata": {},
     "output_type": "execute_result"
    }
   ],
   "source": [
    "df_test.head()"
   ]
  },
  {
   "cell_type": "code",
   "execution_count": 17,
   "id": "048481f6",
   "metadata": {},
   "outputs": [
    {
     "data": {
      "text/html": [
       "<div>\n",
       "<style scoped>\n",
       "    .dataframe tbody tr th:only-of-type {\n",
       "        vertical-align: middle;\n",
       "    }\n",
       "\n",
       "    .dataframe tbody tr th {\n",
       "        vertical-align: top;\n",
       "    }\n",
       "\n",
       "    .dataframe thead th {\n",
       "        text-align: right;\n",
       "    }\n",
       "</style>\n",
       "<table border=\"1\" class=\"dataframe\">\n",
       "  <thead>\n",
       "    <tr style=\"text-align: right;\">\n",
       "      <th></th>\n",
       "      <th>created_at</th>\n",
       "      <th>author</th>\n",
       "      <th>text</th>\n",
       "      <th>cleaned_tweet</th>\n",
       "    </tr>\n",
       "  </thead>\n",
       "  <tbody>\n",
       "    <tr>\n",
       "      <th>0</th>\n",
       "      <td>2023-03-12 16:22:12+00:00</td>\n",
       "      <td>AndyKriswandy</td>\n",
       "      <td>@muhammaadbashar\\r\\nBashar bangsat (Sorry brad...</td>\n",
       "      <td>bashar bangsat sorry brader tapi reply ente di...</td>\n",
       "    </tr>\n",
       "    <tr>\n",
       "      <th>1</th>\n",
       "      <td>2023-03-12 16:21:43+00:00</td>\n",
       "      <td>4beydumb</td>\n",
       "      <td>RT @c_cassieey: ð REKOMENDASI KULINER PWTð...</td>\n",
       "      <td>rekomendasi kuliner pwt based on selama jadi m...</td>\n",
       "    </tr>\n",
       "    <tr>\n",
       "      <th>2</th>\n",
       "      <td>2023-03-12 16:19:49+00:00</td>\n",
       "      <td>chila_key</td>\n",
       "      <td>Masih ada nih ayo yg laper makan malem nih yuk...</td>\n",
       "      <td>masih ada nih ayo yg laper makan malem nih yuk...</td>\n",
       "    </tr>\n",
       "    <tr>\n",
       "      <th>3</th>\n",
       "      <td>2023-03-12 16:18:11+00:00</td>\n",
       "      <td>Sarambe16</td>\n",
       "      <td>@tanyarlfes Ada sayanggg, ayo cobain kuliner e...</td>\n",
       "      <td>ada sayanggg ayo cobain kuliner enak lainnya c...</td>\n",
       "    </tr>\n",
       "    <tr>\n",
       "      <th>4</th>\n",
       "      <td>2023-03-12 16:11:17+00:00</td>\n",
       "      <td>angelacolline27</td>\n",
       "      <td>@Bambangelf Sy melihatnya hingga selesai+ mmg ...</td>\n",
       "      <td>sy melihatnya hingga selesai mmg bikin persain...</td>\n",
       "    </tr>\n",
       "  </tbody>\n",
       "</table>\n",
       "</div>"
      ],
      "text/plain": [
       "                  created_at           author  \\\n",
       "0  2023-03-12 16:22:12+00:00    AndyKriswandy   \n",
       "1  2023-03-12 16:21:43+00:00         4beydumb   \n",
       "2  2023-03-12 16:19:49+00:00        chila_key   \n",
       "3  2023-03-12 16:18:11+00:00        Sarambe16   \n",
       "4  2023-03-12 16:11:17+00:00  angelacolline27   \n",
       "\n",
       "                                                text  \\\n",
       "0  @muhammaadbashar\\r\\nBashar bangsat (Sorry brad...   \n",
       "1  RT @c_cassieey: ð REKOMENDASI KULINER PWTð...   \n",
       "2  Masih ada nih ayo yg laper makan malem nih yuk...   \n",
       "3  @tanyarlfes Ada sayanggg, ayo cobain kuliner e...   \n",
       "4  @Bambangelf Sy melihatnya hingga selesai+ mmg ...   \n",
       "\n",
       "                                       cleaned_tweet  \n",
       "0  bashar bangsat sorry brader tapi reply ente di...  \n",
       "1  rekomendasi kuliner pwt based on selama jadi m...  \n",
       "2  masih ada nih ayo yg laper makan malem nih yuk...  \n",
       "3  ada sayanggg ayo cobain kuliner enak lainnya c...  \n",
       "4  sy melihatnya hingga selesai mmg bikin persain...  "
      ]
     },
     "execution_count": 17,
     "metadata": {},
     "output_type": "execute_result"
    }
   ],
   "source": [
    "df_test['cleaned_tweet'] = df_test['text'].apply(lambda x: clean_tweet(x))\n",
    "df_test['cleaned_tweet'] = df_test['cleaned_tweet'].apply(lambda x: clean_spaces(x))\n",
    "df_test.head()"
   ]
  },
  {
   "cell_type": "code",
   "execution_count": 18,
   "id": "1f692c43",
   "metadata": {},
   "outputs": [],
   "source": [
    "header = [\"created_at\", \"author\", \"cleaned_tweet\"]\n",
    "df_test.to_csv(\"test cleaned kuliner.csv\", index=False, columns=header)"
   ]
  },
  {
   "cell_type": "code",
   "execution_count": null,
   "id": "44c02173",
   "metadata": {},
   "outputs": [],
   "source": []
  }
 ],
 "metadata": {
  "kernelspec": {
   "display_name": "Python 3 (ipykernel)",
   "language": "python",
   "name": "python3"
  },
  "language_info": {
   "codemirror_mode": {
    "name": "ipython",
    "version": 3
   },
   "file_extension": ".py",
   "mimetype": "text/x-python",
   "name": "python",
   "nbconvert_exporter": "python",
   "pygments_lexer": "ipython3",
   "version": "3.9.6"
  }
 },
 "nbformat": 4,
 "nbformat_minor": 5
}
