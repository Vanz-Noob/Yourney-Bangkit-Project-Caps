{
 "cells": [
  {
   "cell_type": "markdown",
   "id": "37f729aa",
   "metadata": {},
   "source": [
    "# Dataset Building"
   ]
  },
  {
   "cell_type": "code",
   "execution_count": 1,
   "id": "48872086",
   "metadata": {},
   "outputs": [],
   "source": [
    "import tweepy\n",
    "import csv\n",
    "import string\n",
    "import pandas as pd\n",
    "import numpy as np\n",
    "import matplotlib.pyplot as plt\n",
    "import re\n",
    "from sklearn import model_selection\n",
    "from sklearn.naive_bayes import MultinomialNB\n",
    "from sklearn.metrics import classification_report\n",
    "from sklearn.model_selection import train_test_split\n",
    "from sklearn.feature_extraction.text import CountVectorizer\n",
    "from sklearn.feature_extraction.text import TfidfTransformer\n",
    "from sklearn.metrics import accuracy_score\n",
    "from sklearn.preprocessing import OneHotEncoder, LabelEncoder"
   ]
  },
  {
   "cell_type": "code",
   "execution_count": 2,
   "id": "220db575",
   "metadata": {},
   "outputs": [],
   "source": [
    "def splitter(tweet):\n",
    "    return tweet.split()"
   ]
  },
  {
   "cell_type": "markdown",
   "id": "e4d8bd6c",
   "metadata": {},
   "source": [
    "# Analysis (Tempat)"
   ]
  },
  {
   "cell_type": "code",
   "execution_count": 3,
   "id": "a90c3cc7",
   "metadata": {},
   "outputs": [],
   "source": [
    "df_tempat = pd.read_csv(\"_dataset/dataset tempat 2022-11-21a.csv\")"
   ]
  },
  {
   "cell_type": "code",
   "execution_count": 4,
   "id": "d559938d",
   "metadata": {},
   "outputs": [
    {
     "name": "stdout",
     "output_type": "stream",
     "text": [
      "<class 'pandas.core.frame.DataFrame'>\n",
      "RangeIndex: 5478 entries, 0 to 5477\n",
      "Data columns (total 4 columns):\n",
      " #   Column         Non-Null Count  Dtype \n",
      "---  ------         --------------  ----- \n",
      " 0   created_at     5478 non-null   object\n",
      " 1   author         5478 non-null   object\n",
      " 2   cleaned_tweet  5477 non-null   object\n",
      " 3   category       5478 non-null   object\n",
      "dtypes: object(4)\n",
      "memory usage: 171.3+ KB\n"
     ]
    }
   ],
   "source": [
    "df_tempat.info()"
   ]
  },
  {
   "cell_type": "code",
   "execution_count": 5,
   "id": "61ffb070",
   "metadata": {},
   "outputs": [
    {
     "data": {
      "text/html": [
       "<div>\n",
       "<style scoped>\n",
       "    .dataframe tbody tr th:only-of-type {\n",
       "        vertical-align: middle;\n",
       "    }\n",
       "\n",
       "    .dataframe tbody tr th {\n",
       "        vertical-align: top;\n",
       "    }\n",
       "\n",
       "    .dataframe thead th {\n",
       "        text-align: right;\n",
       "    }\n",
       "</style>\n",
       "<table border=\"1\" class=\"dataframe\">\n",
       "  <thead>\n",
       "    <tr style=\"text-align: right;\">\n",
       "      <th></th>\n",
       "      <th>created_at</th>\n",
       "      <th>author</th>\n",
       "      <th>cleaned_tweet</th>\n",
       "      <th>category</th>\n",
       "    </tr>\n",
       "  </thead>\n",
       "  <tbody>\n",
       "    <tr>\n",
       "      <th>0</th>\n",
       "      <td>2022-11-18 18:40:29+00:00</td>\n",
       "      <td>abcdiloveyouf</td>\n",
       "      <td>nomin college au d dingin mau diangetin saat j...</td>\n",
       "      <td>gunung</td>\n",
       "    </tr>\n",
       "    <tr>\n",
       "      <th>1</th>\n",
       "      <td>2022-11-18 18:40:17+00:00</td>\n",
       "      <td>lutfimove</td>\n",
       "      <td>pemagaran dan gapura tpu astana gunung kp nyal...</td>\n",
       "      <td>gunung</td>\n",
       "    </tr>\n",
       "    <tr>\n",
       "      <th>2</th>\n",
       "      <td>2022-11-18 18:39:48+00:00</td>\n",
       "      <td>imamtoyib1</td>\n",
       "      <td>promo diskon khans sandal gunung pria wanita l...</td>\n",
       "      <td>gunung</td>\n",
       "    </tr>\n",
       "    <tr>\n",
       "      <th>3</th>\n",
       "      <td>2022-11-18 18:38:10+00:00</td>\n",
       "      <td>imjusthumann_</td>\n",
       "      <td>kangen naik gunung</td>\n",
       "      <td>gunung</td>\n",
       "    </tr>\n",
       "    <tr>\n",
       "      <th>4</th>\n",
       "      <td>2022-11-18 18:37:25+00:00</td>\n",
       "      <td>UNSfess_</td>\n",
       "      <td>halo mas mbak karanganyar kota atau sekitar be...</td>\n",
       "      <td>gunung</td>\n",
       "    </tr>\n",
       "    <tr>\n",
       "      <th>5</th>\n",
       "      <td>2022-11-18 18:36:10+00:00</td>\n",
       "      <td>Noramisah</td>\n",
       "      <td>tmbah lagi jln nk klau gunung tu pon berlubang...</td>\n",
       "      <td>gunung</td>\n",
       "    </tr>\n",
       "    <tr>\n",
       "      <th>6</th>\n",
       "      <td>2022-11-18 18:36:00+00:00</td>\n",
       "      <td>imamtoyib1</td>\n",
       "      <td>promo diskon arsy sport sandal gunung pria jep...</td>\n",
       "      <td>gunung</td>\n",
       "    </tr>\n",
       "    <tr>\n",
       "      <th>7</th>\n",
       "      <td>2022-11-18 18:35:57+00:00</td>\n",
       "      <td>FacktaWaw</td>\n",
       "      <td>tempat dengan gravitasi terendah ada di gunung...</td>\n",
       "      <td>gunung</td>\n",
       "    </tr>\n",
       "    <tr>\n",
       "      <th>8</th>\n",
       "      <td>2022-11-18 18:33:31+00:00</td>\n",
       "      <td>lutfan_mohamad</td>\n",
       "      <td>foto2 yg diambil minggu lalu mengingatkan syai...</td>\n",
       "      <td>gunung</td>\n",
       "    </tr>\n",
       "    <tr>\n",
       "      <th>9</th>\n",
       "      <td>2022-11-18 18:33:19+00:00</td>\n",
       "      <td>SeputarInfoo</td>\n",
       "      <td>pada tahun 1980 reinhold messner mendaki punca...</td>\n",
       "      <td>gunung</td>\n",
       "    </tr>\n",
       "  </tbody>\n",
       "</table>\n",
       "</div>"
      ],
      "text/plain": [
       "                  created_at          author  \\\n",
       "0  2022-11-18 18:40:29+00:00   abcdiloveyouf   \n",
       "1  2022-11-18 18:40:17+00:00       lutfimove   \n",
       "2  2022-11-18 18:39:48+00:00      imamtoyib1   \n",
       "3  2022-11-18 18:38:10+00:00   imjusthumann_   \n",
       "4  2022-11-18 18:37:25+00:00        UNSfess_   \n",
       "5  2022-11-18 18:36:10+00:00       Noramisah   \n",
       "6  2022-11-18 18:36:00+00:00      imamtoyib1   \n",
       "7  2022-11-18 18:35:57+00:00       FacktaWaw   \n",
       "8  2022-11-18 18:33:31+00:00  lutfan_mohamad   \n",
       "9  2022-11-18 18:33:19+00:00    SeputarInfoo   \n",
       "\n",
       "                                       cleaned_tweet category  \n",
       "0  nomin college au d dingin mau diangetin saat j...   gunung  \n",
       "1  pemagaran dan gapura tpu astana gunung kp nyal...   gunung  \n",
       "2  promo diskon khans sandal gunung pria wanita l...   gunung  \n",
       "3                                 kangen naik gunung   gunung  \n",
       "4  halo mas mbak karanganyar kota atau sekitar be...   gunung  \n",
       "5  tmbah lagi jln nk klau gunung tu pon berlubang...   gunung  \n",
       "6  promo diskon arsy sport sandal gunung pria jep...   gunung  \n",
       "7  tempat dengan gravitasi terendah ada di gunung...   gunung  \n",
       "8  foto2 yg diambil minggu lalu mengingatkan syai...   gunung  \n",
       "9  pada tahun 1980 reinhold messner mendaki punca...   gunung  "
      ]
     },
     "execution_count": 5,
     "metadata": {},
     "output_type": "execute_result"
    }
   ],
   "source": [
    "df_tempat.head(10)"
   ]
  },
  {
   "cell_type": "code",
   "execution_count": 6,
   "id": "4cf88120",
   "metadata": {},
   "outputs": [],
   "source": [
    "df_tempat = df_tempat.dropna()"
   ]
  },
  {
   "cell_type": "code",
   "execution_count": 7,
   "id": "9a29e913",
   "metadata": {},
   "outputs": [
    {
     "name": "stdout",
     "output_type": "stream",
     "text": [
      "0           gunung\n",
      "1           gunung\n",
      "2           gunung\n",
      "3           gunung\n",
      "4           gunung\n",
      "           ...    \n",
      "5473    air terjun\n",
      "5474    air terjun\n",
      "5475    air terjun\n",
      "5476    air terjun\n",
      "5477    air terjun\n",
      "Name: category, Length: 5477, dtype: object\n"
     ]
    }
   ],
   "source": [
    "yTargetTempat = df_tempat[\"category\"]\n",
    "print(yTargetTempat)"
   ]
  },
  {
   "cell_type": "code",
   "execution_count": 8,
   "id": "0e3c9180",
   "metadata": {},
   "outputs": [
    {
     "name": "stdout",
     "output_type": "stream",
     "text": [
      "[1 1 1 ... 0 0 0]\n",
      "(5477,)\n"
     ]
    }
   ],
   "source": [
    "# ubah kategori jadi angka\n",
    "encoder = LabelEncoder()\n",
    "YTempat = encoder.fit_transform(yTargetTempat)\n",
    "print(YTempat)\n",
    "print(YTempat.shape)"
   ]
  },
  {
   "cell_type": "code",
   "execution_count": 9,
   "id": "36e8c2e4",
   "metadata": {
    "scrolled": true
   },
   "outputs": [
    {
     "name": "stdout",
     "output_type": "stream",
     "text": [
      "16578\n",
      "(5477, 16578)\n"
     ]
    }
   ],
   "source": [
    "vectorizerTempat = CountVectorizer(analyzer=splitter).fit(df_tempat[\"cleaned_tweet\"])\n",
    "xTargetTempat = vectorizerTempat.transform(df_tempat[\"cleaned_tweet\"])\n",
    "# print(vectorizer.vocabulary_)\n",
    "print(len(vectorizerTempat.vocabulary_))\n",
    "print(xTargetTempat.shape)"
   ]
  },
  {
   "cell_type": "code",
   "execution_count": 10,
   "id": "aa73112d",
   "metadata": {},
   "outputs": [
    {
     "name": "stdout",
     "output_type": "stream",
     "text": [
      "(5477, 16578)\n",
      "  (0, 15326)\t0.5917815348881909\n",
      "  (0, 14673)\t0.23652380379172844\n",
      "  (0, 8335)\t0.29146411321649307\n",
      "  (0, 8168)\t0.3123251429786813\n",
      "  (0, 7265)\t0.36080242457878725\n",
      "  (0, 6207)\t0.211069043872398\n",
      "  (0, 5292)\t0.08136588761727821\n",
      "  (0, 957)\t0.2974621000281777\n",
      "  (0, 636)\t0.2928947075195404\n",
      "  (0, 626)\t0.23607802057480995\n"
     ]
    }
   ],
   "source": [
    "tfidfTempat = TfidfTransformer()\n",
    "XTempat = tfidfTempat.fit_transform(xTargetTempat)\n",
    "print(XTempat.shape)\n",
    "print(XTempat[10])"
   ]
  },
  {
   "cell_type": "code",
   "execution_count": 192,
   "id": "959e1887",
   "metadata": {},
   "outputs": [
    {
     "name": "stdout",
     "output_type": "stream",
     "text": [
      "(4381, 16578)\n",
      "(1096, 16578)\n",
      "(4381,)\n",
      "(1096,)\n"
     ]
    }
   ],
   "source": [
    "X_trainTempat, X_testTempat, y_trainTempat, y_testTempat = train_test_split(XTempat, yTargetTempat, test_size=0.2, random_state=15)\n",
    "print(X_trainTempat.shape)\n",
    "print(X_testTempat.shape)\n",
    "print(y_trainTempat.shape)\n",
    "print(y_testTempat.shape)"
   ]
  },
  {
   "cell_type": "code",
   "execution_count": 193,
   "id": "2c8b51b7",
   "metadata": {},
   "outputs": [
    {
     "name": "stdout",
     "output_type": "stream",
     "text": [
      "MultinomialNB()\n"
     ]
    }
   ],
   "source": [
    "NaiveBayesTempat = MultinomialNB().fit(X_trainTempat, np.ravel(y_trainTempat, order=\"C\"))\n",
    "print(NaiveBayesTempat)"
   ]
  },
  {
   "cell_type": "code",
   "execution_count": 194,
   "id": "d88ffab3",
   "metadata": {},
   "outputs": [
    {
     "name": "stdout",
     "output_type": "stream",
     "text": [
      "['gunung' 'gunung' 'gunung' ... 'gunung' 'gunung' 'gunung']\n",
      "0.7454379562043796\n"
     ]
    }
   ],
   "source": [
    "prediction = NaiveBayesTempat.predict(X_testTempat)\n",
    "accuracies = accuracy_score(y_testTempat, prediction)\n",
    "\n",
    "print(prediction)\n",
    "print(accuracies)"
   ]
  },
  {
   "cell_type": "code",
   "execution_count": 195,
   "id": "50cfff44",
   "metadata": {},
   "outputs": [
    {
     "data": {
      "text/plain": [
       "gunung        2798\n",
       "pantai        1637\n",
       "air terjun    1042\n",
       "Name: category, dtype: int64"
      ]
     },
     "execution_count": 195,
     "metadata": {},
     "output_type": "execute_result"
    }
   ],
   "source": [
    "df_tempat['category'].value_counts()"
   ]
  },
  {
   "cell_type": "code",
   "execution_count": 196,
   "id": "3f68f29e",
   "metadata": {},
   "outputs": [
    {
     "name": "stdout",
     "output_type": "stream",
     "text": [
      "[[ 90 123   0]\n",
      " [  0 539  10]\n",
      " [  0 146 188]]\n"
     ]
    }
   ],
   "source": [
    "from sklearn.metrics import classification_report, accuracy_score, confusion_matrix\n",
    "from sklearn.utils.multiclass import unique_labels\n",
    "import seaborn as sns\n",
    "import matplotlib.pyplot as plt\n",
    "\n",
    "cf_matrix = confusion_matrix(y_testTempat, prediction)\n",
    "print(confusion_matrix(y_testTempat, prediction))"
   ]
  },
  {
   "cell_type": "code",
   "execution_count": 197,
   "id": "5a1419e6",
   "metadata": {},
   "outputs": [
    {
     "data": {
      "text/plain": [
       "<AxesSubplot:>"
      ]
     },
     "execution_count": 197,
     "metadata": {},
     "output_type": "execute_result"
    },
    {
     "data": {
      "image/png": "[encoded data removed]",
      "text/plain": [
       "<Figure size 432x288 with 2 Axes>"
      ]
     },
     "metadata": {
      "needs_background": "light"
     },
     "output_type": "display_data"
    }
   ],
   "source": [
    "labels = [\"air terjun\", \"gunung\", \"pantai\"]\n",
    "sns.heatmap(cf_matrix, annot=True, cmap='Greens', fmt=\"d\",\n",
    "            xticklabels=labels, yticklabels=labels)"
   ]
  },
  {
   "cell_type": "code",
   "execution_count": 11,
   "id": "ac1f2353",
   "metadata": {},
   "outputs": [
    {
     "name": "stdout",
     "output_type": "stream",
     "text": [
      "(5477, 16578)\n",
      "(5477,)\n"
     ]
    }
   ],
   "source": [
    "X_datasetTempat, y_datasetTempat = XTempat, YTempat\n",
    "\n",
    "print(X_datasetTempat.shape)\n",
    "print(y_datasetTempat.shape)"
   ]
  },
  {
   "cell_type": "markdown",
   "id": "5fe20cc9",
   "metadata": {},
   "source": [
    "# Analysis (Kegiatan)"
   ]
  },
  {
   "cell_type": "code",
   "execution_count": 12,
   "id": "7dc6938d",
   "metadata": {},
   "outputs": [],
   "source": [
    "df_kegiatan = pd.read_csv(\"_dataset/dataset kegiatan 2022-11-21a.csv\")"
   ]
  },
  {
   "cell_type": "code",
   "execution_count": 13,
   "id": "b022839b",
   "metadata": {},
   "outputs": [
    {
     "data": {
      "text/html": [
       "<div>\n",
       "<style scoped>\n",
       "    .dataframe tbody tr th:only-of-type {\n",
       "        vertical-align: middle;\n",
       "    }\n",
       "\n",
       "    .dataframe tbody tr th {\n",
       "        vertical-align: top;\n",
       "    }\n",
       "\n",
       "    .dataframe thead th {\n",
       "        text-align: right;\n",
       "    }\n",
       "</style>\n",
       "<table border=\"1\" class=\"dataframe\">\n",
       "  <thead>\n",
       "    <tr style=\"text-align: right;\">\n",
       "      <th></th>\n",
       "      <th>created_at</th>\n",
       "      <th>author</th>\n",
       "      <th>cleaned_tweet</th>\n",
       "      <th>category</th>\n",
       "    </tr>\n",
       "  </thead>\n",
       "  <tbody>\n",
       "    <tr>\n",
       "      <th>0</th>\n",
       "      <td>2022-11-18 19:34:16+00:00</td>\n",
       "      <td>PempekJOERAGAN</td>\n",
       "      <td>kuliner pempek paling ajip mantap enaak sekali...</td>\n",
       "      <td>kuliner</td>\n",
       "    </tr>\n",
       "    <tr>\n",
       "      <th>1</th>\n",
       "      <td>2022-11-18 19:26:10+00:00</td>\n",
       "      <td>sneakyplankton</td>\n",
       "      <td>kuliner kampus bara dan sekitarnya a thread</td>\n",
       "      <td>kuliner</td>\n",
       "    </tr>\n",
       "    <tr>\n",
       "      <th>2</th>\n",
       "      <td>2022-11-18 18:54:36+00:00</td>\n",
       "      <td>rajodurian</td>\n",
       "      <td>rajo durian menyediakan produk kuliner durian ...</td>\n",
       "      <td>kuliner</td>\n",
       "    </tr>\n",
       "    <tr>\n",
       "      <th>3</th>\n",
       "      <td>2022-11-18 18:52:25+00:00</td>\n",
       "      <td>Dhotachin</td>\n",
       "      <td>kuliner tanjung duren ternyata banyak juga pis...</td>\n",
       "      <td>kuliner</td>\n",
       "    </tr>\n",
       "    <tr>\n",
       "      <th>4</th>\n",
       "      <td>2022-11-18 18:41:15+00:00</td>\n",
       "      <td>rahmat_abdlh</td>\n",
       "      <td>bismillah terima pesanan soto bandung hujan hu...</td>\n",
       "      <td>kuliner</td>\n",
       "    </tr>\n",
       "  </tbody>\n",
       "</table>\n",
       "</div>"
      ],
      "text/plain": [
       "                  created_at          author  \\\n",
       "0  2022-11-18 19:34:16+00:00  PempekJOERAGAN   \n",
       "1  2022-11-18 19:26:10+00:00  sneakyplankton   \n",
       "2  2022-11-18 18:54:36+00:00      rajodurian   \n",
       "3  2022-11-18 18:52:25+00:00       Dhotachin   \n",
       "4  2022-11-18 18:41:15+00:00    rahmat_abdlh   \n",
       "\n",
       "                                       cleaned_tweet category  \n",
       "0  kuliner pempek paling ajip mantap enaak sekali...  kuliner  \n",
       "1        kuliner kampus bara dan sekitarnya a thread  kuliner  \n",
       "2  rajo durian menyediakan produk kuliner durian ...  kuliner  \n",
       "3  kuliner tanjung duren ternyata banyak juga pis...  kuliner  \n",
       "4  bismillah terima pesanan soto bandung hujan hu...  kuliner  "
      ]
     },
     "execution_count": 13,
     "metadata": {},
     "output_type": "execute_result"
    }
   ],
   "source": [
    "df_kegiatan.head()"
   ]
  },
  {
   "cell_type": "code",
   "execution_count": 14,
   "id": "a65d5d99",
   "metadata": {},
   "outputs": [
    {
     "name": "stdout",
     "output_type": "stream",
     "text": [
      "<class 'pandas.core.frame.DataFrame'>\n",
      "RangeIndex: 6461 entries, 0 to 6460\n",
      "Data columns (total 4 columns):\n",
      " #   Column         Non-Null Count  Dtype \n",
      "---  ------         --------------  ----- \n",
      " 0   created_at     6461 non-null   object\n",
      " 1   author         6461 non-null   object\n",
      " 2   cleaned_tweet  6460 non-null   object\n",
      " 3   category       6461 non-null   object\n",
      "dtypes: object(4)\n",
      "memory usage: 202.0+ KB\n"
     ]
    }
   ],
   "source": [
    "df_kegiatan.info()"
   ]
  },
  {
   "cell_type": "code",
   "execution_count": 15,
   "id": "204628c4",
   "metadata": {},
   "outputs": [],
   "source": [
    "df_kegiatan = df_kegiatan.dropna()"
   ]
  },
  {
   "cell_type": "code",
   "execution_count": 16,
   "id": "7247e961",
   "metadata": {},
   "outputs": [
    {
     "name": "stdout",
     "output_type": "stream",
     "text": [
      "0       kuliner\n",
      "1       kuliner\n",
      "2       kuliner\n",
      "3       kuliner\n",
      "4       kuliner\n",
      "         ...   \n",
      "6456      kemah\n",
      "6457      kemah\n",
      "6458      kemah\n",
      "6459      kemah\n",
      "6460      kemah\n",
      "Name: category, Length: 6460, dtype: object\n"
     ]
    }
   ],
   "source": [
    "yTargetKegiatan = df_kegiatan[\"category\"]\n",
    "print(yTargetKegiatan)"
   ]
  },
  {
   "cell_type": "code",
   "execution_count": 17,
   "id": "792baa84",
   "metadata": {},
   "outputs": [
    {
     "name": "stdout",
     "output_type": "stream",
     "text": [
      "[1 1 1 ... 0 0 0]\n",
      "(6460,)\n",
      "1\n"
     ]
    }
   ],
   "source": [
    "# ubah kategori jadi angka\n",
    "encoder = LabelEncoder()\n",
    "YKegiatan = encoder.fit_transform(yTargetKegiatan)\n",
    "print(YKegiatan)\n",
    "print(YKegiatan.shape)\n",
    "print(YKegiatan[10])"
   ]
  },
  {
   "cell_type": "code",
   "execution_count": 18,
   "id": "9515acc2",
   "metadata": {
    "scrolled": true
   },
   "outputs": [
    {
     "name": "stdout",
     "output_type": "stream",
     "text": [
      "17577\n",
      "(6460, 17577)\n"
     ]
    }
   ],
   "source": [
    "vectorizerKegiatan = CountVectorizer(analyzer=splitter).fit(df_kegiatan[\"cleaned_tweet\"])\n",
    "xTargetKegiatan = vectorizerKegiatan.transform(df_kegiatan[\"cleaned_tweet\"])\n",
    "# print(vectorizer.vocabulary_)\n",
    "print(len(vectorizerKegiatan.vocabulary_))\n",
    "print(xTargetKegiatan.shape)"
   ]
  },
  {
   "cell_type": "code",
   "execution_count": 19,
   "id": "d246b86e",
   "metadata": {},
   "outputs": [
    {
     "name": "stdout",
     "output_type": "stream",
     "text": [
      "(6460, 17577)\n",
      "  (0, 17225)\t0.1462443424374383\n",
      "  (0, 15148)\t0.240528662673838\n",
      "  (0, 13954)\t0.2439207626578802\n",
      "  (0, 13303)\t0.279290774882976\n",
      "  (0, 11320)\t0.240528662673838\n",
      "  (0, 9563)\t0.279290774882976\n",
      "  (0, 9432)\t0.279290774882976\n",
      "  (0, 8483)\t0.07711245015424993\n",
      "  (0, 8385)\t0.279290774882976\n",
      "  (0, 7779)\t0.24771280781707444\n",
      "  (0, 7607)\t0.279290774882976\n",
      "  (0, 6962)\t0.17697278336688282\n",
      "  (0, 5862)\t0.21371300972285562\n",
      "  (0, 5752)\t0.23465878868897777\n",
      "  (0, 4279)\t0.240528662673838\n",
      "  (0, 3609)\t0.1366398634024179\n",
      "  (0, 2478)\t0.2439207626578802\n",
      "  (0, 237)\t0.279290774882976\n"
     ]
    }
   ],
   "source": [
    "tfidfKegiatan = TfidfTransformer()\n",
    "XKegiatan = tfidfKegiatan.fit_transform(xTargetKegiatan)\n",
    "print(XKegiatan.shape)\n",
    "print(XKegiatan[10])"
   ]
  },
  {
   "cell_type": "code",
   "execution_count": 177,
   "id": "79a42bf9",
   "metadata": {},
   "outputs": [
    {
     "name": "stdout",
     "output_type": "stream",
     "text": [
      "(5168, 17577)\n",
      "(1292, 17577)\n",
      "(5168,)\n",
      "(1292,)\n"
     ]
    }
   ],
   "source": [
    "X_trainKegiatan, X_testKegiatan, y_trainKegiatan, y_testKegiatan = train_test_split(XKegiatan, yTargetKegiatan, test_size=0.2, random_state=15)\n",
    "print(X_trainKegiatan.shape)\n",
    "print(X_testKegiatan.shape)\n",
    "print(y_trainKegiatan.shape)\n",
    "print(y_testKegiatan.shape)"
   ]
  },
  {
   "cell_type": "code",
   "execution_count": 178,
   "id": "9c137d5f",
   "metadata": {},
   "outputs": [
    {
     "name": "stdout",
     "output_type": "stream",
     "text": [
      "MultinomialNB()\n"
     ]
    }
   ],
   "source": [
    "NaiveBayesKegiatan = MultinomialNB().fit(X_trainKegiatan, np.ravel(y_trainKegiatan, order=\"C\"))\n",
    "print(NaiveBayesTempat)"
   ]
  },
  {
   "cell_type": "code",
   "execution_count": 179,
   "id": "41e502fa",
   "metadata": {},
   "outputs": [
    {
     "name": "stdout",
     "output_type": "stream",
     "text": [
      "['renang' 'kuliner' 'kuliner' ... 'renang' 'kuliner' 'renang']\n",
      "0.8335913312693498\n"
     ]
    }
   ],
   "source": [
    "prediction = NaiveBayesKegiatan.predict(X_testKegiatan)\n",
    "accuracies = accuracy_score(y_testKegiatan, prediction)\n",
    "\n",
    "print(prediction)\n",
    "print(accuracies)"
   ]
  },
  {
   "cell_type": "code",
   "execution_count": 180,
   "id": "eaa302db",
   "metadata": {},
   "outputs": [
    {
     "data": {
      "text/plain": [
       "renang     2880\n",
       "kuliner    1969\n",
       "kemah      1611\n",
       "Name: category, dtype: int64"
      ]
     },
     "execution_count": 180,
     "metadata": {},
     "output_type": "execute_result"
    }
   ],
   "source": [
    "df_kegiatan['category'].value_counts()"
   ]
  },
  {
   "cell_type": "code",
   "execution_count": 181,
   "id": "7bcdd929",
   "metadata": {},
   "outputs": [
    {
     "name": "stdout",
     "output_type": "stream",
     "text": [
      "[[192  13 136]\n",
      " [  1 319  57]\n",
      " [  0   8 566]]\n"
     ]
    }
   ],
   "source": [
    "from sklearn.metrics import classification_report, accuracy_score, confusion_matrix\n",
    "from sklearn.utils.multiclass import unique_labels\n",
    "import seaborn as sns\n",
    "import matplotlib.pyplot as plt\n",
    "\n",
    "cf_matrix = confusion_matrix(y_testKegiatan, prediction)\n",
    "print(confusion_matrix(y_testKegiatan, prediction))"
   ]
  },
  {
   "cell_type": "code",
   "execution_count": 182,
   "id": "5509e10b",
   "metadata": {},
   "outputs": [
    {
     "data": {
      "text/plain": [
       "<AxesSubplot:>"
      ]
     },
     "execution_count": 182,
     "metadata": {},
     "output_type": "execute_result"
    },
    {
     "data": {
      "image/png": "[encoded data removed]",
      "text/plain": [
       "<Figure size 432x288 with 2 Axes>"
      ]
     },
     "metadata": {
      "needs_background": "light"
     },
     "output_type": "display_data"
    }
   ],
   "source": [
    "labels = [\"kemah\", \"kuliner\", \"renang\"]\n",
    "sns.heatmap(cf_matrix, annot=True, cmap='Greens', fmt=\"d\",\n",
    "            xticklabels=labels, yticklabels=labels)"
   ]
  },
  {
   "cell_type": "code",
   "execution_count": 106,
   "id": "4b62bebb",
   "metadata": {},
   "outputs": [
    {
     "name": "stdout",
     "output_type": "stream",
     "text": [
      "(6460, 17577)\n",
      "(6460,)\n"
     ]
    }
   ],
   "source": [
    "X_datasetKegiatan, y_datasetKegiatan = XKegiatan, YKegiatan\n",
    "\n",
    "print(X_datasetKegiatan.shape)\n",
    "print(y_datasetKegiatan.shape)"
   ]
  },
  {
   "cell_type": "markdown",
   "id": "816caff9",
   "metadata": {},
   "source": [
    "## Real User Tweet Implementation"
   ]
  },
  {
   "cell_type": "code",
   "execution_count": 20,
   "id": "8d399e08",
   "metadata": {},
   "outputs": [
    {
     "name": "stdout",
     "output_type": "stream",
     "text": [
      "importing Jupyter notebook from TweetRetrieval.ipynb\n",
      "Today: 2022-12-20\n"
     ]
    }
   ],
   "source": [
    "import import_ipynb\n",
    "from TweetRetrieval import *"
   ]
  },
  {
   "cell_type": "code",
   "execution_count": 108,
   "id": "360811d4",
   "metadata": {},
   "outputs": [],
   "source": [
    "# sementara yang real time kita disable dulu ya ges\n",
    "\n",
    "# path = 'user/'\n",
    "# username = \"rochmanstn\"\n",
    "# filename = path + username + \" \" + str(date.today()) + \".csv\"\n",
    "\n",
    "# print(filename)\n",
    "# user_tweet_retriever(filename, username)"
   ]
  },
  {
   "cell_type": "code",
   "execution_count": 21,
   "id": "b9fcddf2",
   "metadata": {},
   "outputs": [
    {
     "data": {
      "text/plain": [
       "['Adindathomass 2022-10-19.csv',\n",
       " 'aliifnrhmn 2022-10-19.csv',\n",
       " 'dummydunkey 2022-10-19.csv',\n",
       " 'KatakBotak2 2022-10-19.csv',\n",
       " 'muhhamadgogo 2022-10-19.csv',\n",
       " 'rndraadty 2022-10-19.csv',\n",
       " 'rochmanstn 2022-10-19.csv',\n",
       " 'sleepywll 2022-10-19.csv']"
      ]
     },
     "execution_count": 21,
     "metadata": {},
     "output_type": "execute_result"
    }
   ],
   "source": [
    "import os\n",
    "user_list = os.listdir(\"user\")\n",
    "user_list"
   ]
  },
  {
   "cell_type": "code",
   "execution_count": 22,
   "id": "b317a825",
   "metadata": {},
   "outputs": [
    {
     "data": {
      "text/html": [
       "<div>\n",
       "<style scoped>\n",
       "    .dataframe tbody tr th:only-of-type {\n",
       "        vertical-align: middle;\n",
       "    }\n",
       "\n",
       "    .dataframe tbody tr th {\n",
       "        vertical-align: top;\n",
       "    }\n",
       "\n",
       "    .dataframe thead th {\n",
       "        text-align: right;\n",
       "    }\n",
       "</style>\n",
       "<table border=\"1\" class=\"dataframe\">\n",
       "  <thead>\n",
       "    <tr style=\"text-align: right;\">\n",
       "      <th></th>\n",
       "      <th>created_at</th>\n",
       "      <th>cleaned_tweet</th>\n",
       "    </tr>\n",
       "  </thead>\n",
       "  <tbody>\n",
       "    <tr>\n",
       "      <th>0</th>\n",
       "      <td>2022-10-19 11:21:46+00:00</td>\n",
       "      <td>why why why</td>\n",
       "    </tr>\n",
       "    <tr>\n",
       "      <th>1</th>\n",
       "      <td>2022-10-11 14:48:51+00:00</td>\n",
       "      <td>butuh pendengar yang baik</td>\n",
       "    </tr>\n",
       "    <tr>\n",
       "      <th>2</th>\n",
       "      <td>2022-10-09 05:45:13+00:00</td>\n",
       "      <td>terobos aja lah bismillah</td>\n",
       "    </tr>\n",
       "    <tr>\n",
       "      <th>3</th>\n",
       "      <td>2022-10-07 07:39:56+00:00</td>\n",
       "      <td>kumpulin niatnya vio</td>\n",
       "    </tr>\n",
       "    <tr>\n",
       "      <th>4</th>\n",
       "      <td>2022-10-06 07:00:36+00:00</td>\n",
       "      <td>gimana ya ya gimana lagi</td>\n",
       "    </tr>\n",
       "    <tr>\n",
       "      <th>...</th>\n",
       "      <td>...</td>\n",
       "      <td>...</td>\n",
       "    </tr>\n",
       "    <tr>\n",
       "      <th>175</th>\n",
       "      <td>2014-09-09 10:14:38+00:00</td>\n",
       "      <td>follow buat kamu kamu yang udah punya pacar ha...</td>\n",
       "    </tr>\n",
       "    <tr>\n",
       "      <th>176</th>\n",
       "      <td>2014-08-30 15:41:03+00:00</td>\n",
       "      <td>follow buat pasangan2 lo cocok dikasih surepri...</td>\n",
       "    </tr>\n",
       "    <tr>\n",
       "      <th>177</th>\n",
       "      <td>2014-08-26 16:30:49+00:00</td>\n",
       "      <td>fun karikatur mulai dari hrga 100 500rb setiap...</td>\n",
       "    </tr>\n",
       "    <tr>\n",
       "      <th>178</th>\n",
       "      <td>2014-08-23 13:27:41+00:00</td>\n",
       "      <td>click for your money pocket</td>\n",
       "    </tr>\n",
       "    <tr>\n",
       "      <th>179</th>\n",
       "      <td>2014-08-23 09:48:35+00:00</td>\n",
       "      <td>open jasa karikatur art mulai dari hrga 100k 5...</td>\n",
       "    </tr>\n",
       "  </tbody>\n",
       "</table>\n",
       "<p>180 rows × 2 columns</p>\n",
       "</div>"
      ],
      "text/plain": [
       "                    created_at  \\\n",
       "0    2022-10-19 11:21:46+00:00   \n",
       "1    2022-10-11 14:48:51+00:00   \n",
       "2    2022-10-09 05:45:13+00:00   \n",
       "3    2022-10-07 07:39:56+00:00   \n",
       "4    2022-10-06 07:00:36+00:00   \n",
       "..                         ...   \n",
       "175  2014-09-09 10:14:38+00:00   \n",
       "176  2014-08-30 15:41:03+00:00   \n",
       "177  2014-08-26 16:30:49+00:00   \n",
       "178  2014-08-23 13:27:41+00:00   \n",
       "179  2014-08-23 09:48:35+00:00   \n",
       "\n",
       "                                         cleaned_tweet  \n",
       "0                                          why why why  \n",
       "1                            butuh pendengar yang baik  \n",
       "2                            terobos aja lah bismillah  \n",
       "3                                 kumpulin niatnya vio  \n",
       "4                             gimana ya ya gimana lagi  \n",
       "..                                                 ...  \n",
       "175  follow buat kamu kamu yang udah punya pacar ha...  \n",
       "176  follow buat pasangan2 lo cocok dikasih surepri...  \n",
       "177  fun karikatur mulai dari hrga 100 500rb setiap...  \n",
       "178                        click for your money pocket  \n",
       "179  open jasa karikatur art mulai dari hrga 100k 5...  \n",
       "\n",
       "[180 rows x 2 columns]"
      ]
     },
     "execution_count": 22,
     "metadata": {},
     "output_type": "execute_result"
    }
   ],
   "source": [
    "df_user = pd.read_csv(\"user/\" + user_list[6])\n",
    "df_user"
   ]
  },
  {
   "cell_type": "code",
   "execution_count": null,
   "id": "31cf0c3b",
   "metadata": {},
   "outputs": [],
   "source": [
    "# df_user['cleaned_tweet'] = df_user['tweet'].apply(lambda x: clean_tweet(x))\n",
    "# df_user['cleaned_tweet'] = df_user['cleaned_tweet'].apply(lambda x: clean_spaces(x))\n",
    "# df_user"
   ]
  },
  {
   "cell_type": "code",
   "execution_count": null,
   "id": "62b993dc",
   "metadata": {},
   "outputs": [],
   "source": [
    "# df_user.head()"
   ]
  },
  {
   "cell_type": "code",
   "execution_count": null,
   "id": "c85f0b6e",
   "metadata": {},
   "outputs": [],
   "source": [
    "# for i in range(len(df_user)):\n",
    "#     if df_user['cleaned_tweet'][i] == '':\n",
    "#         df_user = df_user.drop(i, axis=0)"
   ]
  },
  {
   "cell_type": "code",
   "execution_count": null,
   "id": "42989949",
   "metadata": {},
   "outputs": [],
   "source": [
    "# len(df_user)\n",
    "# df_user.head()"
   ]
  },
  {
   "cell_type": "code",
   "execution_count": null,
   "id": "a898ec54",
   "metadata": {},
   "outputs": [],
   "source": [
    "# header = [\"created_at\", \"cleaned_tweet\"]\n",
    "# df_user.to_csv(filename, index=False, columns=header)"
   ]
  },
  {
   "cell_type": "code",
   "execution_count": 23,
   "id": "972775d0",
   "metadata": {
    "scrolled": true
   },
   "outputs": [
    {
     "name": "stdout",
     "output_type": "stream",
     "text": [
      "  (0, 1320)\t1\n",
      "  (0, 2634)\t1\n",
      "  (0, 11626)\t1\n",
      "  (0, 16444)\t1\n"
     ]
    }
   ],
   "source": [
    "userTarget = vectorizerTempat.transform(df_user[\"cleaned_tweet\"])\n",
    "print(userTarget[1])"
   ]
  },
  {
   "cell_type": "code",
   "execution_count": 24,
   "id": "39cf2207",
   "metadata": {},
   "outputs": [
    {
     "name": "stdout",
     "output_type": "stream",
     "text": [
      "(180, 16578)\n",
      "  (0, 16444)\t0.34537356911356903\n",
      "  (0, 11626)\t0.593675299623183\n",
      "  (0, 2634)\t0.5499515352720405\n",
      "  (0, 1320)\t0.47520526641337246\n"
     ]
    }
   ],
   "source": [
    "tfidf = TfidfTransformer()\n",
    "user = tfidfTempat.fit_transform(userTarget)\n",
    "print(user.shape)\n",
    "print(user[1])"
   ]
  },
  {
   "cell_type": "code",
   "execution_count": 25,
   "id": "65da4b69",
   "metadata": {},
   "outputs": [
    {
     "ename": "NameError",
     "evalue": "name 'NaiveBayesTempat' is not defined",
     "output_type": "error",
     "traceback": [
      "\u001b[1;31m---------------------------------------------------------------------------\u001b[0m",
      "\u001b[1;31mNameError\u001b[0m                                 Traceback (most recent call last)",
      "Input \u001b[1;32mIn [25]\u001b[0m, in \u001b[0;36m<cell line: 1>\u001b[1;34m()\u001b[0m\n\u001b[1;32m----> 1\u001b[0m probability \u001b[38;5;241m=\u001b[39m \u001b[43mNaiveBayesTempat\u001b[49m\u001b[38;5;241m.\u001b[39mpredict_proba(user)\n\u001b[0;32m      2\u001b[0m \u001b[38;5;28mprint\u001b[39m(probability)\n",
      "\u001b[1;31mNameError\u001b[0m: name 'NaiveBayesTempat' is not defined"
     ]
    }
   ],
   "source": [
    "probability = NaiveBayesTempat.predict_proba(user)\n",
    "print(probability)"
   ]
  },
  {
   "cell_type": "code",
   "execution_count": 135,
   "id": "c1302cee",
   "metadata": {
    "scrolled": true
   },
   "outputs": [
    {
     "name": "stdout",
     "output_type": "stream",
     "text": [
      "username: rochmanstn\n",
      "Probability of air terjun category: 12.97%\n",
      "Probability of gunung category    : 60.69%\n",
      "Probability of pantai category    : 26.33%\n"
     ]
    }
   ],
   "source": [
    "category0 = []\n",
    "category1 = []\n",
    "category2 = []\n",
    "for i in range(len(probability)):\n",
    "    category0.append(probability[i][0])\n",
    "    category1.append(probability[i][1])\n",
    "    category2.append(probability[i][2])\n",
    "\n",
    "def average(list):\n",
    "    return sum(list)/len(list)\n",
    "\n",
    "print(\"username:\", \"rochmanstn\")\n",
    "print(\"Probability of air terjun category: \" + str(round(average(category0)*100, 2)) + \"%\")\n",
    "print(\"Probability of gunung category    : \" + str(round(average(category1)*100, 2)) + \"%\")\n",
    "print(\"Probability of pantai category    : \" + str(round(average(category2)*100, 2)) + \"%\")"
   ]
  },
  {
   "cell_type": "markdown",
   "id": "e4530f7e",
   "metadata": {},
   "source": [
    "----------------------------------------------------------------------------------"
   ]
  },
  {
   "cell_type": "code",
   "execution_count": 136,
   "id": "194322f8",
   "metadata": {
    "scrolled": false
   },
   "outputs": [
    {
     "name": "stdout",
     "output_type": "stream",
     "text": [
      "  (0, 1375)\t1\n",
      "  (0, 2756)\t1\n",
      "  (0, 17425)\t1\n"
     ]
    }
   ],
   "source": [
    "userTarget = vectorizerKegiatan.transform(df_user[\"cleaned_tweet\"])\n",
    "print(userTarget[1])"
   ]
  },
  {
   "cell_type": "code",
   "execution_count": 137,
   "id": "6326eb14",
   "metadata": {},
   "outputs": [
    {
     "name": "stdout",
     "output_type": "stream",
     "text": [
      "(180, 17577)\n",
      "  (0, 17425)\t0.4291929365762027\n",
      "  (0, 2756)\t0.6834203179004206\n",
      "  (0, 1375)\t0.5905337350854597\n"
     ]
    }
   ],
   "source": [
    "tfidf = TfidfTransformer()\n",
    "user = tfidfKegiatan.fit_transform(userTarget)\n",
    "print(user.shape)\n",
    "print(user[1])"
   ]
  },
  {
   "cell_type": "code",
   "execution_count": 138,
   "id": "35af3330",
   "metadata": {},
   "outputs": [
    {
     "name": "stdout",
     "output_type": "stream",
     "text": [
      "[[0.33491715 0.21292067 0.45216218]\n",
      " [0.21714709 0.33186941 0.4509835 ]\n",
      " [0.14698112 0.20472335 0.64829553]\n",
      " [0.22708861 0.26820343 0.50470796]\n",
      " [0.13021508 0.16666921 0.70311571]\n",
      " [0.24574303 0.30804954 0.44620743]\n",
      " [0.26816661 0.21560328 0.51623011]\n",
      " [0.24574303 0.30804954 0.44620743]\n",
      " [0.28341342 0.28430415 0.43228243]\n",
      " [0.12532008 0.42131001 0.45336991]\n",
      " [0.16483144 0.16310965 0.6720589 ]\n",
      " [0.20171203 0.25122111 0.54706686]\n",
      " [0.16889647 0.38212671 0.44897682]\n",
      " [0.25719034 0.40179222 0.34101744]\n",
      " [0.16273762 0.32945807 0.50780431]\n",
      " [0.20166793 0.43498766 0.36334441]\n",
      " [0.0579085  0.26739831 0.67469319]\n",
      " [0.38311465 0.27835496 0.33853039]\n",
      " [0.13030451 0.29360895 0.57608653]\n",
      " [0.16264731 0.17319554 0.66415715]\n",
      " [0.23239356 0.30725202 0.46035442]\n",
      " [0.27922005 0.09227509 0.62850486]\n",
      " [0.12385073 0.24168922 0.63446006]\n",
      " [0.19980093 0.18510543 0.61509364]\n",
      " [0.19989866 0.17546208 0.62463926]\n",
      " [0.24574303 0.30804954 0.44620743]\n",
      " [0.26359229 0.31826304 0.41814467]\n",
      " [0.36788926 0.20514408 0.42696666]\n",
      " [0.32775825 0.37294015 0.2993016 ]\n",
      " [0.20283703 0.12863071 0.66853226]\n",
      " [0.21014146 0.17062183 0.6192367 ]\n",
      " [0.59663726 0.18715042 0.21621232]\n",
      " [0.15255048 0.17509791 0.67235161]\n",
      " [0.07460807 0.20529051 0.72010142]\n",
      " [0.09505144 0.2888708  0.61607776]\n",
      " [0.16402301 0.06670294 0.76927405]\n",
      " [0.08781548 0.1474857  0.76469881]\n",
      " [0.3663001  0.15467015 0.47902974]\n",
      " [0.13514925 0.17440502 0.69044572]\n",
      " [0.3859848  0.30970167 0.30431353]\n",
      " [0.3928468  0.14472556 0.46242765]\n",
      " [0.23043753 0.16074604 0.60881643]\n",
      " [0.30498837 0.37239345 0.32261818]\n",
      " [0.1920879  0.17622083 0.63169127]\n",
      " [0.16031775 0.28881461 0.55086765]\n",
      " [0.21757448 0.23904903 0.54337649]\n",
      " [0.26494965 0.29016251 0.44488784]\n",
      " [0.24585246 0.21646545 0.53768209]\n",
      " [0.17394571 0.15263063 0.67342366]\n",
      " [0.16002849 0.19453469 0.64543681]\n",
      " [0.1130372  0.17986378 0.70709903]\n",
      " [0.3014919  0.30966301 0.38884508]\n",
      " [0.21788807 0.30476287 0.47734906]\n",
      " [0.29371819 0.36267577 0.34360604]\n",
      " [0.12934702 0.24553831 0.62511466]\n",
      " [0.24574303 0.30804954 0.44620743]\n",
      " [0.21102378 0.29892247 0.49005375]\n",
      " [0.46421617 0.24046342 0.29532042]\n",
      " [0.26151317 0.26821449 0.47027233]\n",
      " [0.12161332 0.16229834 0.71608834]\n",
      " [0.16879404 0.29641624 0.53478972]\n",
      " [0.25480265 0.10971957 0.63547778]\n",
      " [0.30376497 0.26981317 0.42642186]\n",
      " [0.20209222 0.35201862 0.44588916]\n",
      " [0.36746179 0.31490923 0.31762898]\n",
      " [0.31326089 0.24113435 0.44560476]\n",
      " [0.11212608 0.52775454 0.36011938]\n",
      " [0.24693687 0.24175942 0.51130371]\n",
      " [0.32978511 0.28995952 0.38025537]\n",
      " [0.27776142 0.30790424 0.41433434]\n",
      " [0.32259015 0.2281313  0.44927856]\n",
      " [0.26388535 0.1899082  0.54620644]\n",
      " [0.19286472 0.28216501 0.52497027]\n",
      " [0.12904934 0.21571585 0.65523481]\n",
      " [0.13387752 0.32650789 0.53961459]\n",
      " [0.20327335 0.48846912 0.30825754]\n",
      " [0.13462948 0.10972355 0.75564696]\n",
      " [0.13547536 0.33402918 0.53049547]\n",
      " [0.27759965 0.38352899 0.33887136]\n",
      " [0.24314331 0.37313166 0.38372502]\n",
      " [0.15972745 0.21648721 0.62378534]\n",
      " [0.24032085 0.44248829 0.31719087]\n",
      " [0.3321618  0.22396868 0.44386952]\n",
      " [0.24574303 0.30804954 0.44620743]\n",
      " [0.23515833 0.29182047 0.4730212 ]\n",
      " [0.4395212  0.29039501 0.27008379]\n",
      " [0.11493244 0.40963589 0.47543167]\n",
      " [0.34924751 0.41460827 0.23614422]\n",
      " [0.30927854 0.31113856 0.3795829 ]\n",
      " [0.15244151 0.33176045 0.51579803]\n",
      " [0.24241208 0.230203   0.52738492]\n",
      " [0.13703159 0.61052613 0.25244228]\n",
      " [0.2275044  0.25881191 0.51368369]\n",
      " [0.22715769 0.1218256  0.6510167 ]\n",
      " [0.20344456 0.16666195 0.62989349]\n",
      " [0.12310556 0.31614467 0.56074977]\n",
      " [0.24574303 0.30804954 0.44620743]\n",
      " [0.32552976 0.32413886 0.35033138]\n",
      " [0.20376892 0.30622923 0.49000185]\n",
      " [0.22636903 0.27744101 0.49618995]\n",
      " [0.27664118 0.17320829 0.55015053]\n",
      " [0.24574303 0.30804954 0.44620743]\n",
      " [0.19367432 0.18616025 0.62016543]\n",
      " [0.24574303 0.30804954 0.44620743]\n",
      " [0.15367368 0.53698123 0.30934509]\n",
      " [0.14316097 0.33226858 0.52457045]\n",
      " [0.20755633 0.42368876 0.3687549 ]\n",
      " [0.17088257 0.29336914 0.53574829]\n",
      " [0.26250663 0.08309986 0.65439351]\n",
      " [0.14847094 0.23772521 0.61380385]\n",
      " [0.26700126 0.16070972 0.57228902]\n",
      " [0.22345055 0.28705243 0.48949702]\n",
      " [0.08818737 0.08646745 0.82534518]\n",
      " [0.11325642 0.32505844 0.56168515]\n",
      " [0.16666477 0.20587805 0.62745718]\n",
      " [0.14299017 0.32144912 0.53556071]\n",
      " [0.12872756 0.47964285 0.39162959]\n",
      " [0.09527819 0.40593549 0.49878632]\n",
      " [0.19514244 0.25577621 0.54908134]\n",
      " [0.14498878 0.31149439 0.54351683]\n",
      " [0.22891149 0.27277284 0.49831566]\n",
      " [0.10267501 0.30721232 0.59011267]\n",
      " [0.18831235 0.21963089 0.59205676]\n",
      " [0.0922871  0.22329478 0.68441812]\n",
      " [0.10632666 0.43976275 0.45391059]\n",
      " [0.11051326 0.41882558 0.47066116]\n",
      " [0.07615296 0.37327928 0.55056776]\n",
      " [0.11000651 0.32694782 0.56304566]\n",
      " [0.23353878 0.36184861 0.40461261]\n",
      " [0.14552416 0.17068026 0.68379558]\n",
      " [0.14592085 0.21332527 0.64075388]\n",
      " [0.1254041  0.29456613 0.58002977]\n",
      " [0.0990476  0.47112268 0.42982973]\n",
      " [0.11288031 0.30319133 0.58392836]\n",
      " [0.24574303 0.30804954 0.44620743]\n",
      " [0.1576474  0.32094081 0.52141179]\n",
      " [0.07611218 0.14122172 0.78266611]\n",
      " [0.15020642 0.19642479 0.65336879]\n",
      " [0.13518503 0.09582891 0.76898606]\n",
      " [0.08241308 0.15074235 0.76684457]\n",
      " [0.27732234 0.33840818 0.38426948]\n",
      " [0.10333726 0.17642163 0.72024111]\n",
      " [0.14268032 0.28311517 0.57420451]\n",
      " [0.09983206 0.29390978 0.60625817]\n",
      " [0.34096849 0.11848124 0.54055027]\n",
      " [0.1325345  0.24825425 0.61921126]\n",
      " [0.28957768 0.10353504 0.60688728]\n",
      " [0.19343771 0.47134194 0.33522035]\n",
      " [0.2283451  0.27556907 0.49608583]\n",
      " [0.12552498 0.39611133 0.47836369]\n",
      " [0.3500267  0.22815162 0.42182169]\n",
      " [0.15347417 0.23266301 0.61386282]\n",
      " [0.34291177 0.34303766 0.31405057]\n",
      " [0.34291177 0.34303766 0.31405057]\n",
      " [0.07866834 0.33770964 0.58362202]\n",
      " [0.34291177 0.34303766 0.31405057]\n",
      " [0.34291177 0.34303766 0.31405057]\n",
      " [0.34291177 0.34303766 0.31405057]\n",
      " [0.25463832 0.17934669 0.56601498]\n",
      " [0.34291177 0.34303766 0.31405057]\n",
      " [0.11583427 0.1869766  0.69718913]\n",
      " [0.32774892 0.29164466 0.38060642]\n",
      " [0.17534708 0.47354435 0.35110857]\n",
      " [0.34572141 0.25722288 0.39705571]\n",
      " [0.40910936 0.14087365 0.45001699]\n",
      " [0.14725474 0.2311022  0.62164305]\n",
      " [0.14610366 0.2244355  0.62946084]\n",
      " [0.23688094 0.33112724 0.43199182]\n",
      " [0.22913695 0.4303298  0.34053325]\n",
      " [0.1556723  0.40584323 0.43848447]\n",
      " [0.21593779 0.16201847 0.62204374]\n",
      " [0.23951635 0.31964809 0.44083556]\n",
      " [0.26145369 0.27804873 0.46049758]\n",
      " [0.24574303 0.30804954 0.44620743]\n",
      " [0.24574303 0.30804954 0.44620743]\n",
      " [0.2139905  0.17954943 0.60646007]\n",
      " [0.18132256 0.20930373 0.60937371]\n",
      " [0.15170155 0.41032595 0.4379725 ]\n",
      " [0.41331628 0.21178663 0.37489709]\n",
      " [0.07600463 0.37486974 0.54912563]]\n"
     ]
    }
   ],
   "source": [
    "probability = NaiveBayesKegiatan.predict_proba(user)\n",
    "print(probability)"
   ]
  },
  {
   "cell_type": "code",
   "execution_count": null,
   "id": "f26d01b3",
   "metadata": {},
   "outputs": [],
   "source": []
  },
  {
   "cell_type": "code",
   "execution_count": 140,
   "id": "4923d43d",
   "metadata": {
    "scrolled": true
   },
   "outputs": [
    {
     "name": "stdout",
     "output_type": "stream",
     "text": [
      "username: rochmanstn\n",
      "Probability of kemah category  : 21.44%\n",
      "Probability of kuliner category: 27.6%\n",
      "Probability of renang category : 50.97%\n"
     ]
    }
   ],
   "source": [
    "category0 = []\n",
    "category1 = []\n",
    "category2 = []\n",
    "for i in range(len(probability)):\n",
    "    category0.append(probability[i][0])\n",
    "    category1.append(probability[i][1])\n",
    "    category2.append(probability[i][2])\n",
    "\n",
    "def average(list):\n",
    "    return sum(list)/len(list)\n",
    "\n",
    "print(\"username:\", \"rochmanstn\")\n",
    "print(\"Probability of kemah category  : \" + str(round(average(category0)*100, 2)) + \"%\")\n",
    "print(\"Probability of kuliner category: \" + str(round(average(category1)*100, 2)) + \"%\")\n",
    "print(\"Probability of renang category : \" + str(round(average(category2)*100, 2)) + \"%\")"
   ]
  },
  {
   "cell_type": "code",
   "execution_count": null,
   "id": "562f7f8c",
   "metadata": {},
   "outputs": [],
   "source": []
  }
 ],
 "metadata": {
  "kernelspec": {
   "display_name": "Python 3 (ipykernel)",
   "language": "python",
   "name": "python3"
  },
  "language_info": {
   "codemirror_mode": {
    "name": "ipython",
    "version": 3
   },
   "file_extension": ".py",
   "mimetype": "text/x-python",
   "name": "python",
   "nbconvert_exporter": "python",
   "pygments_lexer": "ipython3",
   "version": "3.9.6"
  }
 },
 "nbformat": 4,
 "nbformat_minor": 5
}
