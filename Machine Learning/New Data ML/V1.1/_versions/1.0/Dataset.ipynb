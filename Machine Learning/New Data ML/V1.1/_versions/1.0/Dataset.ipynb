{
 "cells": [
  {
   "cell_type": "code",
   "execution_count": 1,
   "id": "a63284e9",
   "metadata": {},
   "outputs": [],
   "source": [
    "import pandas as pd\n",
    "import os"
   ]
  },
  {
   "cell_type": "code",
   "execution_count": 2,
   "id": "dc2f360f",
   "metadata": {},
   "outputs": [],
   "source": [
    "# root = os.getcwd()\n",
    "\n",
    "# def directory_lister(directory):\n",
    "#     path_directory = os.path.join(root, directory)\n",
    "#     file_directory = os.listdir(path_directory)\n",
    "    \n",
    "#     return file_directory\n",
    "\n",
    "# def category_df(category):\n",
    "#     df_all = []\n",
    "    \n",
    "#     for file in directory_lister(category):\n",
    "#         df_all.append(pd.read_csv(os.path.join(os.path.join(root, category), file)))\n",
    "#         df = pd.concat(df_all, ignore_index=True)\n",
    "        \n",
    "#     return df"
   ]
  },
  {
   "cell_type": "code",
   "execution_count": 2,
   "id": "58308ac0",
   "metadata": {},
   "outputs": [
    {
     "name": "stdout",
     "output_type": "stream",
     "text": [
      "unique dataset length before: 25711\n",
      "unique dataset length after new data addition: 28711\n",
      "unique dataset length after duplicate removed: 27052\n"
     ]
    }
   ],
   "source": [
    "gunung = pd.read_csv(\"gunung/Gunung 2022-11-01.csv\")\n",
    "pantai = pd.read_csv(\"pantai/Pantai 2022-11-01.csv\")\n",
    "kuliner = pd.read_csv(\"kuliner/Kuliner 2022-11-01.csv\")\n",
    "gunung[\"category\"] = \"gunung\"\n",
    "pantai[\"category\"] = \"pantai\"\n",
    "kuliner[\"category\"] = \"kuliner\"\n",
    "\n",
    "unique = pd.read_csv(\"_dataset/dataset_unique 2022-10-31.csv\")\n",
    "\n",
    "df_temp = pd.concat([unique, gunung, pantai, kuliner], ignore_index=True)\n",
    "print(\"unique dataset length before:\", len(unique))\n",
    "print(\"unique dataset length after new data addition:\", len(df_temp))\n",
    "\n",
    "df_all = df_temp.drop_duplicates(subset=['cleaned_tweet'])\n",
    "print(\"unique dataset length after duplicate removed:\", len(df_all))"
   ]
  },
  {
   "cell_type": "code",
   "execution_count": 5,
   "id": "e111dd31",
   "metadata": {},
   "outputs": [
    {
     "data": {
      "text/html": [
       "<div>\n",
       "<style scoped>\n",
       "    .dataframe tbody tr th:only-of-type {\n",
       "        vertical-align: middle;\n",
       "    }\n",
       "\n",
       "    .dataframe tbody tr th {\n",
       "        vertical-align: top;\n",
       "    }\n",
       "\n",
       "    .dataframe thead th {\n",
       "        text-align: right;\n",
       "    }\n",
       "</style>\n",
       "<table border=\"1\" class=\"dataframe\">\n",
       "  <thead>\n",
       "    <tr style=\"text-align: right;\">\n",
       "      <th></th>\n",
       "      <th>created_at</th>\n",
       "      <th>author</th>\n",
       "      <th>cleaned_tweet</th>\n",
       "      <th>category</th>\n",
       "    </tr>\n",
       "  </thead>\n",
       "  <tbody>\n",
       "    <tr>\n",
       "      <th>25113</th>\n",
       "      <td>2022-10-29 05:00:01+00:00</td>\n",
       "      <td>TechinAsia_ID</td>\n",
       "      <td>wahyoo memanfaatkan 27 000 jaringan mitra wart...</td>\n",
       "      <td>kuliner</td>\n",
       "    </tr>\n",
       "    <tr>\n",
       "      <th>25114</th>\n",
       "      <td>2022-10-29 04:59:09+00:00</td>\n",
       "      <td>Onehem1</td>\n",
       "      <td>wah jalan jalan kuliner ci gbu</td>\n",
       "      <td>kuliner</td>\n",
       "    </tr>\n",
       "    <tr>\n",
       "      <th>25118</th>\n",
       "      <td>2022-10-29 04:57:00+00:00</td>\n",
       "      <td>kompasiana</td>\n",
       "      <td>bagi enterpreneur yang hendak dan sedang menja...</td>\n",
       "      <td>kuliner</td>\n",
       "    </tr>\n",
       "    <tr>\n",
       "      <th>25120</th>\n",
       "      <td>2022-10-29 04:56:07+00:00</td>\n",
       "      <td>TemanUno_binjai</td>\n",
       "      <td>event indonesia modest fashion week ini juga m...</td>\n",
       "      <td>kuliner</td>\n",
       "    </tr>\n",
       "    <tr>\n",
       "      <th>25123</th>\n",
       "      <td>2022-10-29 04:54:21+00:00</td>\n",
       "      <td>slothpxl</td>\n",
       "      <td>wih mantep selamat menikmati event selamat wis...</td>\n",
       "      <td>kuliner</td>\n",
       "    </tr>\n",
       "  </tbody>\n",
       "</table>\n",
       "</div>"
      ],
      "text/plain": [
       "                      created_at           author  \\\n",
       "25113  2022-10-29 05:00:01+00:00    TechinAsia_ID   \n",
       "25114  2022-10-29 04:59:09+00:00          Onehem1   \n",
       "25118  2022-10-29 04:57:00+00:00       kompasiana   \n",
       "25120  2022-10-29 04:56:07+00:00  TemanUno_binjai   \n",
       "25123  2022-10-29 04:54:21+00:00         slothpxl   \n",
       "\n",
       "                                           cleaned_tweet category  \n",
       "25113  wahyoo memanfaatkan 27 000 jaringan mitra wart...  kuliner  \n",
       "25114                     wah jalan jalan kuliner ci gbu  kuliner  \n",
       "25118  bagi enterpreneur yang hendak dan sedang menja...  kuliner  \n",
       "25120  event indonesia modest fashion week ini juga m...  kuliner  \n",
       "25123  wih mantep selamat menikmati event selamat wis...  kuliner  "
      ]
     },
     "execution_count": 5,
     "metadata": {},
     "output_type": "execute_result"
    }
   ],
   "source": [
    "df_all.tail()"
   ]
  },
  {
   "cell_type": "code",
   "execution_count": 6,
   "id": "75bdc524",
   "metadata": {},
   "outputs": [
    {
     "data": {
      "text/plain": [
       "pantai     8394\n",
       "gunung     8382\n",
       "kuliner    6727\n",
       "Name: category, dtype: int64"
      ]
     },
     "execution_count": 6,
     "metadata": {},
     "output_type": "execute_result"
    }
   ],
   "source": [
    "df_all['category'].value_counts()"
   ]
  },
  {
   "cell_type": "code",
   "execution_count": 4,
   "id": "9eaad355",
   "metadata": {},
   "outputs": [],
   "source": [
    "df_all.to_csv(\"_dataset/dataset_unique 2022-11-01.csv\", index=False)"
   ]
  },
  {
   "cell_type": "code",
   "execution_count": null,
   "id": "c0704e8c",
   "metadata": {},
   "outputs": [],
   "source": []
  }
 ],
 "metadata": {
  "kernelspec": {
   "display_name": "Python 3 (ipykernel)",
   "language": "python",
   "name": "python3"
  },
  "language_info": {
   "codemirror_mode": {
    "name": "ipython",
    "version": 3
   },
   "file_extension": ".py",
   "mimetype": "text/x-python",
   "name": "python",
   "nbconvert_exporter": "python",
   "pygments_lexer": "ipython3",
   "version": "3.9.6"
  }
 },
 "nbformat": 4,
 "nbformat_minor": 5
}
