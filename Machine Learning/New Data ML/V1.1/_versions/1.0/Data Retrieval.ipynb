{
 "cells": [
  {
   "cell_type": "markdown",
   "id": "d0f5f543",
   "metadata": {},
   "source": [
    "# Crawling and Preprocessing"
   ]
  },
  {
   "cell_type": "code",
   "execution_count": 2,
   "id": "cd6c312d",
   "metadata": {},
   "outputs": [],
   "source": [
    "import import_ipynb\n",
    "from TweetRetrieval import *\n",
    "from datetime import date"
   ]
  },
  {
   "cell_type": "markdown",
   "id": "bbeb2b65",
   "metadata": {},
   "source": [
    "## Gunung"
   ]
  },
  {
   "cell_type": "code",
   "execution_count": 3,
   "id": "0f553fed",
   "metadata": {},
   "outputs": [],
   "source": [
    "path = 'gunung/'\n",
    "filename = path + \"Gunung \" + str(date.today()) + \".csv\"\n",
    "category_tweet_retriever(filename, \"Gunung\")"
   ]
  },
  {
   "cell_type": "code",
   "execution_count": 4,
   "id": "8f4c0ed8",
   "metadata": {},
   "outputs": [
    {
     "name": "stdout",
     "output_type": "stream",
     "text": [
      "(1000, 3)\n"
     ]
    }
   ],
   "source": [
    "df_gunung = pd.read_csv(filename, encoding='unicode_escape')\n",
    "print(df_gunung.shape)"
   ]
  },
  {
   "cell_type": "code",
   "execution_count": 5,
   "id": "5a6eca7e",
   "metadata": {},
   "outputs": [
    {
     "data": {
      "text/html": [
       "<div>\n",
       "<style scoped>\n",
       "    .dataframe tbody tr th:only-of-type {\n",
       "        vertical-align: middle;\n",
       "    }\n",
       "\n",
       "    .dataframe tbody tr th {\n",
       "        vertical-align: top;\n",
       "    }\n",
       "\n",
       "    .dataframe thead th {\n",
       "        text-align: right;\n",
       "    }\n",
       "</style>\n",
       "<table border=\"1\" class=\"dataframe\">\n",
       "  <thead>\n",
       "    <tr style=\"text-align: right;\">\n",
       "      <th></th>\n",
       "      <th>created_at</th>\n",
       "      <th>author</th>\n",
       "      <th>text</th>\n",
       "    </tr>\n",
       "  </thead>\n",
       "  <tbody>\n",
       "    <tr>\n",
       "      <th>0</th>\n",
       "      <td>2022-11-01 16:15:49+00:00</td>\n",
       "      <td>BenWibu</td>\n",
       "      <td>RT @Gerbang666: Gunung \\r\\n\\r\\nMinat Dm BARTER...</td>\n",
       "    </tr>\n",
       "    <tr>\n",
       "      <th>1</th>\n",
       "      <td>2022-11-01 16:15:46+00:00</td>\n",
       "      <td>RoihanRikza</td>\n",
       "      <td>RT @tempodotco: Gunung Kerinci Erupsi Lagi, Ja...</td>\n",
       "    </tr>\n",
       "    <tr>\n",
       "      <th>2</th>\n",
       "      <td>2022-11-01 16:15:35+00:00</td>\n",
       "      <td>211Crew_</td>\n",
       "      <td>@Boerhansome1 @PRSJWIN @Stanleyboyscre3 Ke gun...</td>\n",
       "    </tr>\n",
       "    <tr>\n",
       "      <th>3</th>\n",
       "      <td>2022-11-01 16:14:33+00:00</td>\n",
       "      <td>tempodotco</td>\n",
       "      <td>Gunung Kerinci Erupsi Lagi, Jalur Penerbangan ...</td>\n",
       "    </tr>\n",
       "    <tr>\n",
       "      <th>4</th>\n",
       "      <td>2022-11-01 16:13:24+00:00</td>\n",
       "      <td>gabsdiamm</td>\n",
       "      <td>@FerraKharisma kerja bagus ferrað¤© dungaren ...</td>\n",
       "    </tr>\n",
       "  </tbody>\n",
       "</table>\n",
       "</div>"
      ],
      "text/plain": [
       "                  created_at       author  \\\n",
       "0  2022-11-01 16:15:49+00:00      BenWibu   \n",
       "1  2022-11-01 16:15:46+00:00  RoihanRikza   \n",
       "2  2022-11-01 16:15:35+00:00     211Crew_   \n",
       "3  2022-11-01 16:14:33+00:00   tempodotco   \n",
       "4  2022-11-01 16:13:24+00:00    gabsdiamm   \n",
       "\n",
       "                                                text  \n",
       "0  RT @Gerbang666: Gunung \\r\\n\\r\\nMinat Dm BARTER...  \n",
       "1  RT @tempodotco: Gunung Kerinci Erupsi Lagi, Ja...  \n",
       "2  @Boerhansome1 @PRSJWIN @Stanleyboyscre3 Ke gun...  \n",
       "3  Gunung Kerinci Erupsi Lagi, Jalur Penerbangan ...  \n",
       "4  @FerraKharisma kerja bagus ferrað¤© dungaren ...  "
      ]
     },
     "execution_count": 5,
     "metadata": {},
     "output_type": "execute_result"
    }
   ],
   "source": [
    "df_gunung.head()"
   ]
  },
  {
   "cell_type": "code",
   "execution_count": 6,
   "id": "04697c50",
   "metadata": {},
   "outputs": [
    {
     "data": {
      "text/html": [
       "<div>\n",
       "<style scoped>\n",
       "    .dataframe tbody tr th:only-of-type {\n",
       "        vertical-align: middle;\n",
       "    }\n",
       "\n",
       "    .dataframe tbody tr th {\n",
       "        vertical-align: top;\n",
       "    }\n",
       "\n",
       "    .dataframe thead th {\n",
       "        text-align: right;\n",
       "    }\n",
       "</style>\n",
       "<table border=\"1\" class=\"dataframe\">\n",
       "  <thead>\n",
       "    <tr style=\"text-align: right;\">\n",
       "      <th></th>\n",
       "      <th>created_at</th>\n",
       "      <th>author</th>\n",
       "      <th>text</th>\n",
       "      <th>cleaned_tweet</th>\n",
       "    </tr>\n",
       "  </thead>\n",
       "  <tbody>\n",
       "    <tr>\n",
       "      <th>0</th>\n",
       "      <td>2022-11-01 16:15:49+00:00</td>\n",
       "      <td>BenWibu</td>\n",
       "      <td>RT @Gerbang666: Gunung \\r\\n\\r\\nMinat Dm BARTER...</td>\n",
       "      <td>gunung minat dm barter foto amp video doii</td>\n",
       "    </tr>\n",
       "    <tr>\n",
       "      <th>1</th>\n",
       "      <td>2022-11-01 16:15:46+00:00</td>\n",
       "      <td>RoihanRikza</td>\n",
       "      <td>RT @tempodotco: Gunung Kerinci Erupsi Lagi, Ja...</td>\n",
       "      <td>gunung kerinci erupsi lagi jalur penerbangan d...</td>\n",
       "    </tr>\n",
       "    <tr>\n",
       "      <th>2</th>\n",
       "      <td>2022-11-01 16:15:35+00:00</td>\n",
       "      <td>211Crew_</td>\n",
       "      <td>@Boerhansome1 @PRSJWIN @Stanleyboyscre3 Ke gun...</td>\n",
       "      <td>ke gunung antang aja bang kalo cari susu enak ...</td>\n",
       "    </tr>\n",
       "    <tr>\n",
       "      <th>3</th>\n",
       "      <td>2022-11-01 16:14:33+00:00</td>\n",
       "      <td>tempodotco</td>\n",
       "      <td>Gunung Kerinci Erupsi Lagi, Jalur Penerbangan ...</td>\n",
       "      <td>gunung kerinci erupsi lagi jalur penerbangan d...</td>\n",
       "    </tr>\n",
       "    <tr>\n",
       "      <th>4</th>\n",
       "      <td>2022-11-01 16:13:24+00:00</td>\n",
       "      <td>gabsdiamm</td>\n",
       "      <td>@FerraKharisma kerja bagus ferrað¤© dungaren ...</td>\n",
       "      <td>kerja bagus ferra dungaren rodok jernih wis ky...</td>\n",
       "    </tr>\n",
       "  </tbody>\n",
       "</table>\n",
       "</div>"
      ],
      "text/plain": [
       "                  created_at       author  \\\n",
       "0  2022-11-01 16:15:49+00:00      BenWibu   \n",
       "1  2022-11-01 16:15:46+00:00  RoihanRikza   \n",
       "2  2022-11-01 16:15:35+00:00     211Crew_   \n",
       "3  2022-11-01 16:14:33+00:00   tempodotco   \n",
       "4  2022-11-01 16:13:24+00:00    gabsdiamm   \n",
       "\n",
       "                                                text  \\\n",
       "0  RT @Gerbang666: Gunung \\r\\n\\r\\nMinat Dm BARTER...   \n",
       "1  RT @tempodotco: Gunung Kerinci Erupsi Lagi, Ja...   \n",
       "2  @Boerhansome1 @PRSJWIN @Stanleyboyscre3 Ke gun...   \n",
       "3  Gunung Kerinci Erupsi Lagi, Jalur Penerbangan ...   \n",
       "4  @FerraKharisma kerja bagus ferrað¤© dungaren ...   \n",
       "\n",
       "                                       cleaned_tweet  \n",
       "0         gunung minat dm barter foto amp video doii  \n",
       "1  gunung kerinci erupsi lagi jalur penerbangan d...  \n",
       "2  ke gunung antang aja bang kalo cari susu enak ...  \n",
       "3  gunung kerinci erupsi lagi jalur penerbangan d...  \n",
       "4  kerja bagus ferra dungaren rodok jernih wis ky...  "
      ]
     },
     "execution_count": 6,
     "metadata": {},
     "output_type": "execute_result"
    }
   ],
   "source": [
    "df_gunung['cleaned_tweet'] = df_gunung['text'].apply(lambda x: clean_tweet(x))\n",
    "df_gunung['cleaned_tweet'] = df_gunung['cleaned_tweet'].apply(lambda x: clean_spaces(x))\n",
    "df_gunung.head()"
   ]
  },
  {
   "cell_type": "code",
   "execution_count": 7,
   "id": "df08199a",
   "metadata": {},
   "outputs": [],
   "source": [
    "header = [\"created_at\", \"author\", \"cleaned_tweet\"]\n",
    "df_gunung.to_csv(filename, index=False, columns=header)"
   ]
  },
  {
   "cell_type": "code",
   "execution_count": 8,
   "id": "9d6e58e9",
   "metadata": {},
   "outputs": [
    {
     "data": {
      "text/html": [
       "<div>\n",
       "<style scoped>\n",
       "    .dataframe tbody tr th:only-of-type {\n",
       "        vertical-align: middle;\n",
       "    }\n",
       "\n",
       "    .dataframe tbody tr th {\n",
       "        vertical-align: top;\n",
       "    }\n",
       "\n",
       "    .dataframe thead th {\n",
       "        text-align: right;\n",
       "    }\n",
       "</style>\n",
       "<table border=\"1\" class=\"dataframe\">\n",
       "  <thead>\n",
       "    <tr style=\"text-align: right;\">\n",
       "      <th></th>\n",
       "      <th>created_at</th>\n",
       "      <th>author</th>\n",
       "      <th>text</th>\n",
       "      <th>cleaned_tweet</th>\n",
       "    </tr>\n",
       "  </thead>\n",
       "  <tbody>\n",
       "    <tr>\n",
       "      <th>995</th>\n",
       "      <td>2022-11-01 09:29:50+00:00</td>\n",
       "      <td>Heriwib69104193</td>\n",
       "      <td>@ganjarpranowo Pangapunten bpk Ganjar kenapa d...</td>\n",
       "      <td>pangapunten bpk ganjar kenapa didaerah saya ba...</td>\n",
       "    </tr>\n",
       "    <tr>\n",
       "      <th>996</th>\n",
       "      <td>2022-11-01 09:29:42+00:00</td>\n",
       "      <td>chitanamonac</td>\n",
       "      <td>Ajak chimon!! Mau lu ajak keliling thailand di...</td>\n",
       "      <td>ajak chimon mau lu ajak keliling thailand dia ...</td>\n",
       "    </tr>\n",
       "    <tr>\n",
       "      <th>997</th>\n",
       "      <td>2022-11-01 09:29:41+00:00</td>\n",
       "      <td>PA_GunungSugih</td>\n",
       "      <td>Kembali :  Hakim Mediator PA Gunung Sugih Kela...</td>\n",
       "      <td>kembali hakim mediator pa gunung sugih kelas 1...</td>\n",
       "    </tr>\n",
       "    <tr>\n",
       "      <th>998</th>\n",
       "      <td>2022-11-01 09:29:33+00:00</td>\n",
       "      <td>_PangeranSenja_</td>\n",
       "      <td>Kamu itu kayak suasana pantai dan gunung, yang...</td>\n",
       "      <td>kamu itu kayak suasana pantai dan gunung yang ...</td>\n",
       "    </tr>\n",
       "    <tr>\n",
       "      <th>999</th>\n",
       "      <td>2022-11-01 09:29:21+00:00</td>\n",
       "      <td>R_min80</td>\n",
       "      <td>Hanya di era presiden @jokowi putra putri Indo...</td>\n",
       "      <td>hanya di era presiden putra putri indonesia ma...</td>\n",
       "    </tr>\n",
       "  </tbody>\n",
       "</table>\n",
       "</div>"
      ],
      "text/plain": [
       "                    created_at           author  \\\n",
       "995  2022-11-01 09:29:50+00:00  Heriwib69104193   \n",
       "996  2022-11-01 09:29:42+00:00     chitanamonac   \n",
       "997  2022-11-01 09:29:41+00:00   PA_GunungSugih   \n",
       "998  2022-11-01 09:29:33+00:00  _PangeranSenja_   \n",
       "999  2022-11-01 09:29:21+00:00          R_min80   \n",
       "\n",
       "                                                  text  \\\n",
       "995  @ganjarpranowo Pangapunten bpk Ganjar kenapa d...   \n",
       "996  Ajak chimon!! Mau lu ajak keliling thailand di...   \n",
       "997  Kembali :  Hakim Mediator PA Gunung Sugih Kela...   \n",
       "998  Kamu itu kayak suasana pantai dan gunung, yang...   \n",
       "999  Hanya di era presiden @jokowi putra putri Indo...   \n",
       "\n",
       "                                         cleaned_tweet  \n",
       "995  pangapunten bpk ganjar kenapa didaerah saya ba...  \n",
       "996  ajak chimon mau lu ajak keliling thailand dia ...  \n",
       "997  kembali hakim mediator pa gunung sugih kelas 1...  \n",
       "998  kamu itu kayak suasana pantai dan gunung yang ...  \n",
       "999  hanya di era presiden putra putri indonesia ma...  "
      ]
     },
     "execution_count": 8,
     "metadata": {},
     "output_type": "execute_result"
    }
   ],
   "source": [
    "df_gunung.tail()"
   ]
  },
  {
   "cell_type": "markdown",
   "id": "549a3a65",
   "metadata": {},
   "source": [
    "## Pantai"
   ]
  },
  {
   "cell_type": "code",
   "execution_count": 9,
   "id": "503b0a02",
   "metadata": {
    "scrolled": true
   },
   "outputs": [],
   "source": [
    "path = 'pantai/'\n",
    "filename = path + \"Pantai \" + str(date.today()) + \".csv\"\n",
    "category_tweet_retriever(filename, \"Pantai\")"
   ]
  },
  {
   "cell_type": "code",
   "execution_count": 10,
   "id": "4253e210",
   "metadata": {},
   "outputs": [
    {
     "data": {
      "text/plain": [
       "(1000, 3)"
      ]
     },
     "execution_count": 10,
     "metadata": {},
     "output_type": "execute_result"
    }
   ],
   "source": [
    "df_pantai = pd.read_csv(filename, encoding='unicode_escape')\n",
    "df_pantai.shape"
   ]
  },
  {
   "cell_type": "code",
   "execution_count": 11,
   "id": "7ac29308",
   "metadata": {},
   "outputs": [
    {
     "data": {
      "text/html": [
       "<div>\n",
       "<style scoped>\n",
       "    .dataframe tbody tr th:only-of-type {\n",
       "        vertical-align: middle;\n",
       "    }\n",
       "\n",
       "    .dataframe tbody tr th {\n",
       "        vertical-align: top;\n",
       "    }\n",
       "\n",
       "    .dataframe thead th {\n",
       "        text-align: right;\n",
       "    }\n",
       "</style>\n",
       "<table border=\"1\" class=\"dataframe\">\n",
       "  <thead>\n",
       "    <tr style=\"text-align: right;\">\n",
       "      <th></th>\n",
       "      <th>created_at</th>\n",
       "      <th>author</th>\n",
       "      <th>text</th>\n",
       "    </tr>\n",
       "  </thead>\n",
       "  <tbody>\n",
       "    <tr>\n",
       "      <th>0</th>\n",
       "      <td>2022-11-01 16:18:25+00:00</td>\n",
       "      <td>sulewinto</td>\n",
       "      <td>RT @NarasiNewsroom: Filep Karma yang dikenal s...</td>\n",
       "    </tr>\n",
       "    <tr>\n",
       "      <th>1</th>\n",
       "      <td>2022-11-01 16:17:04+00:00</td>\n",
       "      <td>lakilakiyobi</td>\n",
       "      <td>RT @amnestyindo: [Siaran Pers] Hari ini Filep ...</td>\n",
       "    </tr>\n",
       "    <tr>\n",
       "      <th>2</th>\n",
       "      <td>2022-11-01 16:17:03+00:00</td>\n",
       "      <td>dwikisahkan</td>\n",
       "      <td>RT @jayapuraupdate: Telah Ditemukan Jenazah Al...</td>\n",
       "    </tr>\n",
       "    <tr>\n",
       "      <th>3</th>\n",
       "      <td>2022-11-01 16:17:02+00:00</td>\n",
       "      <td>monstequei</td>\n",
       "      <td>RT @jayapuraupdate: Telah Ditemukan Jenazah Al...</td>\n",
       "    </tr>\n",
       "    <tr>\n",
       "      <th>4</th>\n",
       "      <td>2022-11-01 16:16:44+00:00</td>\n",
       "      <td>KagoyaSilas</td>\n",
       "      <td>@jayapuraupdate Di Pantai Base-G sering terjad...</td>\n",
       "    </tr>\n",
       "  </tbody>\n",
       "</table>\n",
       "</div>"
      ],
      "text/plain": [
       "                  created_at        author  \\\n",
       "0  2022-11-01 16:18:25+00:00     sulewinto   \n",
       "1  2022-11-01 16:17:04+00:00  lakilakiyobi   \n",
       "2  2022-11-01 16:17:03+00:00   dwikisahkan   \n",
       "3  2022-11-01 16:17:02+00:00    monstequei   \n",
       "4  2022-11-01 16:16:44+00:00   KagoyaSilas   \n",
       "\n",
       "                                                text  \n",
       "0  RT @NarasiNewsroom: Filep Karma yang dikenal s...  \n",
       "1  RT @amnestyindo: [Siaran Pers] Hari ini Filep ...  \n",
       "2  RT @jayapuraupdate: Telah Ditemukan Jenazah Al...  \n",
       "3  RT @jayapuraupdate: Telah Ditemukan Jenazah Al...  \n",
       "4  @jayapuraupdate Di Pantai Base-G sering terjad...  "
      ]
     },
     "execution_count": 11,
     "metadata": {},
     "output_type": "execute_result"
    }
   ],
   "source": [
    "df_pantai.head()"
   ]
  },
  {
   "cell_type": "code",
   "execution_count": 12,
   "id": "1152d561",
   "metadata": {},
   "outputs": [
    {
     "data": {
      "text/html": [
       "<div>\n",
       "<style scoped>\n",
       "    .dataframe tbody tr th:only-of-type {\n",
       "        vertical-align: middle;\n",
       "    }\n",
       "\n",
       "    .dataframe tbody tr th {\n",
       "        vertical-align: top;\n",
       "    }\n",
       "\n",
       "    .dataframe thead th {\n",
       "        text-align: right;\n",
       "    }\n",
       "</style>\n",
       "<table border=\"1\" class=\"dataframe\">\n",
       "  <thead>\n",
       "    <tr style=\"text-align: right;\">\n",
       "      <th></th>\n",
       "      <th>created_at</th>\n",
       "      <th>author</th>\n",
       "      <th>text</th>\n",
       "      <th>cleaned_tweet</th>\n",
       "    </tr>\n",
       "  </thead>\n",
       "  <tbody>\n",
       "    <tr>\n",
       "      <th>0</th>\n",
       "      <td>2022-11-01 16:18:25+00:00</td>\n",
       "      <td>sulewinto</td>\n",
       "      <td>RT @NarasiNewsroom: Filep Karma yang dikenal s...</td>\n",
       "      <td>filep karma yang dikenal sebagai aktivis kemer...</td>\n",
       "    </tr>\n",
       "    <tr>\n",
       "      <th>1</th>\n",
       "      <td>2022-11-01 16:17:04+00:00</td>\n",
       "      <td>lakilakiyobi</td>\n",
       "      <td>RT @amnestyindo: [Siaran Pers] Hari ini Filep ...</td>\n",
       "      <td>hari ini filep karma seorang tokoh pembela ham...</td>\n",
       "    </tr>\n",
       "    <tr>\n",
       "      <th>2</th>\n",
       "      <td>2022-11-01 16:17:03+00:00</td>\n",
       "      <td>dwikisahkan</td>\n",
       "      <td>RT @jayapuraupdate: Telah Ditemukan Jenazah Al...</td>\n",
       "      <td>telah ditemukan jenazah almarhum tokoh papua m...</td>\n",
       "    </tr>\n",
       "    <tr>\n",
       "      <th>3</th>\n",
       "      <td>2022-11-01 16:17:02+00:00</td>\n",
       "      <td>monstequei</td>\n",
       "      <td>RT @jayapuraupdate: Telah Ditemukan Jenazah Al...</td>\n",
       "      <td>telah ditemukan jenazah almarhum tokoh papua m...</td>\n",
       "    </tr>\n",
       "    <tr>\n",
       "      <th>4</th>\n",
       "      <td>2022-11-01 16:16:44+00:00</td>\n",
       "      <td>KagoyaSilas</td>\n",
       "      <td>@jayapuraupdate Di Pantai Base-G sering terjad...</td>\n",
       "      <td>di pantai base g sering terjadi orang tenggela...</td>\n",
       "    </tr>\n",
       "  </tbody>\n",
       "</table>\n",
       "</div>"
      ],
      "text/plain": [
       "                  created_at        author  \\\n",
       "0  2022-11-01 16:18:25+00:00     sulewinto   \n",
       "1  2022-11-01 16:17:04+00:00  lakilakiyobi   \n",
       "2  2022-11-01 16:17:03+00:00   dwikisahkan   \n",
       "3  2022-11-01 16:17:02+00:00    monstequei   \n",
       "4  2022-11-01 16:16:44+00:00   KagoyaSilas   \n",
       "\n",
       "                                                text  \\\n",
       "0  RT @NarasiNewsroom: Filep Karma yang dikenal s...   \n",
       "1  RT @amnestyindo: [Siaran Pers] Hari ini Filep ...   \n",
       "2  RT @jayapuraupdate: Telah Ditemukan Jenazah Al...   \n",
       "3  RT @jayapuraupdate: Telah Ditemukan Jenazah Al...   \n",
       "4  @jayapuraupdate Di Pantai Base-G sering terjad...   \n",
       "\n",
       "                                       cleaned_tweet  \n",
       "0  filep karma yang dikenal sebagai aktivis kemer...  \n",
       "1  hari ini filep karma seorang tokoh pembela ham...  \n",
       "2  telah ditemukan jenazah almarhum tokoh papua m...  \n",
       "3  telah ditemukan jenazah almarhum tokoh papua m...  \n",
       "4  di pantai base g sering terjadi orang tenggela...  "
      ]
     },
     "execution_count": 12,
     "metadata": {},
     "output_type": "execute_result"
    }
   ],
   "source": [
    "df_pantai['cleaned_tweet'] = df_pantai['text'].apply(lambda x: clean_tweet(x))\n",
    "df_pantai['cleaned_tweet'] = df_pantai['cleaned_tweet'].apply(lambda x: clean_spaces(x))\n",
    "df_pantai.head()"
   ]
  },
  {
   "cell_type": "code",
   "execution_count": 13,
   "id": "3e63393c",
   "metadata": {},
   "outputs": [],
   "source": [
    "header = [\"created_at\", \"author\", \"cleaned_tweet\"]\n",
    "df_pantai.to_csv(filename, index=False, columns=header)"
   ]
  },
  {
   "cell_type": "markdown",
   "id": "9dc18ddb",
   "metadata": {},
   "source": [
    "## Kuliner"
   ]
  },
  {
   "cell_type": "code",
   "execution_count": 14,
   "id": "5b963f92",
   "metadata": {},
   "outputs": [],
   "source": [
    "path = 'kuliner/'\n",
    "filename = path + \"Kuliner \" + str(date.today()) + \".csv\"\n",
    "category_tweet_retriever(filename, \"Kuliner\")"
   ]
  },
  {
   "cell_type": "code",
   "execution_count": 15,
   "id": "ba8821a0",
   "metadata": {},
   "outputs": [
    {
     "data": {
      "text/plain": [
       "(1000, 3)"
      ]
     },
     "execution_count": 15,
     "metadata": {},
     "output_type": "execute_result"
    }
   ],
   "source": [
    "df_kuliner = pd.read_csv(filename, encoding='unicode_escape')\n",
    "df_kuliner.shape"
   ]
  },
  {
   "cell_type": "code",
   "execution_count": 16,
   "id": "9a43e8fd",
   "metadata": {},
   "outputs": [
    {
     "data": {
      "text/html": [
       "<div>\n",
       "<style scoped>\n",
       "    .dataframe tbody tr th:only-of-type {\n",
       "        vertical-align: middle;\n",
       "    }\n",
       "\n",
       "    .dataframe tbody tr th {\n",
       "        vertical-align: top;\n",
       "    }\n",
       "\n",
       "    .dataframe thead th {\n",
       "        text-align: right;\n",
       "    }\n",
       "</style>\n",
       "<table border=\"1\" class=\"dataframe\">\n",
       "  <thead>\n",
       "    <tr style=\"text-align: right;\">\n",
       "      <th></th>\n",
       "      <th>created_at</th>\n",
       "      <th>author</th>\n",
       "      <th>text</th>\n",
       "    </tr>\n",
       "  </thead>\n",
       "  <tbody>\n",
       "    <tr>\n",
       "      <th>0</th>\n",
       "      <td>2022-11-01 16:47:24+00:00</td>\n",
       "      <td>afalmafaaa</td>\n",
       "      <td>Ga sabar bgtt pgn nyobain kuliner pwt yg udh w...</td>\n",
       "    </tr>\n",
       "    <tr>\n",
       "      <th>1</th>\n",
       "      <td>2022-11-01 16:46:47+00:00</td>\n",
       "      <td>xxxjsta</td>\n",
       "      <td>RT @hugkwonli: @7DREAMVT_INA wisata kuliner ba...</td>\n",
       "    </tr>\n",
       "    <tr>\n",
       "      <th>2</th>\n",
       "      <td>2022-11-01 16:42:05+00:00</td>\n",
       "      <td>OJKMT_L</td>\n",
       "      <td>RT @hugkwonli: @7DREAMVT_INA wisata kuliner ba...</td>\n",
       "    </tr>\n",
       "    <tr>\n",
       "      <th>3</th>\n",
       "      <td>2022-11-01 16:40:28+00:00</td>\n",
       "      <td>hugkwonli</td>\n",
       "      <td>@7DREAMVT_INA wisata kuliner bareng haechan\\r\\...</td>\n",
       "    </tr>\n",
       "    <tr>\n",
       "      <th>4</th>\n",
       "      <td>2022-11-01 16:40:17+00:00</td>\n",
       "      <td>InvesJamurJabon</td>\n",
       "      <td>Ingin punya Resto Kuliner JOERAGANGroup di Ban...</td>\n",
       "    </tr>\n",
       "  </tbody>\n",
       "</table>\n",
       "</div>"
      ],
      "text/plain": [
       "                  created_at           author  \\\n",
       "0  2022-11-01 16:47:24+00:00       afalmafaaa   \n",
       "1  2022-11-01 16:46:47+00:00          xxxjsta   \n",
       "2  2022-11-01 16:42:05+00:00          OJKMT_L   \n",
       "3  2022-11-01 16:40:28+00:00        hugkwonli   \n",
       "4  2022-11-01 16:40:17+00:00  InvesJamurJabon   \n",
       "\n",
       "                                                text  \n",
       "0  Ga sabar bgtt pgn nyobain kuliner pwt yg udh w...  \n",
       "1  RT @hugkwonli: @7DREAMVT_INA wisata kuliner ba...  \n",
       "2  RT @hugkwonli: @7DREAMVT_INA wisata kuliner ba...  \n",
       "3  @7DREAMVT_INA wisata kuliner bareng haechan\\r\\...  \n",
       "4  Ingin punya Resto Kuliner JOERAGANGroup di Ban...  "
      ]
     },
     "execution_count": 16,
     "metadata": {},
     "output_type": "execute_result"
    }
   ],
   "source": [
    "df_kuliner.head()"
   ]
  },
  {
   "cell_type": "code",
   "execution_count": 17,
   "id": "3ee3f670",
   "metadata": {},
   "outputs": [
    {
     "data": {
      "text/html": [
       "<div>\n",
       "<style scoped>\n",
       "    .dataframe tbody tr th:only-of-type {\n",
       "        vertical-align: middle;\n",
       "    }\n",
       "\n",
       "    .dataframe tbody tr th {\n",
       "        vertical-align: top;\n",
       "    }\n",
       "\n",
       "    .dataframe thead th {\n",
       "        text-align: right;\n",
       "    }\n",
       "</style>\n",
       "<table border=\"1\" class=\"dataframe\">\n",
       "  <thead>\n",
       "    <tr style=\"text-align: right;\">\n",
       "      <th></th>\n",
       "      <th>created_at</th>\n",
       "      <th>author</th>\n",
       "      <th>text</th>\n",
       "      <th>cleaned_tweet</th>\n",
       "    </tr>\n",
       "  </thead>\n",
       "  <tbody>\n",
       "    <tr>\n",
       "      <th>0</th>\n",
       "      <td>2022-11-01 16:47:24+00:00</td>\n",
       "      <td>afalmafaaa</td>\n",
       "      <td>Ga sabar bgtt pgn nyobain kuliner pwt yg udh w...</td>\n",
       "      <td>ga sabar bgtt pgn nyobain kuliner pwt yg udh w...</td>\n",
       "    </tr>\n",
       "    <tr>\n",
       "      <th>1</th>\n",
       "      <td>2022-11-01 16:46:47+00:00</td>\n",
       "      <td>xxxjsta</td>\n",
       "      <td>RT @hugkwonli: @7DREAMVT_INA wisata kuliner ba...</td>\n",
       "      <td>wisata kuliner bareng haechan mamavote nctdream</td>\n",
       "    </tr>\n",
       "    <tr>\n",
       "      <th>2</th>\n",
       "      <td>2022-11-01 16:42:05+00:00</td>\n",
       "      <td>OJKMT_L</td>\n",
       "      <td>RT @hugkwonli: @7DREAMVT_INA wisata kuliner ba...</td>\n",
       "      <td>wisata kuliner bareng haechan mamavote nctdream</td>\n",
       "    </tr>\n",
       "    <tr>\n",
       "      <th>3</th>\n",
       "      <td>2022-11-01 16:40:28+00:00</td>\n",
       "      <td>hugkwonli</td>\n",
       "      <td>@7DREAMVT_INA wisata kuliner bareng haechan\\r\\...</td>\n",
       "      <td>wisata kuliner bareng haechan mamavote nctdream</td>\n",
       "    </tr>\n",
       "    <tr>\n",
       "      <th>4</th>\n",
       "      <td>2022-11-01 16:40:17+00:00</td>\n",
       "      <td>InvesJamurJabon</td>\n",
       "      <td>Ingin punya Resto Kuliner JOERAGANGroup di Ban...</td>\n",
       "      <td>ingin punya resto kuliner joeragangroup di ban...</td>\n",
       "    </tr>\n",
       "  </tbody>\n",
       "</table>\n",
       "</div>"
      ],
      "text/plain": [
       "                  created_at           author  \\\n",
       "0  2022-11-01 16:47:24+00:00       afalmafaaa   \n",
       "1  2022-11-01 16:46:47+00:00          xxxjsta   \n",
       "2  2022-11-01 16:42:05+00:00          OJKMT_L   \n",
       "3  2022-11-01 16:40:28+00:00        hugkwonli   \n",
       "4  2022-11-01 16:40:17+00:00  InvesJamurJabon   \n",
       "\n",
       "                                                text  \\\n",
       "0  Ga sabar bgtt pgn nyobain kuliner pwt yg udh w...   \n",
       "1  RT @hugkwonli: @7DREAMVT_INA wisata kuliner ba...   \n",
       "2  RT @hugkwonli: @7DREAMVT_INA wisata kuliner ba...   \n",
       "3  @7DREAMVT_INA wisata kuliner bareng haechan\\r\\...   \n",
       "4  Ingin punya Resto Kuliner JOERAGANGroup di Ban...   \n",
       "\n",
       "                                       cleaned_tweet  \n",
       "0  ga sabar bgtt pgn nyobain kuliner pwt yg udh w...  \n",
       "1    wisata kuliner bareng haechan mamavote nctdream  \n",
       "2    wisata kuliner bareng haechan mamavote nctdream  \n",
       "3    wisata kuliner bareng haechan mamavote nctdream  \n",
       "4  ingin punya resto kuliner joeragangroup di ban...  "
      ]
     },
     "execution_count": 17,
     "metadata": {},
     "output_type": "execute_result"
    }
   ],
   "source": [
    "df_kuliner['cleaned_tweet'] = df_kuliner['text'].apply(lambda x: clean_tweet(x))\n",
    "df_kuliner['cleaned_tweet'] = df_kuliner['cleaned_tweet'].apply(lambda x: clean_spaces(x))\n",
    "df_kuliner.head()"
   ]
  },
  {
   "cell_type": "code",
   "execution_count": 18,
   "id": "f7f26ccf",
   "metadata": {},
   "outputs": [],
   "source": [
    "header = [\"created_at\", \"author\", \"cleaned_tweet\"]\n",
    "df_kuliner.to_csv(filename, index=False, columns=header)"
   ]
  },
  {
   "cell_type": "code",
   "execution_count": 19,
   "id": "6f75ac89",
   "metadata": {},
   "outputs": [
    {
     "data": {
      "text/html": [
       "<div>\n",
       "<style scoped>\n",
       "    .dataframe tbody tr th:only-of-type {\n",
       "        vertical-align: middle;\n",
       "    }\n",
       "\n",
       "    .dataframe tbody tr th {\n",
       "        vertical-align: top;\n",
       "    }\n",
       "\n",
       "    .dataframe thead th {\n",
       "        text-align: right;\n",
       "    }\n",
       "</style>\n",
       "<table border=\"1\" class=\"dataframe\">\n",
       "  <thead>\n",
       "    <tr style=\"text-align: right;\">\n",
       "      <th></th>\n",
       "      <th>created_at</th>\n",
       "      <th>author</th>\n",
       "      <th>text</th>\n",
       "      <th>cleaned_tweet</th>\n",
       "    </tr>\n",
       "  </thead>\n",
       "  <tbody>\n",
       "    <tr>\n",
       "      <th>995</th>\n",
       "      <td>2022-11-01 01:59:19+00:00</td>\n",
       "      <td>grteame</td>\n",
       "      <td>Pengen renang, pengen nonton, pengen kuliner, ...</td>\n",
       "      <td>pengen renang pengen nonton pengen kuliner pen...</td>\n",
       "    </tr>\n",
       "    <tr>\n",
       "      <th>996</th>\n",
       "      <td>2022-11-01 01:59:10+00:00</td>\n",
       "      <td>djaycoholyc</td>\n",
       "      <td>Bikin acara kuliner siang berjudul: Kuyang.\\r\\...</td>\n",
       "      <td>bikin acara kuliner siang berjudul kuyang kuli...</td>\n",
       "    </tr>\n",
       "    <tr>\n",
       "      <th>997</th>\n",
       "      <td>2022-11-01 01:58:53+00:00</td>\n",
       "      <td>DERITAD007</td>\n",
       "      <td>RT @bank_indonesia: #SobatRupiah, bagaimana re...</td>\n",
       "      <td>sobatrupiah bagaimana reaksi delegasi g20 keti...</td>\n",
       "    </tr>\n",
       "    <tr>\n",
       "      <th>998</th>\n",
       "      <td>2022-11-01 01:58:29+00:00</td>\n",
       "      <td>DilaRiesta</td>\n",
       "      <td>RT @undipmenfess: -dips! tolong tambahin info ...</td>\n",
       "      <td>dips tolong tambahin info kuliner semarang yg ...</td>\n",
       "    </tr>\n",
       "    <tr>\n",
       "      <th>999</th>\n",
       "      <td>2022-11-01 01:51:18+00:00</td>\n",
       "      <td>TemanUno15</td>\n",
       "      <td>Dia mengimbau pelaku kuliner dapat mengeksplor...</td>\n",
       "      <td>dia mengimbau pelaku kuliner dapat mengeksplor...</td>\n",
       "    </tr>\n",
       "  </tbody>\n",
       "</table>\n",
       "</div>"
      ],
      "text/plain": [
       "                    created_at       author  \\\n",
       "995  2022-11-01 01:59:19+00:00      grteame   \n",
       "996  2022-11-01 01:59:10+00:00  djaycoholyc   \n",
       "997  2022-11-01 01:58:53+00:00   DERITAD007   \n",
       "998  2022-11-01 01:58:29+00:00   DilaRiesta   \n",
       "999  2022-11-01 01:51:18+00:00   TemanUno15   \n",
       "\n",
       "                                                  text  \\\n",
       "995  Pengen renang, pengen nonton, pengen kuliner, ...   \n",
       "996  Bikin acara kuliner siang berjudul: Kuyang.\\r\\...   \n",
       "997  RT @bank_indonesia: #SobatRupiah, bagaimana re...   \n",
       "998  RT @undipmenfess: -dips! tolong tambahin info ...   \n",
       "999  Dia mengimbau pelaku kuliner dapat mengeksplor...   \n",
       "\n",
       "                                         cleaned_tweet  \n",
       "995  pengen renang pengen nonton pengen kuliner pen...  \n",
       "996  bikin acara kuliner siang berjudul kuyang kuli...  \n",
       "997  sobatrupiah bagaimana reaksi delegasi g20 keti...  \n",
       "998  dips tolong tambahin info kuliner semarang yg ...  \n",
       "999  dia mengimbau pelaku kuliner dapat mengeksplor...  "
      ]
     },
     "execution_count": 19,
     "metadata": {},
     "output_type": "execute_result"
    }
   ],
   "source": [
    "df_kuliner.tail()"
   ]
  },
  {
   "cell_type": "code",
   "execution_count": 20,
   "id": "7b1406c3",
   "metadata": {},
   "outputs": [
    {
     "data": {
      "text/plain": [
       "(1000, 3)"
      ]
     },
     "execution_count": 20,
     "metadata": {},
     "output_type": "execute_result"
    }
   ],
   "source": [
    "df = pd.read_csv(\"kuliner/Kuliner 2022-10-28.csv\", encoding='unicode_escape')\n",
    "df.shape"
   ]
  },
  {
   "cell_type": "code",
   "execution_count": null,
   "id": "83eb096b",
   "metadata": {},
   "outputs": [],
   "source": []
  }
 ],
 "metadata": {
  "kernelspec": {
   "display_name": "Python 3 (ipykernel)",
   "language": "python",
   "name": "python3"
  },
  "language_info": {
   "codemirror_mode": {
    "name": "ipython",
    "version": 3
   },
   "file_extension": ".py",
   "mimetype": "text/x-python",
   "name": "python",
   "nbconvert_exporter": "python",
   "pygments_lexer": "ipython3",
   "version": "3.9.6"
  }
 },
 "nbformat": 4,
 "nbformat_minor": 5
}
