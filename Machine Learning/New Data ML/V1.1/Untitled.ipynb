{
 "cells": [
  {
   "cell_type": "code",
   "execution_count": 1,
   "id": "8d2d09a8",
   "metadata": {},
   "outputs": [],
   "source": [
    "import pandas as pd\n",
    "\n",
    "df_tempat = pd.read_csv(\"_dataset/dataset tempat 2022-11-20.csv\")\n",
    "df_kegiatan = pd.read_csv(\"_dataset/dataset kegiatan 2022-11-20.csv\")"
   ]
  },
  {
   "cell_type": "code",
   "execution_count": 3,
   "id": "54200226",
   "metadata": {},
   "outputs": [
    {
     "data": {
      "text/plain": [
       "gunung        4000\n",
       "pantai        3908\n",
       "air terjun    2160\n",
       "Name: category, dtype: int64"
      ]
     },
     "execution_count": 3,
     "metadata": {},
     "output_type": "execute_result"
    }
   ],
   "source": [
    "df_tempat['category'].value_counts()"
   ]
  },
  {
   "cell_type": "code",
   "execution_count": 4,
   "id": "7283d73f",
   "metadata": {},
   "outputs": [
    {
     "data": {
      "text/plain": [
       "kuliner    4000\n",
       "renang     4000\n",
       "kemah      4000\n",
       "Name: category, dtype: int64"
      ]
     },
     "execution_count": 4,
     "metadata": {},
     "output_type": "execute_result"
    }
   ],
   "source": [
    "df_kegiatan['category'].value_counts()"
   ]
  },
  {
   "cell_type": "code",
   "execution_count": 9,
   "id": "1cf609f9",
   "metadata": {},
   "outputs": [],
   "source": [
    "df_pantai = pd.read_csv(\"tempat/pantai/Pantai 2022-11-21a.csv\")\n",
    "df_airterjun = pd.read_csv(\"tempat/airterjun/Air Terjun 2022-11-21a.csv\")\n",
    "df_pantai['category'] = 'pantai'\n",
    "df_airterjun['category'] = 'air terjun'"
   ]
  },
  {
   "cell_type": "code",
   "execution_count": 10,
   "id": "4316a117",
   "metadata": {},
   "outputs": [],
   "source": [
    "df_tempat = pd.concat([df_tempat, df_pantai, df_airterjun], ignore_index=True)"
   ]
  },
  {
   "cell_type": "code",
   "execution_count": 7,
   "id": "f1f87026",
   "metadata": {},
   "outputs": [
    {
     "data": {
      "text/html": [
       "<div>\n",
       "<style scoped>\n",
       "    .dataframe tbody tr th:only-of-type {\n",
       "        vertical-align: middle;\n",
       "    }\n",
       "\n",
       "    .dataframe tbody tr th {\n",
       "        vertical-align: top;\n",
       "    }\n",
       "\n",
       "    .dataframe thead th {\n",
       "        text-align: right;\n",
       "    }\n",
       "</style>\n",
       "<table border=\"1\" class=\"dataframe\">\n",
       "  <thead>\n",
       "    <tr style=\"text-align: right;\">\n",
       "      <th></th>\n",
       "      <th>created_at</th>\n",
       "      <th>author</th>\n",
       "      <th>cleaned_tweet</th>\n",
       "      <th>category</th>\n",
       "    </tr>\n",
       "  </thead>\n",
       "  <tbody>\n",
       "    <tr>\n",
       "      <th>0</th>\n",
       "      <td>2022-11-18 18:40:29+00:00</td>\n",
       "      <td>abcdiloveyouf</td>\n",
       "      <td>nomin college au d dingin mau diangetin saat j...</td>\n",
       "      <td>gunung</td>\n",
       "    </tr>\n",
       "    <tr>\n",
       "      <th>1</th>\n",
       "      <td>2022-11-18 18:40:17+00:00</td>\n",
       "      <td>lutfimove</td>\n",
       "      <td>pemagaran dan gapura tpu astana gunung kp nyal...</td>\n",
       "      <td>gunung</td>\n",
       "    </tr>\n",
       "    <tr>\n",
       "      <th>2</th>\n",
       "      <td>2022-11-18 18:39:48+00:00</td>\n",
       "      <td>imamtoyib1</td>\n",
       "      <td>promo diskon khans sandal gunung pria wanita l...</td>\n",
       "      <td>gunung</td>\n",
       "    </tr>\n",
       "    <tr>\n",
       "      <th>3</th>\n",
       "      <td>2022-11-18 18:38:10+00:00</td>\n",
       "      <td>imjusthumann_</td>\n",
       "      <td>kangen naik gunung</td>\n",
       "      <td>gunung</td>\n",
       "    </tr>\n",
       "    <tr>\n",
       "      <th>4</th>\n",
       "      <td>2022-11-18 18:37:25+00:00</td>\n",
       "      <td>UNSfess_</td>\n",
       "      <td>halo mas mbak karanganyar kota atau sekitar be...</td>\n",
       "      <td>gunung</td>\n",
       "    </tr>\n",
       "  </tbody>\n",
       "</table>\n",
       "</div>"
      ],
      "text/plain": [
       "                  created_at         author  \\\n",
       "0  2022-11-18 18:40:29+00:00  abcdiloveyouf   \n",
       "1  2022-11-18 18:40:17+00:00      lutfimove   \n",
       "2  2022-11-18 18:39:48+00:00     imamtoyib1   \n",
       "3  2022-11-18 18:38:10+00:00  imjusthumann_   \n",
       "4  2022-11-18 18:37:25+00:00       UNSfess_   \n",
       "\n",
       "                                       cleaned_tweet category  \n",
       "0  nomin college au d dingin mau diangetin saat j...   gunung  \n",
       "1  pemagaran dan gapura tpu astana gunung kp nyal...   gunung  \n",
       "2  promo diskon khans sandal gunung pria wanita l...   gunung  \n",
       "3                                 kangen naik gunung   gunung  \n",
       "4  halo mas mbak karanganyar kota atau sekitar be...   gunung  "
      ]
     },
     "execution_count": 7,
     "metadata": {},
     "output_type": "execute_result"
    }
   ],
   "source": [
    "df_tempat.head()"
   ]
  },
  {
   "cell_type": "code",
   "execution_count": 13,
   "id": "d1b1fc2c",
   "metadata": {},
   "outputs": [
    {
     "data": {
      "text/plain": [
       "gunung        4000\n",
       "pantai        4000\n",
       "air terjun    4000\n",
       "Name: category, dtype: int64"
      ]
     },
     "execution_count": 13,
     "metadata": {},
     "output_type": "execute_result"
    }
   ],
   "source": [
    "df_tempat['category'].value_counts()"
   ]
  },
  {
   "cell_type": "code",
   "execution_count": 12,
   "id": "68a9888c",
   "metadata": {},
   "outputs": [],
   "source": [
    "df_tempat.to_csv(\"_dataset/dataset tempat 2022-11-21b.csv\", index=False)"
   ]
  },
  {
   "cell_type": "code",
   "execution_count": null,
   "id": "9bb4b5c3",
   "metadata": {},
   "outputs": [],
   "source": []
  }
 ],
 "metadata": {
  "kernelspec": {
   "display_name": "Python 3 (ipykernel)",
   "language": "python",
   "name": "python3"
  },
  "language_info": {
   "codemirror_mode": {
    "name": "ipython",
    "version": 3
   },
   "file_extension": ".py",
   "mimetype": "text/x-python",
   "name": "python",
   "nbconvert_exporter": "python",
   "pygments_lexer": "ipython3",
   "version": "3.9.6"
  }
 },
 "nbformat": 4,
 "nbformat_minor": 5
}
