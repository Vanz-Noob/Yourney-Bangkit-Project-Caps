{
  "cells": [
    {
      "cell_type": "code",
      "execution_count": 1,
      "metadata": {
        "id": "oS9qg59p5z3o"
      },
      "outputs": [],
      "source": [
        "import tweepy as tw\n",
        "import pandas as pd\n",
        "from datetime import datetime\n",
        "import json\n",
        "import numpy as np\n",
        "import re\n",
        "import tensorflow as tf\n",
        "from tensorflow.keras.preprocessing.sequence import pad_sequences\n",
        "from tensorflow.keras.layers import Embedding, LSTM, Dense, Dropout, Bidirectional\n",
        "from tensorflow.keras.preprocessing.text import Tokenizer\n",
        "from tensorflow.keras.models import Sequential\n",
        "from tensorflow.keras.optimizers import Adam\n",
        "from tensorflow.keras import regularizers\n",
        "import tensorflow.keras.utils as ku\n",
        "import pickle\n",
        "import os"
      ]
    },
    {
      "cell_type": "code",
      "execution_count": 2,
      "metadata": {
        "id": "2zIIi8CG6BPs"
      },
      "outputs": [],
      "source": [
        "# Twitter API key and API secret\n",
        "my_api_key = \"GQ1kke9EehS4KOCMfHqDec2tf\"\n",
        "my_api_secret = \"etiVr68pWASKCbJt6MEAjgKb95MTztzrShejHKEF1pbTZfbGLp\"\n",
        "access_token = '490367249-HnS3VpPZD1wkX6WkVm9QIS6AVR4Bydl3YKsbxu6i'\n",
        "access_token_secret = '5QGkkQoT2aDWrWvjrfLvdw5WnnK3b7aDRStSN487Vl8IL'\n",
        "# authenticate\n",
        "auth = tw.OAuthHandler(my_api_key, my_api_secret)\n",
        "auth.set_access_token(access_token, access_token_secret)\n",
        "api = tw.API(auth, wait_on_rate_limit=True)"
      ]
    },
    {
      "cell_type": "code",
      "execution_count": 3,
      "metadata": {
        "colab": {
          "base_uri": "https://localhost:8080/"
        },
        "id": "UFBBH6m86JI0",
        "outputId": "98a17ffe-ef59-4944-8ee2-77c84ef4aa35"
      },
      "outputs": [
        {
          "name": "stdout",
          "output_type": "stream",
          "text": [
            "2.8.0\n",
            "4.10.0\n"
          ]
        }
      ],
      "source": [
        "print(tf.__version__)\n",
        "print(tw.__version__)"
      ]
    },
    {
      "cell_type": "code",
      "execution_count": 4,
      "metadata": {
        "id": "AyVGfCbi6gWN"
      },
      "outputs": [],
      "source": [
        "# Get User by ID using username of Twitter Account\n",
        "def get_userid(username):\n",
        "    user_data = api.get_user(screen_name=username)\n",
        "    user_id = user_data.id_str\n",
        "    return user_id"
      ]
    },
    {
      "cell_type": "code",
      "execution_count": 5,
      "metadata": {
        "id": "oMuIla2u6v4t"
      },
      "outputs": [],
      "source": [
        "# Clean Tweets\n",
        "def clean_tweet(tweet):\n",
        "    stopwords = [\"for\", \"on\", \"an\", \"a\", \"of\", \"and\", \"in\", \"the\", \"to\", \"from\", \"rt\"]\n",
        "    temp = tweet.lower()\n",
        "    temp = re.sub(\"'\", \"\", temp) # to avoid removing contractions in english\n",
        "    temp = re.sub(\"@[A-Za-z0-9_]+\",\"\", temp)\n",
        "    temp = re.sub(\"#[A-Za-z0-9_]+\",\"\", temp)\n",
        "    temp = re.sub(r'http\\S+', '', temp)\n",
        "    temp = re.sub('[()!?]', ' ', temp)\n",
        "    temp = re.sub('\\[.*?\\]',' ', temp)\n",
        "    temp = re.sub(\"[^a-z0-9]\",\" \", temp)\n",
        "    temp = temp.split()\n",
        "    temp = [w for w in temp if not w in stopwords]\n",
        "    temp = \" \".join(word for word in temp)\n",
        "    return temp"
      ]
    },
    {
      "cell_type": "code",
      "execution_count": 6,
      "metadata": {
        "id": "QaLIGiFz7EUO"
      },
      "outputs": [],
      "source": [
        "from typing import Text\n",
        "# Crawling 1000 tweet data and convert to text\n",
        "def get_tweets(tweeter_id, from_id = None, count = 1000):\n",
        "    #Setup\n",
        "    #l = StdOutListener()\n",
        "    auth = tw.OAuthHandler(my_api_key, my_api_secret)\n",
        "    auth.set_access_token(access_token, access_token_secret)\n",
        "    api = tw.API(auth, wait_on_rate_limit=True)\n",
        "\n",
        "    #Get tweets (status) from Twitter A\n",
        "    if from_id == None:\n",
        "        status = api.user_timeline(user_id = tweeter_id, count=count)\n",
        "    else:\n",
        "        status = api.user_timeline(user_id = tweeter_id, count=count, max_id = from_id)\n",
        "        status.pop(0) #Remove duplicate first tweet, max_id not included.\n",
        "\n",
        "    tweetlist = []\n",
        "    last_id = 0\n",
        "\n",
        "    #print(\"Cleaning tweets from :\", status.user.screen_name, \"id: \", twiter_id)\n",
        "    for items in status:\n",
        "        tweet = {}\n",
        "        # tweet[\"id\"] = items.id\n",
        "        # tweet[\"user_id\"] = tweeter_id\n",
        "        # tweet[\"nickname\"] = items.user.screen_name\n",
        "        # tweet[\"realname\"] = items.user.name\n",
        "        # tweet[\"date\"] = items.created_at\n",
        "        tweet[\"text\"] = items.text\n",
        "\n",
        "        tweetlist.append(tweet)\n",
        "        last_id = items.id\n",
        "    \n",
        "    # clean tweets to text\n",
        "    a_List = []\n",
        "    for x in range(1, len(tweetlist)):\n",
        "        d_tweet = clean_tweet(tweetlist[x]['text'])\n",
        "        if d_tweet not in a_List:\n",
        "            a_List.append(d_tweet)\n",
        "\n",
        "    text = \" \".join(word for word in a_List)\n",
        "    # print(\"Last ID: \", last_id, \"\\n\")\n",
        "    return text"
      ]
    },
    {
      "cell_type": "code",
      "execution_count": 7,
      "metadata": {
        "colab": {
          "base_uri": "https://localhost:8080/"
        },
        "id": "4zL_91mr8LxW",
        "outputId": "4f45b388-01d7-47cb-c6e7-e166286adab4"
      },
      "outputs": [
        {
          "name": "stdout",
          "output_type": "stream",
          "text": [
            "jadilah garam dan terang ya nak bagi orang orang sekitarmu bahagia djiwa bisa pakai dress yang kupakai saat b just posted photo 38 thank you atas kejutan ini love you blessed banyak helikopter lewat ya selamat idul fitri mohon maaf lahir dan bathin ya lebaran pertam djiwa kupukup selamat paskah tahun depan djiwa cari telur sendiri ya kalo sekarang kita siapin dech lebih tepatnya tadi pagi just posted photo hotel legrande suite bali djiwa ini namanya jalan jalan ya bersyukur sekali memiliki kalian berdua serta keluarga yang selalu mendukung s happy one month djiwa sarna menjagamu berarti menjaga ibu kembali terima kasih djiwa sarna djiwa bayi bali lahir di bali dipeluk oleh energi yang baik serta semesta sangat mendukung terima kasih keluarga just posted photo bali saat si cantik mengintip dunia hallo djiwa ketika hadir di dunia sapaan pertama djiwa terasa dari kelembutan hatinya untuk kami berdua keh asst koleksi outfitku atelier link di bio ya saat pem world wonder happy chinese new year 2022 wind chill palmilla bali hai laut perkenalkan ini baby nd bali back my element kelak kamu akan mengerti nak kenapa ibu bapa memilih perjalanan ini hidup harus dihargai dan tuanglah sukacita d baby nd mau lihat yang seger seger supaya inu bapaknya happy haiyahh bisa aje ambarawa baby nd mau lihat yang seger seger biar ibu bapanya bahagia bisa ajee ye ambarawa thankful prayer captured by eternity id selamat natal sukacita beserta kita semua yeayyy ada new member tahun depan masih otw diperut aku dan merry christmas everyone sabar ya nak doa makan dulu baru makan ya hmm mulai posesip cari perhatian ni goyang goyang party si baby nd kala moments happiness come with unexpected sweet surprise sweet friends like you all grateful thankful happiness 7years  ya ampun ku baru tahu mama ternyata potong poni juga pas hamil hahahha dan itu aku waktu beberapa hari lahir lagi ubah suasana baru di sudut rumah eitss momo muncul sekelilingku juga hasil karya yang menurutku keren2 tap badanku menjadi penjaga janin badanmu adalah pelindungku kami terlindungi oleh payung semesta just posted photo rumah kodok kesejukanmu luar biasa saat bumil dan kumil makan teross baru kali ini makan berulang ulang dan tetap ga kenyang ketemu sebelum pada khaburrrr happy sunday main ke luar untuk isi ke dalam cilukba numpung ada yang motoin ma si ijo2 lagi caem ya udah cekrek perlancarkan apa yang kami jalankan ameeeennnnnnnnn its useless report police is trending indonesian twitter due case where father suka main di alam nadine chandrawinata ungkap pentingnya sunscreen nadine chandrawinata ajak perempuan rajin pakai sunscreen nadine chandrawinata bersahabat dengan alam dan matahari nadine chandrawinata yang giat beraktivitas di luar rumah bukan orang yang memusuhi matahari dia ingin mengajak para p enggak takut aktivitas di luar ini tips nadine chandrawinata suka kegiatan di luar nadine chandrawinata ingatkan selalu gunakan tabir surya nadine chandrawinata saya bersahabat dengan alam dan matahari via go easy yourself whatever you do today let it be enough dharmawangsa food good friends daylight picnic day dharmawangsa just posted video love jellyfish seri laut it is truly honor be recognized as gen t 2021 leader tomorrow contribution environment through all our hope is you thank you lord your blessings us dirgahayu calon ayah maafkan keganjalan pada huruf ga tau hilang kemana karena mini dekor kita pakai yang mood official tadi malam sempat bobo bareng momo bracelet alarm braid symbolizes mutual cooperation blue symbolizes sea red white sy saya kangen menjelajah reykjav k iceland nadine chandrawinata enam tahun berdayakan tentara laut selalu penasaran hidup kita ada apa lagi ya kepo wajar stop pusing lakukan apa yang buat kau bahagia da selamat hari mangrove sedunia be chef at your home during covid french whole wheat dough gluten free cake sandwich jam yogur kala itu just posted photo sangihe islands merayakan hari lingkungan hidup sedunia nadine chandrawinata pendiri seasoldier menekankan kondisi laut yang memprihatinkan main sepeda listrik ma seru just posted photo iceland jika kita menjaga alam alam juga akan menjaga kita nadine chandrawinata nadine chandrawinata menyulap sepatu lamanya yang sudah mulai rusak menjadi seperti baru lagi dia tak membawanya ke tukang dalam rangka menyambut hari lingkungan hidup sedunia yang jatuh pada 5 juni esok kita akan ngobrol ngobrol seputar ling dalam rangka mari simak bincang bincang ketua mnc peduli jessica tanoe bersama nadine chandrawinata mengenai dont let shadows yesterday spoil sunshine tomorrow live today ngumpet keliatan woy samurai bukanlah sebuah pedang samurai adalah sebutan untuk kaum aristokrat jepang dari golongan kesatria di masa klasik happy mama love you berjemur yuks pagi hari biarkan si kulit terpapar sinar matahari selama 5 15 menit malam merindu selamat malam suara alam yang dirindukan apa khabar sudah lama kita tak bersua memanggil kembali hai saya berharap kamj ada di sehat sekali kau wear bermain taneuh polaris bermain ku kasih bonus banyak jadi tambah rame setelah menghirup udara segar kalang kabut menampung ide yang berterbangan taman wisata alam mangrove angke ka kali kata wanita wanita gragas gemes ma alam hahaahaha selalu semangat dan bersuara ntn yaks bersama si putih kami ucapkan selamat berbuka puasa man teman lancar ya oiya setelah berbuka cus melipir ke pin journey have nice day mudah mudahan nenek nadine bisa nemenin terus ya tiap puasa kakek dimas lancar puasanya ya keriput keriput begin momoooooooo kau lupa yaa badanmuuu sudahhh besarrrr ga muattt tauuuu tapi tetep loh kalo ada yang motoin b ini maskermu maskermu yuks ikutan bikin pakai masker yng ada dan gunakan suaramu lewat maskermu\n"
          ]
        }
      ],
      "source": [
        "# test Crawling Data\n",
        "userid = get_userid(\"nadinelist\")\n",
        "list_tweet = get_tweets(userid)\n",
        "print(list_tweet)"
      ]
    },
    {
      "cell_type": "code",
      "execution_count": 8,
      "metadata": {
        "colab": {
          "base_uri": "https://localhost:8080/"
        },
        "id": "Nhrb_zJU8eex",
        "outputId": "e1deb3d8-772b-4c5d-fb54-178a2a5aa273"
      },
      "outputs": [],
      "source": [
        "root_path = os.getcwd()\n",
        "with open(root_path + '\\datasets\\dataset.json') as json_data:\n",
        "    intents = json.load(json_data)\n",
        "with open(root_path + '\\datasets\\\\validation.json') as json_valid:\n",
        "    validation = json.load(json_valid)"
      ]
    },
    {
      "cell_type": "code",
      "execution_count": 9,
      "metadata": {
        "id": "OymunfoH_54O"
      },
      "outputs": [],
      "source": [
        "# Labelling data\n",
        "def labelling_data(intents):\n",
        "  inputs, targets = [], []\n",
        "  labels = []\n",
        "  response_for_every_label = {}\n",
        "\n",
        "  for intent in intents['intents']:\n",
        "      if intent['intent'] not in labels:\n",
        "          labels.append(intent['intent'])\n",
        "      if intent['intent'] not in response_for_every_label:\n",
        "          response_for_every_label[intent['intent']] = []\n",
        "          \n",
        "      for text in intent['utterances']:\n",
        "          inputs.append(clean_tweet(text))\n",
        "          targets.append(intent['intent'])\n",
        "          \n",
        "      for response in intent['answers']:\n",
        "          response_for_every_label[intent['intent']].append(response)\n",
        "  return inputs, targets, response_for_every_label"
      ]
    },
    {
      "cell_type": "code",
      "execution_count": 10,
      "metadata": {
        "colab": {
          "base_uri": "https://localhost:8080/"
        },
        "id": "hGrIGlpbVvpY",
        "outputId": "b08c3b47-7bf6-4725-ea57-ee4ace22ec68"
      },
      "outputs": [
        {
          "name": "stdout",
          "output_type": "stream",
          "text": [
            "{'hiking': ['Pariwisata Gunung'], 'swimming': ['Pariwisata Pantai'], 'eating': ['Pariwisata Kuliner']}\n"
          ]
        }
      ],
      "source": [
        "inputs, targets, response_for_every_label = labelling_data(intents)\n",
        "print(response_for_every_label)"
      ]
    },
    {
      "cell_type": "code",
      "execution_count": 11,
      "metadata": {
        "id": "x5onE1fMFK_A"
      },
      "outputs": [],
      "source": [
        "inputs, targets, response_for_every_label = labelling_data(intents)\n",
        "validation_inputs, validation_targets, _ = labelling_data(validation)\n",
        "all = inputs + validation_inputs"
      ]
    },
    {
      "cell_type": "code",
      "execution_count": 12,
      "metadata": {
        "id": "kP_teIrYHeww"
      },
      "outputs": [],
      "source": [
        "# Tokenizing data\n",
        "vocab_size = 1000\n",
        "trunc_type='post'\n",
        "padding_type='post'\n",
        "oov_tok = \"<OOV>\"\n",
        "\n",
        "tokenizer = Tokenizer(num_words=vocab_size, oov_token=oov_tok)\n",
        "tokenizer.fit_on_texts(all)\n",
        "\n",
        "word_index = tokenizer.word_index\n",
        "\n",
        "training_sequences = tokenizer.texts_to_sequences(inputs)\n",
        "max_length = np.max([len(d) for d in training_sequences]) + 5\n",
        "training_padded = pad_sequences(training_sequences, maxlen=max_length, padding=padding_type, truncating=trunc_type)\n",
        "\n",
        "validation_sequences = tokenizer.texts_to_sequences(validation_inputs)\n",
        "validation_padded = pad_sequences(validation_sequences, maxlen=max_length, padding=padding_type, truncating=trunc_type)"
      ]
    },
    {
      "cell_type": "code",
      "execution_count": 13,
      "metadata": {
        "id": "7UQOe0vcHmY1"
      },
      "outputs": [],
      "source": [
        "# Saving tokenizing preprocessing\n",
        "import pickle\n",
        "\n",
        "# Pickle format\n",
        "with open(root_path + '/datasets/tokenizer.pickle', 'wb') as handle:\n",
        "    pickle.dump(tokenizer, handle, protocol=pickle.HIGHEST_PROTOCOL)\n",
        "\n",
        "# JSON format\n",
        "tokenizer_json = tokenizer.to_json()\n",
        "with open(root_path + '/datasets/tokenizer.json', 'w', encoding='utf-8') as f:\n",
        "    f.write(json.dumps(tokenizer_json, ensure_ascii=False))"
      ]
    },
    {
      "cell_type": "code",
      "execution_count": 14,
      "metadata": {
        "id": "WseqqrVPHrHg"
      },
      "outputs": [],
      "source": [
        "# Creating target/label tensor\n",
        "def tensor_label(targets):\n",
        "  word={}\n",
        "  categorical_target=[]\n",
        "  counter=0\n",
        "  for trg in targets:\n",
        "      if trg not in word:\n",
        "          word[trg]=counter\n",
        "          counter+=1\n",
        "      categorical_target.append(word[trg])\n",
        "      \n",
        "      target_tensor = ku.to_categorical(categorical_target, num_classes=len(word), dtype='int32')\n",
        "      target_index_word =  dict((v,k) for k, v in word.items())\n",
        "  return target_tensor, target_index_word"
      ]
    },
    {
      "cell_type": "code",
      "execution_count": 15,
      "metadata": {
        "id": "9d18a2VfHw1F"
      },
      "outputs": [],
      "source": [
        "target_training, target_index_word = tensor_label(targets)\n",
        "target_validation, _ = tensor_label(validation_targets)"
      ]
    },
    {
      "cell_type": "code",
      "execution_count": 16,
      "metadata": {
        "id": "Jsuub95_Hzwk"
      },
      "outputs": [],
      "source": [
        "# Recreate target index and response dictionary\n",
        "responses = {}\n",
        "for idx in target_index_word.keys():\n",
        "  target_index_word[idx] = response_for_every_label[target_index_word[idx]][0]"
      ]
    },
    {
      "cell_type": "code",
      "execution_count": 17,
      "metadata": {
        "id": "wn2jqsLFH13D"
      },
      "outputs": [],
      "source": [
        "with open(root_path + \"/datasets/response.json\", \"w\") as outfile: \n",
        "    json.dump(target_index_word, outfile)"
      ]
    },
    {
      "cell_type": "code",
      "execution_count": 18,
      "metadata": {
        "id": "xu5BMmc5KWtr"
      },
      "outputs": [],
      "source": [
        "# Tuning hyperparameters\n",
        "total_words = len(tokenizer.word_index) + 1\n",
        "embedding_dim = 512\n",
        "epochs = 300\n",
        "output_node = target_training.shape[1]"
      ]
    },
    {
      "cell_type": "code",
      "execution_count": 19,
      "metadata": {
        "colab": {
          "base_uri": "https://localhost:8080/"
        },
        "id": "aiEgzr0fKjFY",
        "outputId": "a9cc873e-4222-4562-8a1a-070694717008"
      },
      "outputs": [
        {
          "name": "stdout",
          "output_type": "stream",
          "text": [
            "Model: \"sequential\"\n",
            "_________________________________________________________________\n",
            " Layer (type)                Output Shape              Param #   \n",
            "=================================================================\n",
            " embedding (Embedding)       (None, None, 512)         37888     \n",
            "                                                                 \n",
            " bidirectional (Bidirectiona  (None, None, 1024)       4198400   \n",
            " l)                                                              \n",
            "                                                                 \n",
            " dropout (Dropout)           (None, None, 1024)        0         \n",
            "                                                                 \n",
            " lstm_1 (LSTM)               (None, None, 256)         1311744   \n",
            "                                                                 \n",
            " dropout_1 (Dropout)         (None, None, 256)         0         \n",
            "                                                                 \n",
            " lstm_2 (LSTM)               (None, 128)               197120    \n",
            "                                                                 \n",
            " dropout_2 (Dropout)         (None, 128)               0         \n",
            "                                                                 \n",
            " dense (Dense)               (None, 74)                9546      \n",
            "                                                                 \n",
            " dense_1 (Dense)             (None, 37)                2775      \n",
            "                                                                 \n",
            " dense_2 (Dense)             (None, 18)                684       \n",
            "                                                                 \n",
            " dense_3 (Dense)             (None, 3)                 57        \n",
            "                                                                 \n",
            "=================================================================\n",
            "Total params: 5,758,214\n",
            "Trainable params: 5,758,214\n",
            "Non-trainable params: 0\n",
            "_________________________________________________________________\n",
            "None\n"
          ]
        }
      ],
      "source": [
        "# Creating model\n",
        "model = Sequential()\n",
        "model.add(Embedding(total_words, embedding_dim))\n",
        "model.add(Bidirectional(LSTM(512, return_sequences = True)))\n",
        "model.add(Dropout(0.5))\n",
        "model.add(LSTM(256, return_sequences = True))\n",
        "model.add(Dropout(0.4))\n",
        "model.add(LSTM(128))\n",
        "model.add(Dropout(0.4))\n",
        "model.add(Dense(total_words, activation='relu', kernel_regularizer=regularizers.l2(0.01)))\n",
        "model.add(Dense(total_words/2, activation='relu', kernel_regularizer=regularizers.l2(0.01)))\n",
        "model.add(Dense(total_words/4, activation='relu', kernel_regularizer=regularizers.l2(0.01)))\n",
        "model.add(Dense(output_node, activation='softmax'))\n",
        "\n",
        "model.compile(loss='categorical_crossentropy', optimizer='adam', metrics=['accuracy'])\n",
        "print(model.summary())"
      ]
    },
    {
      "cell_type": "code",
      "execution_count": 20,
      "metadata": {
        "id": "J7Pz1pL6Kk90"
      },
      "outputs": [],
      "source": [
        "# Setting Callbacks\n",
        "\n",
        "class myCallback(tf.keras.callbacks.Callback):\n",
        "  def on_epoch_end(self, epoch, logs={}):\n",
        "    if(logs.get('accuracy')>0.995):\n",
        "      print(\"\\nReached 99.5% accuracy so cancelling training!\")\n",
        "      self.model.stop_training = True\n",
        "\n",
        "callbacks = myCallback()"
      ]
    },
    {
      "cell_type": "code",
      "execution_count": 21,
      "metadata": {
        "colab": {
          "base_uri": "https://localhost:8080/"
        },
        "id": "KyxWQuyIKq74",
        "outputId": "a36c8743-d4fa-45b2-83da-45a76643e609"
      },
      "outputs": [
        {
          "name": "stdout",
          "output_type": "stream",
          "text": [
            "Epoch 1/300\n",
            "2/2 [==============================] - 12s 3s/step - loss: 2.7687 - accuracy: 0.3333 - val_loss: 2.7379 - val_accuracy: 0.2982\n",
            "Epoch 2/300\n",
            "2/2 [==============================] - 1s 714ms/step - loss: 2.7320 - accuracy: 0.2105 - val_loss: 2.6868 - val_accuracy: 0.2982\n",
            "Epoch 3/300\n",
            "2/2 [==============================] - 1s 601ms/step - loss: 2.6823 - accuracy: 0.2632 - val_loss: 2.6429 - val_accuracy: 0.2982\n",
            "Epoch 4/300\n",
            "2/2 [==============================] - 1s 595ms/step - loss: 2.6404 - accuracy: 0.1930 - val_loss: 2.6003 - val_accuracy: 0.3333\n",
            "Epoch 5/300\n",
            "2/2 [==============================] - 1s 590ms/step - loss: 2.5917 - accuracy: 0.3333 - val_loss: 2.5585 - val_accuracy: 0.3333\n",
            "Epoch 6/300\n",
            "2/2 [==============================] - 1s 593ms/step - loss: 2.5457 - accuracy: 0.4035 - val_loss: 2.5178 - val_accuracy: 0.3509\n",
            "Epoch 7/300\n",
            "2/2 [==============================] - 1s 591ms/step - loss: 2.5092 - accuracy: 0.2982 - val_loss: 2.4768 - val_accuracy: 0.3333\n",
            "Epoch 8/300\n",
            "2/2 [==============================] - 1s 646ms/step - loss: 2.4784 - accuracy: 0.2807 - val_loss: 2.4395 - val_accuracy: 0.3333\n",
            "Epoch 9/300\n",
            "2/2 [==============================] - 1s 669ms/step - loss: 2.4345 - accuracy: 0.3684 - val_loss: 2.4005 - val_accuracy: 0.4211\n",
            "Epoch 10/300\n",
            "2/2 [==============================] - 1s 594ms/step - loss: 2.3904 - accuracy: 0.3860 - val_loss: 2.3639 - val_accuracy: 0.3684\n",
            "Epoch 11/300\n",
            "2/2 [==============================] - 1s 617ms/step - loss: 2.3596 - accuracy: 0.3158 - val_loss: 2.3274 - val_accuracy: 0.3684\n",
            "Epoch 12/300\n",
            "2/2 [==============================] - 1s 619ms/step - loss: 2.3163 - accuracy: 0.4737 - val_loss: 2.2913 - val_accuracy: 0.3684\n",
            "Epoch 13/300\n",
            "2/2 [==============================] - 1s 635ms/step - loss: 2.2778 - accuracy: 0.4737 - val_loss: 2.2545 - val_accuracy: 0.3684\n",
            "Epoch 14/300\n",
            "2/2 [==============================] - 1s 633ms/step - loss: 2.2535 - accuracy: 0.4386 - val_loss: 2.2164 - val_accuracy: 0.5088\n",
            "Epoch 15/300\n",
            "2/2 [==============================] - 1s 611ms/step - loss: 2.2069 - accuracy: 0.4912 - val_loss: 2.1733 - val_accuracy: 0.4912\n",
            "Epoch 16/300\n",
            "2/2 [==============================] - 1s 595ms/step - loss: 2.1674 - accuracy: 0.4737 - val_loss: 2.1186 - val_accuracy: 0.6842\n",
            "Epoch 17/300\n",
            "2/2 [==============================] - 1s 584ms/step - loss: 2.1090 - accuracy: 0.6140 - val_loss: 2.0101 - val_accuracy: 0.7018\n",
            "Epoch 18/300\n",
            "2/2 [==============================] - 1s 589ms/step - loss: 1.9869 - accuracy: 0.7193 - val_loss: 1.8441 - val_accuracy: 0.7018\n",
            "Epoch 19/300\n",
            "2/2 [==============================] - 1s 583ms/step - loss: 1.8273 - accuracy: 0.7018 - val_loss: 1.6536 - val_accuracy: 0.8772\n",
            "Epoch 20/300\n",
            "2/2 [==============================] - 1s 592ms/step - loss: 1.6425 - accuracy: 0.8596 - val_loss: 1.4976 - val_accuracy: 0.8947\n",
            "Epoch 21/300\n",
            "2/2 [==============================] - 1s 589ms/step - loss: 1.5050 - accuracy: 0.8947 - val_loss: 1.3617 - val_accuracy: 0.9825\n",
            "Epoch 22/300\n",
            "2/2 [==============================] - 1s 589ms/step - loss: 1.3488 - accuracy: 0.9474 - val_loss: 1.4077 - val_accuracy: 0.9298\n",
            "Epoch 23/300\n",
            "2/2 [==============================] - 1s 594ms/step - loss: 1.3382 - accuracy: 0.9298 - val_loss: 1.2107 - val_accuracy: 0.9825\n",
            "Epoch 24/300\n",
            "2/2 [==============================] - 1s 598ms/step - loss: 1.2120 - accuracy: 0.9649 - val_loss: 1.0847 - val_accuracy: 1.0000\n",
            "Epoch 25/300\n",
            "2/2 [==============================] - ETA: 0s - loss: 1.0829 - accuracy: 1.0000\n",
            "Reached 99.5% accuracy so cancelling training!\n",
            "2/2 [==============================] - 1s 586ms/step - loss: 1.0829 - accuracy: 1.0000 - val_loss: 0.9977 - val_accuracy: 1.0000\n"
          ]
        }
      ],
      "source": [
        "# Training model\n",
        "history = model.fit(training_padded,\n",
        "                    target_training,\n",
        "                    epochs=epochs,\n",
        "                    callbacks = [callbacks],\n",
        "                    validation_data = (validation_padded, target_validation))"
      ]
    },
    {
      "cell_type": "code",
      "execution_count": 22,
      "metadata": {
        "colab": {
          "base_uri": "https://localhost:8080/",
          "height": 545
        },
        "id": "c7ntmrdhKu75",
        "outputId": "911c9511-923c-452c-da0f-27e7f88b2394"
      },
      "outputs": [
        {
          "data": {
            "image/png": "[encoded data removed]",
            "text/plain": [
              "<Figure size 432x288 with 1 Axes>"
            ]
          },
          "metadata": {
            "needs_background": "light"
          },
          "output_type": "display_data"
        },
        {
          "data": {
            "image/png": "[encoded data removed]",
            "text/plain": [
              "<Figure size 432x288 with 1 Axes>"
            ]
          },
          "metadata": {
            "needs_background": "light"
          },
          "output_type": "display_data"
        }
      ],
      "source": [
        "# Plotting accuracy and loss\n",
        "import matplotlib.pyplot as plt\n",
        "acc = history.history['accuracy']\n",
        "loss = history.history['loss']\n",
        "val_loss = history.history['val_loss']\n",
        "val_acc = history.history['val_accuracy']\n",
        "\n",
        "epochs = range(len(acc))\n",
        "\n",
        "plt.plot(epochs, acc, 'b', label='Training accuracy')\n",
        "plt.plot(epochs, val_acc, 'r', label='Validation accuracy')\n",
        "plt.title('Acccuracy')\n",
        "plt.legend()\n",
        "\n",
        "plt.figure()\n",
        "plt.plot(epochs, loss, 'b', label='Training Loss')\n",
        "plt.plot(epochs, val_loss, 'r', label='Validation Loss')\n",
        "plt.title('Loss')\n",
        "plt.legend()\n",
        "\n",
        "plt.show()"
      ]
    },
    {
      "cell_type": "code",
      "execution_count": 23,
      "metadata": {
        "colab": {
          "base_uri": "https://localhost:8080/"
        },
        "id": "GKCptidZKxjg",
        "outputId": "3decbcb2-9bf8-4364-bacf-64a3d50d2ac7"
      },
      "outputs": [
        {
          "data": {
            "text/plain": [
              "['Pariwisata Gunung']"
            ]
          },
          "execution_count": 23,
          "metadata": {},
          "output_type": "execute_result"
        }
      ],
      "source": [
        "# Inference\n",
        "text = list_tweet\n",
        "seq =  tokenizer.texts_to_sequences([text])\n",
        "pad = pad_sequences(seq, maxlen=max_length, padding=padding_type, truncating=trunc_type)\n",
        "predicted = np.argmax(model.predict(pad, verbose=0))\n",
        "target_index_word[predicted].split(\"\\n\")"
      ]
    }
  ],
  "metadata": {
    "colab": {
      "collapsed_sections": [],
      "name": "Model.ipynb",
      "provenance": []
    },
    "interpreter": {
      "hash": "9ebcd3210ff354a4f8c169c1607f0ab8c93e43cfe97ab1c5627afacb43cceeaf"
    },
    "kernelspec": {
      "display_name": "Python 3.9.6 64-bit",
      "language": "python",
      "name": "python3"
    },
    "language_info": {
      "codemirror_mode": {
        "name": "ipython",
        "version": 3
      },
      "file_extension": ".py",
      "mimetype": "text/x-python",
      "name": "python",
      "nbconvert_exporter": "python",
      "pygments_lexer": "ipython3",
      "version": "3.9.6"
    }
  },
  "nbformat": 4,
  "nbformat_minor": 0
}
