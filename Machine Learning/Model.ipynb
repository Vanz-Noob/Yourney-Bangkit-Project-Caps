{
  "cells": [
    {
      "cell_type": "code",
      "execution_count": 97,
      "metadata": {
        "id": "oS9qg59p5z3o"
      },
      "outputs": [],
      "source": [
        "import tweepy as tw\n",
        "import pandas as pd\n",
        "from datetime import datetime\n",
        "import json\n",
        "import numpy as np\n",
        "import re\n",
        "import tensorflow as tf\n",
        "from tensorflow.keras.preprocessing.sequence import pad_sequences\n",
        "from tensorflow.keras.layers import Embedding, LSTM, Dense, Dropout, Bidirectional\n",
        "from tensorflow.keras.preprocessing.text import Tokenizer\n",
        "from tensorflow.keras.models import Sequential\n",
        "from tensorflow.keras.optimizers import Adam\n",
        "from tensorflow.keras import regularizers\n",
        "import tensorflow.keras.utils as ku\n",
        "import pickle\n",
        "import os"
      ]
    },
    {
      "cell_type": "code",
      "execution_count": 98,
      "metadata": {
        "id": "2zIIi8CG6BPs"
      },
      "outputs": [],
      "source": [
        "# Twitter API key and API secret\n",
        "my_api_key = \"GQ1kke9EehS4KOCMfHqDec2tf\"\n",
        "my_api_secret = \"etiVr68pWASKCbJt6MEAjgKb95MTztzrShejHKEF1pbTZfbGLp\"\n",
        "access_token = '490367249-HnS3VpPZD1wkX6WkVm9QIS6AVR4Bydl3YKsbxu6i'\n",
        "access_token_secret = '5QGkkQoT2aDWrWvjrfLvdw5WnnK3b7aDRStSN487Vl8IL'\n",
        "# authenticate\n",
        "auth = tw.OAuthHandler(my_api_key, my_api_secret)\n",
        "auth.set_access_token(access_token, access_token_secret)\n",
        "api = tw.API(auth, wait_on_rate_limit=True)"
      ]
    },
    {
      "cell_type": "code",
      "execution_count": 99,
      "metadata": {
        "colab": {
          "base_uri": "https://localhost:8080/"
        },
        "id": "UFBBH6m86JI0",
        "outputId": "98a17ffe-ef59-4944-8ee2-77c84ef4aa35"
      },
      "outputs": [
        {
          "name": "stdout",
          "output_type": "stream",
          "text": [
            "2.9.1\n",
            "4.10.0\n"
          ]
        }
      ],
      "source": [
        "print(tf.__version__)\n",
        "print(tw.__version__)"
      ]
    },
    {
      "cell_type": "code",
      "execution_count": 100,
      "metadata": {
        "id": "AyVGfCbi6gWN"
      },
      "outputs": [],
      "source": [
        "# Get User by ID using username of Twitter Account\n",
        "def get_userid(username):\n",
        "    user_data = api.get_user(screen_name=username)\n",
        "    user_id = user_data.id_str\n",
        "    return user_id"
      ]
    },
    {
      "cell_type": "code",
      "execution_count": 101,
      "metadata": {
        "id": "oMuIla2u6v4t"
      },
      "outputs": [],
      "source": [
        "# Clean Tweets\n",
        "def clean_tweet(tweet):\n",
        "    stopwords = [\"for\", \"on\", \"an\", \"a\", \"of\", \"and\", \"in\", \"the\", \"to\", \"from\", \"rt\"]\n",
        "    temp = tweet.lower()\n",
        "    temp = re.sub(\"'\", \"\", temp) # to avoid removing contractions in english\n",
        "    temp = re.sub(\"@[A-Za-z0-9_]+\",\"\", temp)\n",
        "    temp = re.sub(\"#[A-Za-z0-9_]+\",\"\", temp)\n",
        "    temp = re.sub(r'http\\S+', '', temp)\n",
        "    temp = re.sub('[()!?]', ' ', temp)\n",
        "    temp = re.sub('\\[.*?\\]',' ', temp)\n",
        "    temp = re.sub(\"[^a-z0-9]\",\" \", temp)\n",
        "    temp = temp.split()\n",
        "    temp = [w for w in temp if not w in stopwords]\n",
        "    temp = \" \".join(word for word in temp)\n",
        "    return temp"
      ]
    },
    {
      "cell_type": "code",
      "execution_count": 102,
      "metadata": {
        "id": "QaLIGiFz7EUO"
      },
      "outputs": [],
      "source": [
        "from typing import Text\n",
        "# Crawling 1000 tweet data and convert to text\n",
        "def get_tweets(tweeter_id, from_id = None, count = 1000):\n",
        "    #Setup\n",
        "    #l = StdOutListener()\n",
        "    auth = tw.OAuthHandler(my_api_key, my_api_secret)\n",
        "    auth.set_access_token(access_token, access_token_secret)\n",
        "    api = tw.API(auth, wait_on_rate_limit=True)\n",
        "\n",
        "    #Get tweets (status) from Twitter A\n",
        "    if from_id == None:\n",
        "        status = api.user_timeline(user_id = tweeter_id, count=count)\n",
        "    else:\n",
        "        status = api.user_timeline(user_id = tweeter_id, count=count, max_id = from_id)\n",
        "        status.pop(0) #Remove duplicate first tweet, max_id not included.\n",
        "\n",
        "    tweetlist = []\n",
        "    last_id = 0\n",
        "\n",
        "    #print(\"Cleaning tweets from :\", status.user.screen_name, \"id: \", twiter_id)\n",
        "    for items in status:\n",
        "        tweet = {}\n",
        "        # tweet[\"id\"] = items.id\n",
        "        # tweet[\"user_id\"] = tweeter_id\n",
        "        # tweet[\"nickname\"] = items.user.screen_name\n",
        "        # tweet[\"realname\"] = items.user.name\n",
        "        # tweet[\"date\"] = items.created_at\n",
        "        tweet[\"text\"] = items.text\n",
        "\n",
        "        tweetlist.append(tweet)\n",
        "        last_id = items.id\n",
        "    \n",
        "    # clean tweets to text\n",
        "    a_List = []\n",
        "    for x in range(1, len(tweetlist)):\n",
        "        d_tweet = clean_tweet(tweetlist[x]['text'])\n",
        "        if d_tweet not in a_List:\n",
        "            a_List.append(d_tweet)\n",
        "\n",
        "    text = \" \".join(word for word in a_List)\n",
        "    # print(\"Last ID: \", last_id, \"\\n\")\n",
        "    return text"
      ]
    },
    {
      "cell_type": "code",
      "execution_count": 103,
      "metadata": {
        "colab": {
          "base_uri": "https://localhost:8080/"
        },
        "id": "4zL_91mr8LxW",
        "outputId": "4f45b388-01d7-47cb-c6e7-e166286adab4"
      },
      "outputs": [
        {
          "name": "stdout",
          "output_type": "stream",
          "text": [
            "gm booped my dog today gl eth going 10k exxaaaaccctlyyyy get cozy ser  wagbo finally here wagbo ape is listed 420 69 eth kenapa kadang2 di indonesia hal yang ga ada hubungannya dan jelas jelas beda di sama samain o ma n ko sama mangk dip is not over yet ser just like my nachos cheese dips it s 7 layers deep gm me mr bear are going out get ready cant wait meet lot you community members oo atau emg kamu yg buta ga bisa baca mangkok ku sama o manko beda goblok ya makan aja kenapa vs boxing fight will revive eth 2k udh pump nih nanti kalau dump ku omelin exit liq since day 1 when it didnt get minted out lol ngmi senam dulu gih benerin dulu perut lu dut baru ngajakin org boxing jejouw jancok lu holyshitttt yeaaa was looking at this u sniped it sad but nice one key word is learn gotta drown first before surfing ser i think so too ser eat some rice rendang babi spiced coconut braised pork with caramelized curry atau ada ide lain amunisi sudah siap buat tembak cc yuk kawan kawan hari minggu jangan lupa ke gereja dan minta ketabahan dan juga kekuatan bersender di bahu tuhan yuhuuu buzzer mana buzzer yang katanya duit ko rup si sini mampir yukk yuk sini merapat yang rekt dan nyangkut time pull them out do depp mega pint when doubt zoom out still thing i ll hand feed individual strings indomie my friends bali embrace it chad name your fav youtubers saying eth going to10k 1000 1200 seems nice show ur 500 shorts pls sire blm lol ga ada video ga paham kita coba rekam dulu pake oppo ser ser this is nice juice tbh not worrying about at 7 sol as team has proven themselves with catalina whales beside sol is c youre welcome ser ready ima call my new french grape what up wagbo bb bruuuu this should be headline 2mins break degods frank nate ure better than that don t be weak sauce my timeline is full stirring it up me here be like tf wow holy molly lol loser kenapa di delete lah yang misuh2 sksd cok tel siapa papa mama mu bangga ooo pantes goblok jadi ini harusnya gimana mau keren tapi menghina mau ngelucu mau sksd atau mau apa bahasa indonesia tretan lagi bikin ulah masak babi kurma lagi sampe trending kenapa kog babi bisa trending di indo wkwkwk bercanda canda berhadiah enak ya temenan ama chef renatta sama patrick trolling tapi di kasi hp lol jks most us except i ve had my eyes while now but didn t want fomo at what could ve been top sol is down lot rigged really dead yessir goose gmi thank you tapi ga butuh bubble goose gmi 100 gm ada 35 wow what s going with it s pamping breaking tells are addicting agreed facts this is fa or nfa ok f it im doing it too 50x leverage i like pho icy cold get comfy now hibernating kais you re legend taking idea making it yet despite this i have bought more bears i contain multitudes it s time hibernate is ps magician hibernation right time hibernate get comfy wagbo how freeze my bear help jfc im not home get more bears my lofi is sleeping now i was buying at 7 sol now i m buying again buying 100 okaybear at 100 sol no otc just list my kind buzzer offering buy time go 0 masi staking ampe lupa okay everyone is talking about this just apes x magic eden big collab party austin well here s tea i was there it w some bit yes some not but we all can agree is best rbbbbb wagbooo talking sol throwing it back beginning who jumped into okay bears with such gravitas sending waves as far as wagbo semarang with my freinds thankyou best chef sampe kilaf yea anyone could ve done it i did it myself you want one pepescanz perks being holder free lunch well received by me mother thanks heard okay bears going hibernate guess my lofi is ready who s this is gonna be juicy chef giving just by holding just imagine what will he give if we sweep floor thank you chef got my lunch airdrop thanks my favorite chef wagbo ancol kasian bear ku belum makan seharian chef sampe judes gitu mukanya ht you got this ser finally got my airdrop thanks got my my favorite chef thanks airdrop chef 2 1m fake followers giveaway prize list 2eth shill me your rug projects baby save me daddy ayoo can t believe really gave me free food cause im holding irl bear holders utility bridging gap wagbo big thanks big thanks dan chef just recieved my chep as gift okb holders buy bear get fomo or jangan lupa mangkok ku buzzer buzzer manaaa bentar lagi makan siang yukk filip you are bot call me 1800 mommy help ya ud lah tetep jejo lebi kaya dr elo i dont even know why there s 2 1m followers my twitter tbh someone pls help or any my 2 1m fake followers my fake followers i dont know never bought single one lol it just appeared my twitter verification lol probably uhuiii kkn wait people uses cardano pinter pake twitter tapi bego ga bisa buka google tong tong there s such thing as cardano s whale ga masuk karena ga tau cara berbusiness c uhuiii buzzer dimana mana yuk nasi bungkusnya pajangan jidat mu blog congrats calling all amp part good community is also celebrate rip my back lol twisted muscle i think is real mvp gm may your mints be epic amp legendary today let s get it wen chillchat we know that its been minute since our mint we can finally reveal that chillchat has raised 6 5 mil rip bu coba bisa buktikan mangkok ku kkn saya kasi 1m tunai jangan keseringan makan nasi bungkus sekali kali coba ric buka 35 40 outlet cloud kitchen dan dine lagi di jawa dan luar jawa tambah team amp central kitchen afternoon snack buzzer mana buzzer halo kpk sweettooth is admin it has been confirmed ga pov founders wagdie are discussing what do with their mayc 69 dat is meeee atm love that we re chasing that 0 015 gains all free mint trends atm so degen ghozali will be missed it was our adopted web3 child kasi min do i get discount wow nice bear minta dong cat is it long or short i need you show me way soon ser we made it news lesgo wow seeing so many indonesian okay bears holders pretty awesome admin will contact you gas nanti admin dm sultan dio sini gw traktir that s way ser ser i ll send u whole month mangkok ku so you remember me day night we all win ser dm me nanti kira kirimin paket still can t believe you sold it im going drop free 101 bowls mangkok ku okay bears holders only indonesia or nearest outlet we hav mangkok ku masi private blm ada rencana franchise punten anda di daerah mana mungkin bisa buka di sana nanti suatu hari delicious holywings please make boxing match buzzer vs buzzer kurang paham tapi mangkok ku sehat amin amin probably may be shall we it s rice bowl business clearly stated lol dyor buzzer be like\n"
          ]
        }
      ],
      "source": [
        "# test Crawling Data\n",
        "userid = get_userid(\"ArnoldPoernomo\")\n",
        "list_tweet = get_tweets(userid)\n",
        "print(list_tweet)"
      ]
    },
    {
      "cell_type": "code",
      "execution_count": 104,
      "metadata": {
        "colab": {
          "base_uri": "https://localhost:8080/"
        },
        "id": "Nhrb_zJU8eex",
        "outputId": "e1deb3d8-772b-4c5d-fb54-178a2a5aa273"
      },
      "outputs": [],
      "source": [
        "root_path = os.getcwd()\n",
        "with open(root_path + '\\datasets\\datasets.json') as json_data:\n",
        "    intents = json.load(json_data)\n",
        "with open(root_path + '\\datasets\\\\validations.json') as json_valid:\n",
        "    validation = json.load(json_valid)"
      ]
    },
    {
      "cell_type": "code",
      "execution_count": 105,
      "metadata": {
        "id": "OymunfoH_54O"
      },
      "outputs": [],
      "source": [
        "# Labelling data\n",
        "def labelling_data(intents):\n",
        "  inputs, targets = [], []\n",
        "  labels = []\n",
        "  response_for_every_label = {}\n",
        "\n",
        "  for intent in intents['intents']:\n",
        "      if intent['intent'] not in labels:\n",
        "          labels.append(intent['intent'])\n",
        "      if intent['intent'] not in response_for_every_label:\n",
        "          response_for_every_label[intent['intent']] = []\n",
        "          \n",
        "      for text in intent['utterances']:\n",
        "          inputs.append(clean_tweet(text))\n",
        "          targets.append(intent['intent'])\n",
        "          \n",
        "      for response in intent['answers']:\n",
        "          response_for_every_label[intent['intent']].append(response)\n",
        "  return inputs, targets, response_for_every_label"
      ]
    },
    {
      "cell_type": "code",
      "execution_count": 106,
      "metadata": {
        "colab": {
          "base_uri": "https://localhost:8080/"
        },
        "id": "hGrIGlpbVvpY",
        "outputId": "b08c3b47-7bf6-4725-ea57-ee4ace22ec68"
      },
      "outputs": [
        {
          "name": "stdout",
          "output_type": "stream",
          "text": [
            "{'hiking': ['Pariwisata Gunung'], 'swimming': ['Pariwisata Pantai'], 'eating': ['Pariwisata Kuliner']}\n"
          ]
        }
      ],
      "source": [
        "inputs, targets, response_for_every_label = labelling_data(intents)\n",
        "print(response_for_every_label)"
      ]
    },
    {
      "cell_type": "code",
      "execution_count": 107,
      "metadata": {
        "id": "x5onE1fMFK_A"
      },
      "outputs": [],
      "source": [
        "inputs, targets, response_for_every_label = labelling_data(intents)\n",
        "validation_inputs, validation_targets, _ = labelling_data(validation)\n",
        "all = inputs + validation_inputs"
      ]
    },
    {
      "cell_type": "code",
      "execution_count": 108,
      "metadata": {
        "id": "kP_teIrYHeww"
      },
      "outputs": [],
      "source": [
        "# Tokenizing data\n",
        "vocab_size = 1000\n",
        "trunc_type='post'\n",
        "padding_type='post'\n",
        "oov_tok = \"<OOV>\"\n",
        "\n",
        "tokenizer = Tokenizer(num_words=vocab_size, oov_token=oov_tok)\n",
        "tokenizer.fit_on_texts(all)\n",
        "\n",
        "word_index = tokenizer.word_index\n",
        "\n",
        "training_sequences = tokenizer.texts_to_sequences(inputs)\n",
        "max_length = np.max([len(d) for d in training_sequences]) + 5\n",
        "training_padded = pad_sequences(training_sequences, maxlen=max_length, padding=padding_type, truncating=trunc_type)\n",
        "\n",
        "validation_sequences = tokenizer.texts_to_sequences(validation_inputs)\n",
        "validation_padded = pad_sequences(validation_sequences, maxlen=max_length, padding=padding_type, truncating=trunc_type)"
      ]
    },
    {
      "cell_type": "code",
      "execution_count": 109,
      "metadata": {
        "id": "7UQOe0vcHmY1"
      },
      "outputs": [],
      "source": [
        "# Saving tokenizing preprocessing\n",
        "import pickle\n",
        "\n",
        "# Pickle format\n",
        "with open(root_path + '/datasets/tokenizer.pickle', 'wb') as handle:\n",
        "    pickle.dump(tokenizer, handle, protocol=pickle.HIGHEST_PROTOCOL)\n",
        "\n",
        "# JSON format\n",
        "tokenizer_json = tokenizer.to_json()\n",
        "with open(root_path + '/datasets/tokenizer.json', 'w', encoding='utf-8') as f:\n",
        "    f.write(json.dumps(tokenizer_json, ensure_ascii=False))"
      ]
    },
    {
      "cell_type": "code",
      "execution_count": 110,
      "metadata": {
        "id": "WseqqrVPHrHg"
      },
      "outputs": [],
      "source": [
        "# Creating target/label tensor\n",
        "def tensor_label(targets):\n",
        "  word={}\n",
        "  categorical_target=[]\n",
        "  counter=0\n",
        "  for trg in targets:\n",
        "      if trg not in word:\n",
        "          word[trg]=counter\n",
        "          counter+=1\n",
        "      categorical_target.append(word[trg])\n",
        "      \n",
        "      target_tensor = ku.to_categorical(categorical_target, num_classes=len(word), dtype='int32')\n",
        "      target_index_word =  dict((v,k) for k, v in word.items())\n",
        "  return target_tensor, target_index_word"
      ]
    },
    {
      "cell_type": "code",
      "execution_count": 111,
      "metadata": {
        "id": "9d18a2VfHw1F"
      },
      "outputs": [],
      "source": [
        "target_training, target_index_word = tensor_label(targets)\n",
        "target_validation, _ = tensor_label(validation_targets)"
      ]
    },
    {
      "cell_type": "code",
      "execution_count": 112,
      "metadata": {
        "id": "Jsuub95_Hzwk"
      },
      "outputs": [],
      "source": [
        "# Recreate target index and response dictionary\n",
        "responses = {}\n",
        "for idx in target_index_word.keys():\n",
        "  target_index_word[idx] = response_for_every_label[target_index_word[idx]][0]"
      ]
    },
    {
      "cell_type": "code",
      "execution_count": 113,
      "metadata": {
        "id": "wn2jqsLFH13D"
      },
      "outputs": [],
      "source": [
        "with open(root_path + \"/datasets/response.json\", \"w\") as outfile: \n",
        "    json.dump(target_index_word, outfile)"
      ]
    },
    {
      "cell_type": "code",
      "execution_count": 114,
      "metadata": {
        "id": "xu5BMmc5KWtr"
      },
      "outputs": [],
      "source": [
        "# Tuning hyperparameters\n",
        "total_words = len(tokenizer.word_index) + 1\n",
        "embedding_dim = 512\n",
        "epochs = 300\n",
        "output_node = target_training.shape[1]"
      ]
    },
    {
      "cell_type": "code",
      "execution_count": 115,
      "metadata": {
        "colab": {
          "base_uri": "https://localhost:8080/"
        },
        "id": "aiEgzr0fKjFY",
        "outputId": "a9cc873e-4222-4562-8a1a-070694717008"
      },
      "outputs": [
        {
          "name": "stdout",
          "output_type": "stream",
          "text": [
            "Model: \"sequential_4\"\n",
            "_________________________________________________________________\n",
            " Layer (type)                Output Shape              Param #   \n",
            "=================================================================\n",
            " embedding_4 (Embedding)     (None, None, 512)         154112    \n",
            "                                                                 \n",
            " bidirectional_4 (Bidirectio  (None, None, 1024)       4198400   \n",
            " nal)                                                            \n",
            "                                                                 \n",
            " dropout_12 (Dropout)        (None, None, 1024)        0         \n",
            "                                                                 \n",
            " lstm_13 (LSTM)              (None, None, 256)         1311744   \n",
            "                                                                 \n",
            " dropout_13 (Dropout)        (None, None, 256)         0         \n",
            "                                                                 \n",
            " lstm_14 (LSTM)              (None, 128)               197120    \n",
            "                                                                 \n",
            " dropout_14 (Dropout)        (None, 128)               0         \n",
            "                                                                 \n",
            " dense_16 (Dense)            (None, 301)               38829     \n",
            "                                                                 \n",
            " dense_17 (Dense)            (None, 150)               45300     \n",
            "                                                                 \n",
            " dense_18 (Dense)            (None, 75)                11325     \n",
            "                                                                 \n",
            " dense_19 (Dense)            (None, 3)                 228       \n",
            "                                                                 \n",
            "=================================================================\n",
            "Total params: 5,957,058\n",
            "Trainable params: 5,957,058\n",
            "Non-trainable params: 0\n",
            "_________________________________________________________________\n",
            "None\n"
          ]
        }
      ],
      "source": [
        "# Creating model\n",
        "model = Sequential()\n",
        "model.add(Embedding(total_words, embedding_dim))\n",
        "model.add(Bidirectional(LSTM(512, return_sequences = True)))\n",
        "model.add(Dropout(0.5))\n",
        "model.add(LSTM(256, return_sequences = True))\n",
        "model.add(Dropout(0.4))\n",
        "model.add(LSTM(128))\n",
        "model.add(Dropout(0.4))\n",
        "model.add(Dense(total_words, activation='relu', kernel_regularizer=regularizers.l2(0.01)))\n",
        "model.add(Dense(total_words/2, activation='relu', kernel_regularizer=regularizers.l2(0.01)))\n",
        "model.add(Dense(total_words/4, activation='relu', kernel_regularizer=regularizers.l2(0.01)))\n",
        "model.add(Dense(output_node, activation='softmax'))\n",
        "\n",
        "model.compile(loss='categorical_crossentropy', optimizer='adam', metrics=['accuracy'])\n",
        "print(model.summary())"
      ]
    },
    {
      "cell_type": "code",
      "execution_count": 116,
      "metadata": {
        "id": "J7Pz1pL6Kk90"
      },
      "outputs": [],
      "source": [
        "# Setting Callbacks\n",
        "\n",
        "class myCallback(tf.keras.callbacks.Callback):\n",
        "  def on_epoch_end(self, epoch, logs={}):\n",
        "    if(logs.get('accuracy')>0.995):\n",
        "      print(\"\\nReached 99.5% accuracy so cancelling training!\")\n",
        "      self.model.stop_training = True\n",
        "\n",
        "callbacks = myCallback()"
      ]
    },
    {
      "cell_type": "code",
      "execution_count": 117,
      "metadata": {
        "colab": {
          "base_uri": "https://localhost:8080/"
        },
        "id": "KyxWQuyIKq74",
        "outputId": "a36c8743-d4fa-45b2-83da-45a76643e609"
      },
      "outputs": [
        {
          "name": "stdout",
          "output_type": "stream",
          "text": [
            "Epoch 1/300\n",
            "5/5 [==============================] - 23s 2s/step - loss: 5.6959 - accuracy: 0.3200 - val_loss: 5.3584 - val_accuracy: 0.3333\n",
            "Epoch 2/300\n",
            "5/5 [==============================] - 5s 1s/step - loss: 5.1842 - accuracy: 0.3467 - val_loss: 4.8886 - val_accuracy: 0.3333\n",
            "Epoch 3/300\n",
            "5/5 [==============================] - 6s 1s/step - loss: 4.7301 - accuracy: 0.3400 - val_loss: 4.4756 - val_accuracy: 0.3333\n",
            "Epoch 4/300\n",
            "5/5 [==============================] - 5s 1s/step - loss: 4.3416 - accuracy: 0.2933 - val_loss: 4.1002 - val_accuracy: 0.3333\n",
            "Epoch 5/300\n",
            "5/5 [==============================] - 5s 1s/step - loss: 3.9729 - accuracy: 0.3733 - val_loss: 3.7645 - val_accuracy: 0.3333\n",
            "Epoch 6/300\n",
            "5/5 [==============================] - 5s 1s/step - loss: 3.6522 - accuracy: 0.3133 - val_loss: 3.4601 - val_accuracy: 0.3333\n",
            "Epoch 7/300\n",
            "5/5 [==============================] - 5s 1s/step - loss: 3.3546 - accuracy: 0.3000 - val_loss: 3.1840 - val_accuracy: 0.3467\n",
            "Epoch 8/300\n",
            "5/5 [==============================] - 5s 1s/step - loss: 3.0759 - accuracy: 0.5533 - val_loss: 2.9252 - val_accuracy: 0.4667\n",
            "Epoch 9/300\n",
            "5/5 [==============================] - 6s 1s/step - loss: 2.7403 - accuracy: 0.6400 - val_loss: 2.6794 - val_accuracy: 0.4400\n",
            "Epoch 10/300\n",
            "5/5 [==============================] - 5s 1s/step - loss: 2.2058 - accuracy: 0.6800 - val_loss: 2.8036 - val_accuracy: 0.4200\n",
            "Epoch 11/300\n",
            "5/5 [==============================] - 5s 1s/step - loss: 1.8799 - accuracy: 0.6600 - val_loss: 3.2370 - val_accuracy: 0.4400\n",
            "Epoch 12/300\n",
            "5/5 [==============================] - 5s 1s/step - loss: 1.7246 - accuracy: 0.6400 - val_loss: 3.3623 - val_accuracy: 0.4267\n",
            "Epoch 13/300\n",
            "5/5 [==============================] - 5s 1s/step - loss: 1.5877 - accuracy: 0.6600 - val_loss: 3.1491 - val_accuracy: 0.4267\n",
            "Epoch 14/300\n",
            "5/5 [==============================] - 5s 1s/step - loss: 1.4752 - accuracy: 0.6733 - val_loss: 3.0597 - val_accuracy: 0.4400\n",
            "Epoch 15/300\n",
            "5/5 [==============================] - 6s 1s/step - loss: 1.3742 - accuracy: 0.6333 - val_loss: 2.7032 - val_accuracy: 0.4333\n",
            "Epoch 16/300\n",
            "5/5 [==============================] - 6s 1s/step - loss: 1.3453 - accuracy: 0.7133 - val_loss: 2.3899 - val_accuracy: 0.4400\n",
            "Epoch 17/300\n",
            "5/5 [==============================] - 5s 1s/step - loss: 1.1620 - accuracy: 0.7400 - val_loss: 1.8715 - val_accuracy: 0.4667\n",
            "Epoch 18/300\n",
            "5/5 [==============================] - 5s 1s/step - loss: 1.0285 - accuracy: 0.8733 - val_loss: 2.0411 - val_accuracy: 0.4600\n",
            "Epoch 19/300\n",
            "5/5 [==============================] - 5s 1s/step - loss: 0.8181 - accuracy: 0.9533 - val_loss: 2.7993 - val_accuracy: 0.4733\n",
            "Epoch 20/300\n",
            "5/5 [==============================] - 5s 1s/step - loss: 0.7762 - accuracy: 0.9200 - val_loss: 3.5816 - val_accuracy: 0.4400\n",
            "Epoch 21/300\n",
            "5/5 [==============================] - 5s 1s/step - loss: 0.6275 - accuracy: 0.9533 - val_loss: 2.9579 - val_accuracy: 0.4667\n",
            "Epoch 22/300\n",
            "5/5 [==============================] - 5s 1s/step - loss: 0.5699 - accuracy: 0.9533 - val_loss: 4.1561 - val_accuracy: 0.4600\n",
            "Epoch 23/300\n",
            "5/5 [==============================] - 5s 1s/step - loss: 0.6754 - accuracy: 0.9333 - val_loss: 2.6696 - val_accuracy: 0.4333\n",
            "Epoch 24/300\n",
            "5/5 [==============================] - 5s 1s/step - loss: 0.5244 - accuracy: 0.9733 - val_loss: 3.4736 - val_accuracy: 0.4600\n",
            "Epoch 25/300\n",
            "5/5 [==============================] - 5s 1s/step - loss: 0.4398 - accuracy: 0.9800 - val_loss: 4.2033 - val_accuracy: 0.4667\n",
            "Epoch 26/300\n",
            "5/5 [==============================] - 6s 1s/step - loss: 0.3605 - accuracy: 0.9933 - val_loss: 3.7020 - val_accuracy: 0.4867\n",
            "Epoch 27/300\n",
            "5/5 [==============================] - 6s 1s/step - loss: 0.3584 - accuracy: 0.9933 - val_loss: 3.5143 - val_accuracy: 0.4867\n",
            "Epoch 28/300\n",
            "5/5 [==============================] - 5s 1s/step - loss: 0.3446 - accuracy: 0.9733 - val_loss: 3.8547 - val_accuracy: 0.4867\n",
            "Epoch 29/300\n",
            "5/5 [==============================] - ETA: 0s - loss: 0.3001 - accuracy: 1.0000\n",
            "Reached 99.5% accuracy so cancelling training!\n",
            "5/5 [==============================] - 5s 1s/step - loss: 0.3001 - accuracy: 1.0000 - val_loss: 4.3917 - val_accuracy: 0.4667\n"
          ]
        }
      ],
      "source": [
        "# Training model\n",
        "history = model.fit(training_padded,\n",
        "                    target_training,\n",
        "                    epochs=epochs,\n",
        "                    callbacks = [callbacks],\n",
        "                    validation_data = (validation_padded, target_validation))"
      ]
    },
    {
      "cell_type": "code",
      "execution_count": 118,
      "metadata": {
        "colab": {
          "base_uri": "https://localhost:8080/",
          "height": 545
        },
        "id": "c7ntmrdhKu75",
        "outputId": "911c9511-923c-452c-da0f-27e7f88b2394"
      },
      "outputs": [
        {
          "data": {
            "image/png": "[encoded data removed]",
            "text/plain": [
              "<Figure size 432x288 with 1 Axes>"
            ]
          },
          "metadata": {
            "needs_background": "light"
          },
          "output_type": "display_data"
        },
        {
          "data": {
            "image/png": "[encoded data removed]",
            "text/plain": [
              "<Figure size 432x288 with 1 Axes>"
            ]
          },
          "metadata": {
            "needs_background": "light"
          },
          "output_type": "display_data"
        }
      ],
      "source": [
        "# Plotting accuracy and loss\n",
        "import matplotlib.pyplot as plt\n",
        "acc = history.history['accuracy']\n",
        "loss = history.history['loss']\n",
        "val_loss = history.history['val_loss']\n",
        "val_acc = history.history['val_accuracy']\n",
        "\n",
        "epochs = range(len(acc))\n",
        "\n",
        "plt.plot(epochs, acc, 'b', label='Training accuracy')\n",
        "plt.plot(epochs, val_acc, 'r', label='Validation accuracy')\n",
        "plt.title('Acccuracy')\n",
        "plt.legend()\n",
        "\n",
        "plt.figure()\n",
        "plt.plot(epochs, loss, 'b', label='Training Loss')\n",
        "plt.plot(epochs, val_loss, 'r', label='Validation Loss')\n",
        "plt.title('Loss')\n",
        "plt.legend()\n",
        "\n",
        "plt.show()"
      ]
    },
    {
      "cell_type": "code",
      "execution_count": 119,
      "metadata": {
        "colab": {
          "base_uri": "https://localhost:8080/"
        },
        "id": "GKCptidZKxjg",
        "outputId": "3decbcb2-9bf8-4364-bacf-64a3d50d2ac7"
      },
      "outputs": [
        {
          "name": "stdout",
          "output_type": "stream",
          "text": [
            "WARNING:tensorflow:5 out of the last 5 calls to <function Model.make_predict_function.<locals>.predict_function at 0x000002D71169A430> triggered tf.function retracing. Tracing is expensive and the excessive number of tracings could be due to (1) creating @tf.function repeatedly in a loop, (2) passing tensors with different shapes, (3) passing Python objects instead of tensors. For (1), please define your @tf.function outside of the loop. For (2), @tf.function has reduce_retracing=True option that can avoid unnecessary retracing. For (3), please refer to https://www.tensorflow.org/guide/function#controlling_retracing and https://www.tensorflow.org/api_docs/python/tf/function for  more details.\n"
          ]
        },
        {
          "name": "stderr",
          "output_type": "stream",
          "text": [
            "WARNING:tensorflow:5 out of the last 5 calls to <function Model.make_predict_function.<locals>.predict_function at 0x000002D71169A430> triggered tf.function retracing. Tracing is expensive and the excessive number of tracings could be due to (1) creating @tf.function repeatedly in a loop, (2) passing tensors with different shapes, (3) passing Python objects instead of tensors. For (1), please define your @tf.function outside of the loop. For (2), @tf.function has reduce_retracing=True option that can avoid unnecessary retracing. For (3), please refer to https://www.tensorflow.org/guide/function#controlling_retracing and https://www.tensorflow.org/api_docs/python/tf/function for  more details.\n"
          ]
        },
        {
          "data": {
            "text/plain": [
              "['Pariwisata Kuliner']"
            ]
          },
          "execution_count": 119,
          "metadata": {},
          "output_type": "execute_result"
        }
      ],
      "source": [
        "# Inference\n",
        "text = list_tweet\n",
        "seq =  tokenizer.texts_to_sequences([text])\n",
        "pad = pad_sequences(seq, maxlen=max_length, padding=padding_type, truncating=trunc_type)\n",
        "predicted = np.argmax(model.predict(pad, verbose=0))\n",
        "target_index_word[predicted].split(\"\\n\")"
      ]
    },
    {
      "cell_type": "code",
      "execution_count": 120,
      "metadata": {},
      "outputs": [
        {
          "name": "stderr",
          "output_type": "stream",
          "text": [
            "WARNING:absl:Found untraced functions such as lstm_cell_23_layer_call_fn, lstm_cell_23_layer_call_and_return_conditional_losses, lstm_cell_24_layer_call_fn, lstm_cell_24_layer_call_and_return_conditional_losses, lstm_cell_21_layer_call_fn while saving (showing 5 of 8). These functions will not be directly callable after loading.\n"
          ]
        },
        {
          "name": "stdout",
          "output_type": "stream",
          "text": [
            "INFO:tensorflow:Assets written to: C:\\Users\\Aliif\\AppData\\Local\\Temp\\tmp947qqrkj\\assets\n"
          ]
        },
        {
          "name": "stderr",
          "output_type": "stream",
          "text": [
            "INFO:tensorflow:Assets written to: C:\\Users\\Aliif\\AppData\\Local\\Temp\\tmp947qqrkj\\assets\n"
          ]
        },
        {
          "data": {
            "text/plain": [
              "6031392"
            ]
          },
          "execution_count": 120,
          "metadata": {},
          "output_type": "execute_result"
        }
      ],
      "source": [
        "# Saves model to .h5 format\n",
        "model.save(root_path + '/model/model.h5')\n",
        "\n",
        "# tflite converter and the optimizations\n",
        "converter = tf.lite.TFLiteConverter.from_keras_model(model)\n",
        "converter.optimizations = [tf.lite.Optimize.DEFAULT]\n",
        "converter.experimental_new_converter=True\n",
        "converter.target_spec.supported_ops = [tf.lite.OpsSet.TFLITE_BUILTINS, tf.lite.OpsSet.SELECT_TF_OPS]\n",
        "\n",
        "# Converts model to .tflite format\n",
        "tfmodel = converter.convert()\n",
        "open(root_path + '\\model\\model.tflite', 'wb').write(tfmodel)"
      ]
    }
  ],
  "metadata": {
    "colab": {
      "collapsed_sections": [],
      "name": "Model.ipynb",
      "provenance": []
    },
    "interpreter": {
      "hash": "9ebcd3210ff354a4f8c169c1607f0ab8c93e43cfe97ab1c5627afacb43cceeaf"
    },
    "kernelspec": {
      "display_name": "Python 3.9.6 64-bit",
      "language": "python",
      "name": "python3"
    },
    "language_info": {
      "codemirror_mode": {
        "name": "ipython",
        "version": 3
      },
      "file_extension": ".py",
      "mimetype": "text/x-python",
      "name": "python",
      "nbconvert_exporter": "python",
      "pygments_lexer": "ipython3",
      "version": "3.9.6"
    }
  },
  "nbformat": 4,
  "nbformat_minor": 0
}
